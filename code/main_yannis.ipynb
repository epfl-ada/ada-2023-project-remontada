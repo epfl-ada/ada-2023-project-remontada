{
 "cells": [
  {
   "cell_type": "code",
   "execution_count": 1,
   "metadata": {},
   "outputs": [],
   "source": [
    "import pandas as pd\n",
    "import numpy as np\n",
    "import seaborn as sns\n",
    "import matplotlib.pyplot as plt\n",
    "from copy import deepcopy\n",
    "from statsmodels.stats import diagnostic\n",
    "from scipy import stats\n",
    "from datetime import datetime\n",
    "import time\n",
    "%matplotlib inline\n",
    "\n",
    "%load_ext autoreload\n",
    "%autoreload 2"
   ]
  },
  {
   "cell_type": "code",
   "execution_count": 2,
   "metadata": {},
   "outputs": [],
   "source": [
    "%reload_ext autoreload"
   ]
  },
  {
   "cell_type": "code",
   "execution_count": 3,
   "metadata": {},
   "outputs": [],
   "source": [
    "#import functions\n",
    "from read.read_functions import *\n",
    "from read.pickle_functions import *\n",
    "from create_all_users import create_all_users\n",
    "from create_rating_statistic import create_ratings_stat\n",
    "\n",
    "from cleaning_functions.matched_beer import *\n",
    "from cleaning_functions.rate_beer import *\n",
    "from cleaning_functions.advocate import *\n",
    "\n",
    "from compute_experts import *"
   ]
  },
  {
   "cell_type": "code",
   "execution_count": 4,
   "metadata": {
    "tags": []
   },
   "outputs": [],
   "source": [
    "beer_advocate_path = '../datas/BeerAdvocate/'\n",
    "matched_beer_data_path = '../datas/matched_beer_data/'\n",
    "rate_beer_path = '../datas/RateBeer/'\n",
    "\n",
    "advocate_beers_path = beer_advocate_path + 'beers.csv'\n",
    "advovate_breweries_path = beer_advocate_path + 'breweries.csv'\n",
    "advocate_ratings_path = beer_advocate_path + 'ratings.txt'\n",
    "advocate_reviews_path = beer_advocate_path + 'reviews.txt'\n",
    "advocate_users_path = beer_advocate_path + 'users.csv'\n",
    "\n",
    "matched_beer_beers = matched_beer_data_path + 'beers.csv'\n",
    "matched_beer_breweries = matched_beer_data_path + 'breweries.csv'\n",
    "matched_beer_ratings_ba = matched_beer_data_path + 'ratings_ba.txt'\n",
    "matched_beer_ratings_rb = matched_beer_data_path + 'ratings_rb.txt'\n",
    "matched_beer_ratings = matched_beer_data_path + 'ratings.csv'\n",
    "matched_beer_users_approx = matched_beer_data_path + 'users_approx.csv'\n",
    "matched_beer_users = matched_beer_data_path + 'users.csv'\n",
    "\n",
    "rate_beer_beers = rate_beer_path + 'beers.csv'\n",
    "rate_beer_breweries = rate_beer_path + 'breweries.csv'\n",
    "rate_beer_users = rate_beer_path + 'users.csv'\n"
   ]
  },
  {
   "cell_type": "code",
   "execution_count": 5,
   "metadata": {},
   "outputs": [],
   "source": [
    "beer_advocate_path = '../datas/BeerAdvocate/pickle/'\n",
    "matched_beer_data_path = '../datas/matched_beer_data/pickle'\n",
    "rate_beer_path = '../datas/RateBeer/pickle'\n",
    "\n",
    "advocate_beers_path_pickle = beer_advocate_path + 'beers.csv'\n",
    "advovate_breweries_path_pickle = beer_advocate_path + 'breweries.csv'\n",
    "advocate_ratings_path_pickle = beer_advocate_path + 'ratings.txt'\n",
    "advocate_reviews_path_pickle = beer_advocate_path + 'reviews.txt'\n",
    "advocate_users_path_pickle = beer_advocate_path + 'users.csv'\n",
    "\n",
    "matched_beer_beers_pickle = matched_beer_data_path + 'beers.csv'\n",
    "matched_beer_breweries_pickle = matched_beer_data_path + 'breweries.csv'\n",
    "matched_beer_ratings_ba_pickle = matched_beer_data_path + 'ratings_ba.txt'\n",
    "matched_beer_ratings_rb_pickle = matched_beer_data_path + 'ratings_rb.txt'\n",
    "matched_beer_ratings_pickle = matched_beer_data_path + 'ratings.csv'\n",
    "matched_beer_users_approx_pickle = matched_beer_data_path + 'users_approx.csv'\n",
    "matched_beer_users_pickle = matched_beer_data_path + 'users.csv'\n",
    "\n",
    "rate_beer_beers_pickle = rate_beer_path + 'beers.csv'\n",
    "rate_beer_breweries_pickle = rate_beer_path + 'breweries.csv'\n",
    "rate_beer_users_pickle = rate_beer_path + 'users.csv'"
   ]
  },
  {
   "cell_type": "code",
   "execution_count": 6,
   "metadata": {},
   "outputs": [],
   "source": [
    "#Define list of datas for each website\n",
    "datas_matched_beer_names = ['df_matched_beer_beers','df_matched_beer_breweries','df_matched_beer_ratings_ba','df_matched_beer_ratings_rb','df_matched_beer_ratings','df_matched_beer_users_approx','df_matched_beer_users']\n",
    "datas_advocate_names = ['df_advocate_beers','df_advocate_breweries','df_advocate_ratings','df_advocate_reviews','df_advocate_users']\n",
    "datas_rate_beer_names = ['df_rate_beer_beers','df_rate_beer_breweries','df_rate_beer_users','df_rate_beer_ratings','df_rate_beer_ratings']\n",
    "data_merge = ['df_all_users', 'df_ratings_stat_sampled', 'df_ratings_stat']"
   ]
  },
  {
   "cell_type": "markdown",
   "metadata": {},
   "source": [
    "### Import datas stored as pickle"
   ]
  },
  {
   "cell_type": "code",
   "execution_count": 7,
   "metadata": {
    "scrolled": true
   },
   "outputs": [
    {
     "name": "stdout",
     "output_type": "stream",
     "text": [
      "Loading df_matched_beer_beers...\n",
      "Loading df_matched_beer_breweries...\n",
      "Loading df_matched_beer_ratings_ba...\n",
      "Loading df_matched_beer_ratings_rb...\n",
      "Loading df_matched_beer_ratings...\n",
      "Loading df_matched_beer_users_approx...\n",
      "Loading df_matched_beer_users...\n",
      "Loading df_rate_beer_beers...\n",
      "Loading df_rate_beer_breweries...\n",
      "Loading df_rate_beer_users...\n",
      "Loading df_rate_beer_ratings...\n",
      "Loading df_rate_beer_ratings...\n",
      "Loading df_advocate_beers...\n",
      "Loading df_advocate_breweries...\n",
      "Loading df_advocate_ratings...\n",
      "Loading df_advocate_reviews...\n",
      "Loading df_advocate_users...\n"
     ]
    }
   ],
   "source": [
    "df_matched_beer_beers, df_matched_beer_breweries, df_matched_beer_ratings_ba, df_matched_beer_ratings_rb, df_matched_beer_ratings, df_matched_beer_users_approx, df_matched_beer_users = load_datas('matched_beer_data', datas_matched_beer_names)\n",
    "df_rate_beer_beers, df_rate_beer_breweries, df_rate_beer_users, df_rate_beer_ratings, df_rate_beer_reviews = load_datas('RateBeer', datas_rate_beer_names)\n",
    "df_advocate_beers, df_advocate_breweries, df_advocate_ratings, df_advocate_reviews, df_advocate_users = load_datas('BeerAdvocate', datas_advocate_names)"
   ]
  },
  {
   "cell_type": "code",
   "execution_count": 7,
   "metadata": {},
   "outputs": [
    {
     "name": "stdout",
     "output_type": "stream",
     "text": [
      "Loading df_all_users...\n",
      "Loading df_ratings_stat_sampled...\n",
      "Loading df_ratings_stat...\n"
     ]
    }
   ],
   "source": [
    "# open merge datasets\n",
    "df_all_users, df_ratings_stat_sampled, df_ratings_stat = load_datas('Results', data_merge)"
   ]
  },
  {
   "cell_type": "markdown",
   "metadata": {},
   "source": [
    "## Preprocessing data"
   ]
  },
  {
   "cell_type": "code",
   "execution_count": 9,
   "metadata": {},
   "outputs": [],
   "source": [
    "mb_users = deepcopy(df_matched_beer_users)\n",
    "users, mb_users_index = clean_mb_users(mb_users)\n",
    "advocate_users = deepcopy(df_advocate_users)\n",
    "advocate_users = clean_advocate_users(advocate_users)\n",
    "rb_users = deepcopy(df_rate_beer_users)\n",
    "rb_users = clean_rb_users(rb_users)"
   ]
  },
  {
   "cell_type": "code",
   "execution_count": 10,
   "metadata": {},
   "outputs": [
    {
     "data": {
      "text/html": [
       "<div>\n",
       "<style scoped>\n",
       "    .dataframe tbody tr th:only-of-type {\n",
       "        vertical-align: middle;\n",
       "    }\n",
       "\n",
       "    .dataframe tbody tr th {\n",
       "        vertical-align: top;\n",
       "    }\n",
       "\n",
       "    .dataframe thead th {\n",
       "        text-align: right;\n",
       "    }\n",
       "</style>\n",
       "<table border=\"1\" class=\"dataframe\">\n",
       "  <thead>\n",
       "    <tr style=\"text-align: right;\">\n",
       "      <th></th>\n",
       "      <th>ba_user_name</th>\n",
       "      <th>rb_user_name</th>\n",
       "      <th>user_id</th>\n",
       "      <th>location</th>\n",
       "      <th>joined</th>\n",
       "    </tr>\n",
       "  </thead>\n",
       "  <tbody>\n",
       "    <tr>\n",
       "      <th>0</th>\n",
       "      <td>nmann08</td>\n",
       "      <td>nmann08</td>\n",
       "      <td>nmann08.184925</td>\n",
       "      <td>United States, Washington</td>\n",
       "      <td>2008-01-07 11:00:00</td>\n",
       "    </tr>\n",
       "    <tr>\n",
       "      <th>1</th>\n",
       "      <td>StJamesGate</td>\n",
       "      <td>NaN</td>\n",
       "      <td>stjamesgate.163714</td>\n",
       "      <td>United States, New York</td>\n",
       "      <td>2007-10-08 10:00:00</td>\n",
       "    </tr>\n",
       "    <tr>\n",
       "      <th>2</th>\n",
       "      <td>mdagnew</td>\n",
       "      <td>NaN</td>\n",
       "      <td>mdagnew.19527</td>\n",
       "      <td>Northern Ireland</td>\n",
       "      <td>2005-05-18 10:00:00</td>\n",
       "    </tr>\n",
       "    <tr>\n",
       "      <th>3</th>\n",
       "      <td>helloloser12345</td>\n",
       "      <td>NaN</td>\n",
       "      <td>helloloser12345.10867</td>\n",
       "      <td>Northern Ireland</td>\n",
       "      <td>2004-11-25 11:00:00</td>\n",
       "    </tr>\n",
       "    <tr>\n",
       "      <th>4</th>\n",
       "      <td>cypressbob</td>\n",
       "      <td>NaN</td>\n",
       "      <td>cypressbob.3708</td>\n",
       "      <td>Northern Ireland</td>\n",
       "      <td>2003-11-20 11:00:00</td>\n",
       "    </tr>\n",
       "  </tbody>\n",
       "</table>\n",
       "</div>"
      ],
      "text/plain": [
       "      ba_user_name rb_user_name                user_id  \\\n",
       "0          nmann08      nmann08         nmann08.184925   \n",
       "1      StJamesGate          NaN     stjamesgate.163714   \n",
       "2          mdagnew          NaN          mdagnew.19527   \n",
       "3  helloloser12345          NaN  helloloser12345.10867   \n",
       "4       cypressbob          NaN        cypressbob.3708   \n",
       "\n",
       "                    location              joined  \n",
       "0  United States, Washington 2008-01-07 11:00:00  \n",
       "1    United States, New York 2007-10-08 10:00:00  \n",
       "2           Northern Ireland 2005-05-18 10:00:00  \n",
       "3           Northern Ireland 2004-11-25 11:00:00  \n",
       "4           Northern Ireland 2003-11-20 11:00:00  "
      ]
     },
     "execution_count": 10,
     "metadata": {},
     "output_type": "execute_result"
    }
   ],
   "source": [
    "df_all_users.head()"
   ]
  },
  {
   "cell_type": "code",
   "execution_count": 11,
   "metadata": {
    "scrolled": false
   },
   "outputs": [
    {
     "data": {
      "text/html": [
       "<div>\n",
       "<style scoped>\n",
       "    .dataframe tbody tr th:only-of-type {\n",
       "        vertical-align: middle;\n",
       "    }\n",
       "\n",
       "    .dataframe tbody tr th {\n",
       "        vertical-align: top;\n",
       "    }\n",
       "\n",
       "    .dataframe thead th {\n",
       "        text-align: right;\n",
       "    }\n",
       "</style>\n",
       "<table border=\"1\" class=\"dataframe\">\n",
       "  <thead>\n",
       "    <tr style=\"text-align: right;\">\n",
       "      <th></th>\n",
       "      <th>beer_name</th>\n",
       "      <th>beer_id</th>\n",
       "      <th>brewery_name</th>\n",
       "      <th>brewery_id</th>\n",
       "      <th>style</th>\n",
       "      <th>abv</th>\n",
       "      <th>date</th>\n",
       "      <th>ba_user_name</th>\n",
       "      <th>user_id</th>\n",
       "      <th>appearance</th>\n",
       "      <th>aroma</th>\n",
       "      <th>palate</th>\n",
       "      <th>taste</th>\n",
       "      <th>overall</th>\n",
       "      <th>rating</th>\n",
       "      <th>rb_user_name</th>\n",
       "      <th>location</th>\n",
       "      <th>joined</th>\n",
       "    </tr>\n",
       "  </thead>\n",
       "  <tbody>\n",
       "    <tr>\n",
       "      <th>0</th>\n",
       "      <td>Régab</td>\n",
       "      <td>142544</td>\n",
       "      <td>Societe des Brasseries du Gabon (SOBRAGA)</td>\n",
       "      <td>37262</td>\n",
       "      <td>Euro Pale Lager</td>\n",
       "      <td>4.5</td>\n",
       "      <td>1440064800</td>\n",
       "      <td>nmann08</td>\n",
       "      <td>nmann08.184925</td>\n",
       "      <td>3.25</td>\n",
       "      <td>2.75</td>\n",
       "      <td>3.25</td>\n",
       "      <td>2.75</td>\n",
       "      <td>3.00</td>\n",
       "      <td>2.88</td>\n",
       "      <td>nmann08</td>\n",
       "      <td>United States, Washington</td>\n",
       "      <td>2008-01-07 11:00:00</td>\n",
       "    </tr>\n",
       "    <tr>\n",
       "      <th>1</th>\n",
       "      <td>O-Ho-Ho</td>\n",
       "      <td>120824</td>\n",
       "      <td>Otley Brewing Company</td>\n",
       "      <td>13092</td>\n",
       "      <td>Extra Special / Strong Bitter (ESB)</td>\n",
       "      <td>5.0</td>\n",
       "      <td>1447498800</td>\n",
       "      <td>nmann08</td>\n",
       "      <td>nmann08.184925</td>\n",
       "      <td>4.00</td>\n",
       "      <td>3.50</td>\n",
       "      <td>3.75</td>\n",
       "      <td>3.50</td>\n",
       "      <td>3.50</td>\n",
       "      <td>3.56</td>\n",
       "      <td>nmann08</td>\n",
       "      <td>United States, Washington</td>\n",
       "      <td>2008-01-07 11:00:00</td>\n",
       "    </tr>\n",
       "    <tr>\n",
       "      <th>2</th>\n",
       "      <td>Ola Dubh Special Reserve 18</td>\n",
       "      <td>47581</td>\n",
       "      <td>Harviestoun Brewery Ltd.</td>\n",
       "      <td>323</td>\n",
       "      <td>Old Ale</td>\n",
       "      <td>8.0</td>\n",
       "      <td>1321614000</td>\n",
       "      <td>nmann08</td>\n",
       "      <td>nmann08.184925</td>\n",
       "      <td>NaN</td>\n",
       "      <td>NaN</td>\n",
       "      <td>NaN</td>\n",
       "      <td>NaN</td>\n",
       "      <td>NaN</td>\n",
       "      <td>4.50</td>\n",
       "      <td>nmann08</td>\n",
       "      <td>United States, Washington</td>\n",
       "      <td>2008-01-07 11:00:00</td>\n",
       "    </tr>\n",
       "    <tr>\n",
       "      <th>3</th>\n",
       "      <td>Ola Dubh Special Reserve 21</td>\n",
       "      <td>93113</td>\n",
       "      <td>Harviestoun Brewery Ltd.</td>\n",
       "      <td>323</td>\n",
       "      <td>Old Ale</td>\n",
       "      <td>10.5</td>\n",
       "      <td>1367575200</td>\n",
       "      <td>nmann08</td>\n",
       "      <td>nmann08.184925</td>\n",
       "      <td>NaN</td>\n",
       "      <td>NaN</td>\n",
       "      <td>NaN</td>\n",
       "      <td>NaN</td>\n",
       "      <td>NaN</td>\n",
       "      <td>3.75</td>\n",
       "      <td>nmann08</td>\n",
       "      <td>United States, Washington</td>\n",
       "      <td>2008-01-07 11:00:00</td>\n",
       "    </tr>\n",
       "    <tr>\n",
       "      <th>4</th>\n",
       "      <td>Old Engine Oil Black Ale</td>\n",
       "      <td>875</td>\n",
       "      <td>Harviestoun Brewery Ltd.</td>\n",
       "      <td>323</td>\n",
       "      <td>English Porter</td>\n",
       "      <td>6.0</td>\n",
       "      <td>1422097200</td>\n",
       "      <td>nmann08</td>\n",
       "      <td>nmann08.184925</td>\n",
       "      <td>4.00</td>\n",
       "      <td>3.50</td>\n",
       "      <td>3.75</td>\n",
       "      <td>4.00</td>\n",
       "      <td>3.75</td>\n",
       "      <td>3.81</td>\n",
       "      <td>nmann08</td>\n",
       "      <td>United States, Washington</td>\n",
       "      <td>2008-01-07 11:00:00</td>\n",
       "    </tr>\n",
       "  </tbody>\n",
       "</table>\n",
       "</div>"
      ],
      "text/plain": [
       "                     beer_name beer_id  \\\n",
       "0                        Régab  142544   \n",
       "1                      O-Ho-Ho  120824   \n",
       "2  Ola Dubh Special Reserve 18   47581   \n",
       "3  Ola Dubh Special Reserve 21   93113   \n",
       "4     Old Engine Oil Black Ale     875   \n",
       "\n",
       "                                brewery_name brewery_id  \\\n",
       "0  Societe des Brasseries du Gabon (SOBRAGA)      37262   \n",
       "1                      Otley Brewing Company      13092   \n",
       "2                   Harviestoun Brewery Ltd.        323   \n",
       "3                   Harviestoun Brewery Ltd.        323   \n",
       "4                   Harviestoun Brewery Ltd.        323   \n",
       "\n",
       "                                 style   abv        date ba_user_name  \\\n",
       "0                      Euro Pale Lager   4.5  1440064800      nmann08   \n",
       "1  Extra Special / Strong Bitter (ESB)   5.0  1447498800      nmann08   \n",
       "2                              Old Ale   8.0  1321614000      nmann08   \n",
       "3                              Old Ale  10.5  1367575200      nmann08   \n",
       "4                       English Porter   6.0  1422097200      nmann08   \n",
       "\n",
       "          user_id  appearance  aroma  palate  taste  overall  rating  \\\n",
       "0  nmann08.184925        3.25   2.75    3.25   2.75     3.00    2.88   \n",
       "1  nmann08.184925        4.00   3.50    3.75   3.50     3.50    3.56   \n",
       "2  nmann08.184925         NaN    NaN     NaN    NaN      NaN    4.50   \n",
       "3  nmann08.184925         NaN    NaN     NaN    NaN      NaN    3.75   \n",
       "4  nmann08.184925        4.00   3.50    3.75   4.00     3.75    3.81   \n",
       "\n",
       "  rb_user_name                   location              joined  \n",
       "0      nmann08  United States, Washington 2008-01-07 11:00:00  \n",
       "1      nmann08  United States, Washington 2008-01-07 11:00:00  \n",
       "2      nmann08  United States, Washington 2008-01-07 11:00:00  \n",
       "3      nmann08  United States, Washington 2008-01-07 11:00:00  \n",
       "4      nmann08  United States, Washington 2008-01-07 11:00:00  "
      ]
     },
     "execution_count": 11,
     "metadata": {},
     "output_type": "execute_result"
    }
   ],
   "source": [
    "df_ratings_stat.head()"
   ]
  },
  {
   "cell_type": "code",
   "execution_count": 8,
   "metadata": {},
   "outputs": [
    {
     "name": "stderr",
     "output_type": "stream",
     "text": [
      "C:\\Users\\ylaar\\AppData\\Local\\Temp\\ipykernel_17048\\3569486997.py:1: FutureWarning: The behavior of 'to_datetime' with 'unit' when parsing strings is deprecated. In a future version, strings will be parsed as datetime strings, matching the behavior without a 'unit'. To retain the old behavior, explicitly cast ints or floats to numeric type before calling to_datetime.\n",
      "  df_ratings_stat.date = pd.to_datetime(df_ratings_stat.date, unit='s')\n"
     ]
    },
    {
     "data": {
      "text/html": [
       "<div>\n",
       "<style scoped>\n",
       "    .dataframe tbody tr th:only-of-type {\n",
       "        vertical-align: middle;\n",
       "    }\n",
       "\n",
       "    .dataframe tbody tr th {\n",
       "        vertical-align: top;\n",
       "    }\n",
       "\n",
       "    .dataframe thead th {\n",
       "        text-align: right;\n",
       "    }\n",
       "</style>\n",
       "<table border=\"1\" class=\"dataframe\">\n",
       "  <thead>\n",
       "    <tr style=\"text-align: right;\">\n",
       "      <th></th>\n",
       "      <th>beer_name</th>\n",
       "      <th>beer_id</th>\n",
       "      <th>brewery_name</th>\n",
       "      <th>brewery_id</th>\n",
       "      <th>style</th>\n",
       "      <th>abv</th>\n",
       "      <th>date</th>\n",
       "      <th>ba_user_name</th>\n",
       "      <th>user_id</th>\n",
       "      <th>appearance</th>\n",
       "      <th>aroma</th>\n",
       "      <th>palate</th>\n",
       "      <th>taste</th>\n",
       "      <th>overall</th>\n",
       "      <th>rating</th>\n",
       "      <th>rb_user_name</th>\n",
       "      <th>location</th>\n",
       "      <th>joined</th>\n",
       "      <th>year</th>\n",
       "    </tr>\n",
       "  </thead>\n",
       "  <tbody>\n",
       "    <tr>\n",
       "      <th>0</th>\n",
       "      <td>Régab</td>\n",
       "      <td>142544</td>\n",
       "      <td>Societe des Brasseries du Gabon (SOBRAGA)</td>\n",
       "      <td>37262</td>\n",
       "      <td>Euro Pale Lager</td>\n",
       "      <td>4.5</td>\n",
       "      <td>2015-08-20 09:59:28</td>\n",
       "      <td>nmann08</td>\n",
       "      <td>nmann08.184925</td>\n",
       "      <td>3.25</td>\n",
       "      <td>2.75</td>\n",
       "      <td>3.25</td>\n",
       "      <td>2.75</td>\n",
       "      <td>3.00</td>\n",
       "      <td>2.88</td>\n",
       "      <td>nmann08</td>\n",
       "      <td>United States, Washington</td>\n",
       "      <td>2008-01-07 11:00:00</td>\n",
       "      <td>2015</td>\n",
       "    </tr>\n",
       "    <tr>\n",
       "      <th>1</th>\n",
       "      <td>O-Ho-Ho</td>\n",
       "      <td>120824</td>\n",
       "      <td>Otley Brewing Company</td>\n",
       "      <td>13092</td>\n",
       "      <td>Extra Special / Strong Bitter (ESB)</td>\n",
       "      <td>5.0</td>\n",
       "      <td>2015-11-14 10:59:12</td>\n",
       "      <td>nmann08</td>\n",
       "      <td>nmann08.184925</td>\n",
       "      <td>4.00</td>\n",
       "      <td>3.50</td>\n",
       "      <td>3.75</td>\n",
       "      <td>3.50</td>\n",
       "      <td>3.50</td>\n",
       "      <td>3.56</td>\n",
       "      <td>nmann08</td>\n",
       "      <td>United States, Washington</td>\n",
       "      <td>2008-01-07 11:00:00</td>\n",
       "      <td>2015</td>\n",
       "    </tr>\n",
       "    <tr>\n",
       "      <th>2</th>\n",
       "      <td>Ola Dubh Special Reserve 18</td>\n",
       "      <td>47581</td>\n",
       "      <td>Harviestoun Brewery Ltd.</td>\n",
       "      <td>323</td>\n",
       "      <td>Old Ale</td>\n",
       "      <td>8.0</td>\n",
       "      <td>2011-11-18 10:59:12</td>\n",
       "      <td>nmann08</td>\n",
       "      <td>nmann08.184925</td>\n",
       "      <td>NaN</td>\n",
       "      <td>NaN</td>\n",
       "      <td>NaN</td>\n",
       "      <td>NaN</td>\n",
       "      <td>NaN</td>\n",
       "      <td>4.50</td>\n",
       "      <td>nmann08</td>\n",
       "      <td>United States, Washington</td>\n",
       "      <td>2008-01-07 11:00:00</td>\n",
       "      <td>2011</td>\n",
       "    </tr>\n",
       "    <tr>\n",
       "      <th>3</th>\n",
       "      <td>Ola Dubh Special Reserve 21</td>\n",
       "      <td>93113</td>\n",
       "      <td>Harviestoun Brewery Ltd.</td>\n",
       "      <td>323</td>\n",
       "      <td>Old Ale</td>\n",
       "      <td>10.5</td>\n",
       "      <td>2013-05-03 09:59:28</td>\n",
       "      <td>nmann08</td>\n",
       "      <td>nmann08.184925</td>\n",
       "      <td>NaN</td>\n",
       "      <td>NaN</td>\n",
       "      <td>NaN</td>\n",
       "      <td>NaN</td>\n",
       "      <td>NaN</td>\n",
       "      <td>3.75</td>\n",
       "      <td>nmann08</td>\n",
       "      <td>United States, Washington</td>\n",
       "      <td>2008-01-07 11:00:00</td>\n",
       "      <td>2013</td>\n",
       "    </tr>\n",
       "    <tr>\n",
       "      <th>4</th>\n",
       "      <td>Old Engine Oil Black Ale</td>\n",
       "      <td>875</td>\n",
       "      <td>Harviestoun Brewery Ltd.</td>\n",
       "      <td>323</td>\n",
       "      <td>English Porter</td>\n",
       "      <td>6.0</td>\n",
       "      <td>2015-01-24 10:59:12</td>\n",
       "      <td>nmann08</td>\n",
       "      <td>nmann08.184925</td>\n",
       "      <td>4.00</td>\n",
       "      <td>3.50</td>\n",
       "      <td>3.75</td>\n",
       "      <td>4.00</td>\n",
       "      <td>3.75</td>\n",
       "      <td>3.81</td>\n",
       "      <td>nmann08</td>\n",
       "      <td>United States, Washington</td>\n",
       "      <td>2008-01-07 11:00:00</td>\n",
       "      <td>2015</td>\n",
       "    </tr>\n",
       "  </tbody>\n",
       "</table>\n",
       "</div>"
      ],
      "text/plain": [
       "                     beer_name beer_id  \\\n",
       "0                        Régab  142544   \n",
       "1                      O-Ho-Ho  120824   \n",
       "2  Ola Dubh Special Reserve 18   47581   \n",
       "3  Ola Dubh Special Reserve 21   93113   \n",
       "4     Old Engine Oil Black Ale     875   \n",
       "\n",
       "                                brewery_name brewery_id  \\\n",
       "0  Societe des Brasseries du Gabon (SOBRAGA)      37262   \n",
       "1                      Otley Brewing Company      13092   \n",
       "2                   Harviestoun Brewery Ltd.        323   \n",
       "3                   Harviestoun Brewery Ltd.        323   \n",
       "4                   Harviestoun Brewery Ltd.        323   \n",
       "\n",
       "                                 style   abv                date ba_user_name  \\\n",
       "0                      Euro Pale Lager   4.5 2015-08-20 09:59:28      nmann08   \n",
       "1  Extra Special / Strong Bitter (ESB)   5.0 2015-11-14 10:59:12      nmann08   \n",
       "2                              Old Ale   8.0 2011-11-18 10:59:12      nmann08   \n",
       "3                              Old Ale  10.5 2013-05-03 09:59:28      nmann08   \n",
       "4                       English Porter   6.0 2015-01-24 10:59:12      nmann08   \n",
       "\n",
       "          user_id  appearance  aroma  palate  taste  overall  rating  \\\n",
       "0  nmann08.184925        3.25   2.75    3.25   2.75     3.00    2.88   \n",
       "1  nmann08.184925        4.00   3.50    3.75   3.50     3.50    3.56   \n",
       "2  nmann08.184925         NaN    NaN     NaN    NaN      NaN    4.50   \n",
       "3  nmann08.184925         NaN    NaN     NaN    NaN      NaN    3.75   \n",
       "4  nmann08.184925        4.00   3.50    3.75   4.00     3.75    3.81   \n",
       "\n",
       "  rb_user_name                   location              joined  year  \n",
       "0      nmann08  United States, Washington 2008-01-07 11:00:00  2015  \n",
       "1      nmann08  United States, Washington 2008-01-07 11:00:00  2015  \n",
       "2      nmann08  United States, Washington 2008-01-07 11:00:00  2011  \n",
       "3      nmann08  United States, Washington 2008-01-07 11:00:00  2013  \n",
       "4      nmann08  United States, Washington 2008-01-07 11:00:00  2015  "
      ]
     },
     "execution_count": 8,
     "metadata": {},
     "output_type": "execute_result"
    }
   ],
   "source": [
    "df_ratings_stat.date = pd.to_datetime(df_ratings_stat.date, unit='s')\n",
    "df_ratings_stat['year'] = df_ratings_stat['date'].dt.year\n",
    "df_ratings_stat.head()"
   ]
  },
  {
   "cell_type": "markdown",
   "metadata": {},
   "source": [
    "###  Compute is_expert dataframe"
   ]
  },
  {
   "cell_type": "code",
   "execution_count": 9,
   "metadata": {},
   "outputs": [
    {
     "data": {
      "text/html": [
       "<div>\n",
       "<style scoped>\n",
       "    .dataframe tbody tr th:only-of-type {\n",
       "        vertical-align: middle;\n",
       "    }\n",
       "\n",
       "    .dataframe tbody tr th {\n",
       "        vertical-align: top;\n",
       "    }\n",
       "\n",
       "    .dataframe thead th {\n",
       "        text-align: right;\n",
       "    }\n",
       "</style>\n",
       "<table border=\"1\" class=\"dataframe\">\n",
       "  <thead>\n",
       "    <tr style=\"text-align: right;\">\n",
       "      <th></th>\n",
       "      <th>user_id</th>\n",
       "      <th>year</th>\n",
       "      <th>nb_ratings</th>\n",
       "      <th>is_expert</th>\n",
       "    </tr>\n",
       "  </thead>\n",
       "  <tbody>\n",
       "    <tr>\n",
       "      <th>0</th>\n",
       "      <td>2</td>\n",
       "      <td>2000</td>\n",
       "      <td>44</td>\n",
       "      <td>False</td>\n",
       "    </tr>\n",
       "    <tr>\n",
       "      <th>1</th>\n",
       "      <td>2</td>\n",
       "      <td>2001</td>\n",
       "      <td>4</td>\n",
       "      <td>False</td>\n",
       "    </tr>\n",
       "    <tr>\n",
       "      <th>2</th>\n",
       "      <td>2</td>\n",
       "      <td>2002</td>\n",
       "      <td>1</td>\n",
       "      <td>False</td>\n",
       "    </tr>\n",
       "    <tr>\n",
       "      <th>3</th>\n",
       "      <td>3</td>\n",
       "      <td>2000</td>\n",
       "      <td>94</td>\n",
       "      <td>False</td>\n",
       "    </tr>\n",
       "    <tr>\n",
       "      <th>4</th>\n",
       "      <td>3</td>\n",
       "      <td>2001</td>\n",
       "      <td>69</td>\n",
       "      <td>False</td>\n",
       "    </tr>\n",
       "  </tbody>\n",
       "</table>\n",
       "</div>"
      ],
      "text/plain": [
       "  user_id  year  nb_ratings  is_expert\n",
       "0       2  2000          44      False\n",
       "1       2  2001           4      False\n",
       "2       2  2002           1      False\n",
       "3       3  2000          94      False\n",
       "4       3  2001          69      False"
      ]
     },
     "execution_count": 9,
     "metadata": {},
     "output_type": "execute_result"
    }
   ],
   "source": [
    "df_ratings_stat_expert, df_ratings_stat_pivot = compute_experts_table(df_ratings_stat)\n",
    "df_ratings_stat_expert.head()"
   ]
  },
  {
   "cell_type": "code",
   "execution_count": 14,
   "metadata": {},
   "outputs": [
    {
     "data": {
      "text/plain": [
       "year\n",
       "1996     1\n",
       "1998     1\n",
       "1999     1\n",
       "2000     3\n",
       "2001     4\n",
       "2002     4\n",
       "2003    17\n",
       "2004    22\n",
       "2005    21\n",
       "2006    23\n",
       "2007    22\n",
       "2008    21\n",
       "2009    17\n",
       "2010    10\n",
       "2011     9\n",
       "2012    11\n",
       "2013    11\n",
       "2014    15\n",
       "2015    15\n",
       "2016    20\n",
       "2017    15\n",
       "dtype: int64"
      ]
     },
     "execution_count": 14,
     "metadata": {},
     "output_type": "execute_result"
    }
   ],
   "source": [
    "df_ratings_stat_expert.groupby('year').apply(lambda x: sum(x['is_expert']))"
   ]
  },
  {
   "cell_type": "markdown",
   "metadata": {},
   "source": [
    "## Analysis "
   ]
  },
  {
   "cell_type": "code",
   "execution_count": 10,
   "metadata": {},
   "outputs": [],
   "source": [
    "df_ratings_stat['rating'] = pd.to_numeric(df_ratings_stat['rating'], errors='coerce')"
   ]
  },
  {
   "cell_type": "markdown",
   "metadata": {},
   "source": [
    "## 2. a)"
   ]
  },
  {
   "cell_type": "code",
   "execution_count": 44,
   "metadata": {},
   "outputs": [
    {
     "name": "stdout",
     "output_type": "stream",
     "text": [
      "2003\n",
      "TtestResult(statistic=-18.887401719794756, pvalue=1.779767781680423e-79, df=154840.0)\n",
      "2004\n",
      "TtestResult(statistic=-62.18714858983994, pvalue=0.0, df=215019.0)\n",
      "2005\n",
      "TtestResult(statistic=-91.22723691821585, pvalue=0.0, df=282111.0)\n",
      "2006\n",
      "TtestResult(statistic=-87.15131790266581, pvalue=0.0, df=356916.0)\n",
      "2007\n",
      "TtestResult(statistic=-96.64188816721777, pvalue=0.0, df=454749.0)\n",
      "2008\n",
      "TtestResult(statistic=-127.25411168993305, pvalue=0.0, df=551105.0)\n",
      "2009\n",
      "TtestResult(statistic=-140.72088809602417, pvalue=0.0, df=590196.0)\n",
      "2010\n",
      "TtestResult(statistic=-117.87958112430984, pvalue=0.0, df=618902.0)\n",
      "2011\n",
      "TtestResult(statistic=-119.60529325758543, pvalue=0.0, df=920555.0)\n",
      "2012\n",
      "TtestResult(statistic=-94.1577821612206, pvalue=0.0, df=1392311.0)\n",
      "2013\n",
      "TtestResult(statistic=-122.43067456960163, pvalue=0.0, df=1924703.0)\n",
      "2014\n",
      "TtestResult(statistic=-163.7370166246198, pvalue=0.0, df=2599615.0)\n",
      "2015\n",
      "TtestResult(statistic=-161.98397499231496, pvalue=0.0, df=2029440.0)\n",
      "2016\n",
      "TtestResult(statistic=-165.98961536258432, pvalue=0.0, df=1647988.0)\n",
      "2017\n",
      "TtestResult(statistic=-105.98739900929772, pvalue=0.0, df=849631.0)\n"
     ]
    }
   ],
   "source": [
    "avg_ratings_expert = []\n",
    "avg_ratings_normal = []\n",
    "ttest_expert_normal = []\n",
    "\n",
    "interest_years = sorted([year for year in df_ratings_stat.year.unique() if year > 2002])\n",
    "\n",
    "for year in interest_years:\n",
    "    print(year)\n",
    "    df_expert_year = df_ratings_stat_expert.query('year == @year')\n",
    "    df_ratings_stat_year = df_ratings_stat.query('year == @year')\n",
    "    expert_of_the_year = df_expert_year[df_expert_year.is_expert].user_id\n",
    "    avg_expert = df_ratings_stat_year[df_ratings_stat_year['user_id'].isin(expert_of_the_year)]['rating'].mean()\n",
    "    avg_normal = df_ratings_stat_year[~df_ratings_stat_year['user_id'].isin(expert_of_the_year)]['rating'].mean()\n",
    "    ttest = stats.ttest_ind(df_ratings_stat_year[df_ratings_stat_year['user_id'].isin(expert_of_the_year)]['rating'], df_ratings_stat_year[~df_ratings_stat_year['user_id'].isin(expert_of_the_year)]['rating'])\n",
    "    ttest_expert_normal.append(ttest)\n",
    "    print(ttest)\n",
    "    avg_ratings_expert.append(avg_expert)\n",
    "    avg_ratings_normal.append(avg_normal)"
   ]
  },
  {
   "cell_type": "code",
   "execution_count": 50,
   "metadata": {},
   "outputs": [
    {
     "data": {
      "image/png": "[encoded data removed]",
      "text/plain": [
       "<Figure size 640x480 with 1 Axes>"
      ]
     },
     "metadata": {},
     "output_type": "display_data"
    }
   ],
   "source": [
    "bar_width = 0.35\n",
    "fig, ax = plt.subplots()\n",
    "\n",
    "bar_positions1 = np.arange(len(avg_ratings_expert))\n",
    "bar_positions2 = bar_positions1 + bar_width\n",
    "\n",
    "ax.bar(bar_positions1, avg_ratings_normal, width=bar_width, label='Casual', color='blue', alpha=0.7)\n",
    "ax.bar(bar_positions2, avg_ratings_expert, width=bar_width, label='Expert', color='red', alpha=0.7)\n",
    "\n",
    "ax.set_xlabel('Years')\n",
    "ax.set_ylabel('Average ratings')\n",
    "ax.set_title('Average of ratings between expert and casual per year ')\n",
    "ax.set_xticks(bar_positions1 + bar_width / 2)\n",
    "ax.set_xticklabels(interest_years, rotation=45, ha='right')\n",
    "\n",
    "y_min = min(min(avg_ratings_normal), min(avg_ratings_expert)) - 1 \n",
    "y_max = max(max(avg_ratings_normal), max(avg_ratings_expert)) + 1 \n",
    "ax.set_ylim(y_min, y_max)\n",
    "ax.legend()\n",
    "\n",
    "plt.show()"
   ]
  },
  {
   "cell_type": "markdown",
   "metadata": {},
   "source": [
    "The plot shows that the user considered as expert tend to be more severe concerning the global rating of a beer."
   ]
  },
  {
   "cell_type": "markdown",
   "metadata": {},
   "source": [
    "## 2. g)"
   ]
  },
  {
   "cell_type": "markdown",
   "metadata": {},
   "source": [
    "Try to find and analyse some beers which have been initially only been rated by expert then by casual in the next years (vice-versa) in order to identify if an expert tends to influence the ratings or not"
   ]
  },
  {
   "cell_type": "markdown",
   "metadata": {},
   "source": [
    "Step 1: Find all beers which have been rated by both casual and expert"
   ]
  },
  {
   "cell_type": "code",
   "execution_count": 11,
   "metadata": {},
   "outputs": [],
   "source": [
    "# Retrieve the ids of all expert user\n",
    "expert_user_id = df_ratings_stat_expert[df_ratings_stat_expert.is_expert].user_id\n",
    "# Separate ratings in expert and casual\n",
    "df_expert_ratings = df_ratings_stat[df_ratings_stat['user_id'].isin(expert_user_id)]\n",
    "df_casual_ratings = df_ratings_stat[~df_ratings_stat['user_id'].isin(expert_user_id)]"
   ]
  },
  {
   "cell_type": "code",
   "execution_count": 12,
   "metadata": {},
   "outputs": [],
   "source": [
    "# Find all beer that has been rated at least once by an expert\n",
    "beer_rated_by_expert = df_expert_ratings['beer_id'].unique()\n",
    "# Find all beer that has been rated at least once by a casual\n",
    "beer_rated_by_casual = df_casual_ratings['beer_id'].unique()"
   ]
  },
  {
   "cell_type": "code",
   "execution_count": 13,
   "metadata": {},
   "outputs": [
    {
     "name": "stdout",
     "output_type": "stream",
     "text": [
      "Total of different beer rated on the both websites : 447151\n",
      "expert have rated 181862 different beers\n",
      "casual user have rated 434476 different beers\n",
      "intersection, number of beers which have been rated by casual and expert : 169187\n"
     ]
    }
   ],
   "source": [
    "print(f'Total of different beer rated on the both websites : {len(df_ratings_stat.beer_id.unique())}')\n",
    "print(f'expert have rated {len(beer_rated_by_expert)} different beers')\n",
    "print(f'casual user have rated {len(beer_rated_by_casual)} different beers')\n",
    "\n",
    "beer_ids_rated_by_both = list(set(beer_rated_by_casual).intersection(set(beer_rated_by_expert)))\n",
    "print(f'intersection, number of beers which have been rated by casual and expert : {len(beer_ids_rated_by_both)}')"
   ]
  },
  {
   "cell_type": "markdown",
   "metadata": {},
   "source": [
    "Step 2: Find all beers which have been rated by an expert and a user not the same year"
   ]
  },
  {
   "cell_type": "code",
   "execution_count": 14,
   "metadata": {},
   "outputs": [],
   "source": [
    "# only take beers which have been rated by both\n",
    "beer_rated_by_expert_filtered = df_expert_ratings[df_expert_ratings['beer_id'].isin(beer_ids_rated_by_both)]\n",
    "beer_rated_by_casual_filtered = df_casual_ratings[df_casual_ratings['beer_id'].isin(beer_ids_rated_by_both)]"
   ]
  },
  {
   "cell_type": "code",
   "execution_count": 15,
   "metadata": {},
   "outputs": [
    {
     "name": "stderr",
     "output_type": "stream",
     "text": [
      "C:\\Users\\ylaar\\AppData\\Local\\Temp\\ipykernel_17048\\3399824987.py:2: SettingWithCopyWarning: \n",
      "A value is trying to be set on a copy of a slice from a DataFrame.\n",
      "Try using .loc[row_indexer,col_indexer] = value instead\n",
      "\n",
      "See the caveats in the documentation: https://pandas.pydata.org/pandas-docs/stable/user_guide/indexing.html#returning-a-view-versus-a-copy\n",
      "  beer_rated_by_expert_filtered['is_expert'] = True\n",
      "C:\\Users\\ylaar\\AppData\\Local\\Temp\\ipykernel_17048\\3399824987.py:3: SettingWithCopyWarning: \n",
      "A value is trying to be set on a copy of a slice from a DataFrame.\n",
      "Try using .loc[row_indexer,col_indexer] = value instead\n",
      "\n",
      "See the caveats in the documentation: https://pandas.pydata.org/pandas-docs/stable/user_guide/indexing.html#returning-a-view-versus-a-copy\n",
      "  beer_rated_by_casual_filtered['is_expert'] = False\n"
     ]
    }
   ],
   "source": [
    "# Add column is_expert to both dataframe\n",
    "beer_rated_by_expert_filtered['is_expert'] = True\n",
    "beer_rated_by_casual_filtered['is_expert'] = False"
   ]
  },
  {
   "cell_type": "code",
   "execution_count": 56,
   "metadata": {},
   "outputs": [
    {
     "data": {
      "text/html": [
       "<div>\n",
       "<style scoped>\n",
       "    .dataframe tbody tr th:only-of-type {\n",
       "        vertical-align: middle;\n",
       "    }\n",
       "\n",
       "    .dataframe tbody tr th {\n",
       "        vertical-align: top;\n",
       "    }\n",
       "\n",
       "    .dataframe thead th {\n",
       "        text-align: right;\n",
       "    }\n",
       "</style>\n",
       "<table border=\"1\" class=\"dataframe\">\n",
       "  <thead>\n",
       "    <tr style=\"text-align: right;\">\n",
       "      <th></th>\n",
       "      <th>beer_id</th>\n",
       "      <th>year</th>\n",
       "      <th>is_expert</th>\n",
       "      <th>rating</th>\n",
       "    </tr>\n",
       "  </thead>\n",
       "  <tbody>\n",
       "    <tr>\n",
       "      <th>1168</th>\n",
       "      <td>36</td>\n",
       "      <td>2000</td>\n",
       "      <td>True</td>\n",
       "      <td>4.47</td>\n",
       "    </tr>\n",
       "    <tr>\n",
       "      <th>1169</th>\n",
       "      <td>36</td>\n",
       "      <td>2000</td>\n",
       "      <td>True</td>\n",
       "      <td>3.00</td>\n",
       "    </tr>\n",
       "    <tr>\n",
       "      <th>1260</th>\n",
       "      <td>79</td>\n",
       "      <td>1998</td>\n",
       "      <td>True</td>\n",
       "      <td>4.35</td>\n",
       "    </tr>\n",
       "    <tr>\n",
       "      <th>1494</th>\n",
       "      <td>306</td>\n",
       "      <td>1998</td>\n",
       "      <td>True</td>\n",
       "      <td>1.60</td>\n",
       "    </tr>\n",
       "    <tr>\n",
       "      <th>1495</th>\n",
       "      <td>302</td>\n",
       "      <td>1998</td>\n",
       "      <td>True</td>\n",
       "      <td>3.65</td>\n",
       "    </tr>\n",
       "    <tr>\n",
       "      <th>...</th>\n",
       "      <td>...</td>\n",
       "      <td>...</td>\n",
       "      <td>...</td>\n",
       "      <td>...</td>\n",
       "    </tr>\n",
       "    <tr>\n",
       "      <th>24247930</th>\n",
       "      <td>86571</td>\n",
       "      <td>2008</td>\n",
       "      <td>False</td>\n",
       "      <td>3.20</td>\n",
       "    </tr>\n",
       "    <tr>\n",
       "      <th>24247931</th>\n",
       "      <td>86570</td>\n",
       "      <td>2008</td>\n",
       "      <td>False</td>\n",
       "      <td>4.50</td>\n",
       "    </tr>\n",
       "    <tr>\n",
       "      <th>24247932</th>\n",
       "      <td>86572</td>\n",
       "      <td>2008</td>\n",
       "      <td>False</td>\n",
       "      <td>4.40</td>\n",
       "    </tr>\n",
       "    <tr>\n",
       "      <th>24247933</th>\n",
       "      <td>66161</td>\n",
       "      <td>2008</td>\n",
       "      <td>False</td>\n",
       "      <td>3.40</td>\n",
       "    </tr>\n",
       "    <tr>\n",
       "      <th>24247934</th>\n",
       "      <td>136970</td>\n",
       "      <td>2016</td>\n",
       "      <td>False</td>\n",
       "      <td>2.40</td>\n",
       "    </tr>\n",
       "  </tbody>\n",
       "</table>\n",
       "<p>5792228 rows × 4 columns</p>\n",
       "</div>"
      ],
      "text/plain": [
       "         beer_id  year is_expert  rating\n",
       "1168          36  2000      True    4.47\n",
       "1169          36  2000      True    3.00\n",
       "1260          79  1998      True    4.35\n",
       "1494         306  1998      True    1.60\n",
       "1495         302  1998      True    3.65\n",
       "...          ...   ...       ...     ...\n",
       "24247930   86571  2008     False    3.20\n",
       "24247931   86570  2008     False    4.50\n",
       "24247932   86572  2008     False    4.40\n",
       "24247933   66161  2008     False    3.40\n",
       "24247934  136970  2016     False    2.40\n",
       "\n",
       "[5792228 rows x 4 columns]"
      ]
     },
     "execution_count": 56,
     "metadata": {},
     "output_type": "execute_result"
    }
   ],
   "source": [
    "# Only take beers which have not been rated simultaneously by a casual and expert\n",
    "# Merge DataFrames and identify which rows are unique to each DataFrame\n",
    "merged_expert_casual = pd.merge(beer_rated_by_expert_filtered[['beer_id', 'rating', 'year', 'is_expert']], \n",
    "                                beer_rated_by_casual_filtered[['beer_id', 'rating', 'year', 'is_expert']],\n",
    "                                on=['beer_id', 'year'],\n",
    "                                how='outer',\n",
    "                                indicator=True)\n",
    "\n",
    "# Filter rows that are unique to each DataFrame\n",
    "result_expert_casual = merged_expert_casual[merged_expert_casual['_merge'] != 'both']\n",
    "\n",
    "# Drop the '_merge' column\n",
    "result_expert_casual = result_expert_casual.drop(columns=['_merge'])\n",
    "\n",
    "# add unique is_expert column to the result dataframe \n",
    "result_expert_casual['is_expert'] = np.where(~result_expert_casual['is_expert_x'].isna(), result_expert_casual['is_expert_x'], result_expert_casual['is_expert_y'])\n",
    "\n",
    "# add unique rating column to the result dataframe \n",
    "result_expert_casual['rating'] = np.where(~result_expert_casual['rating_x'].isna(), result_expert_casual['rating_x'], result_expert_casual['rating_y'])\n",
    "\n",
    "# delete unnecessary columns\n",
    "result_expert_casual = result_expert_casual.drop(columns=['is_expert_x', 'is_expert_y', 'rating_x', 'rating_y'])\n",
    "\n",
    "result_expert_casual"
   ]
  },
  {
   "cell_type": "code",
   "execution_count": 57,
   "metadata": {},
   "outputs": [],
   "source": [
    "# Only take data after 2002 as we don't have enough data about who is expert or not before 2003\n",
    "result_expert_casual_filtered = result_expert_casual.query('year > 2002')"
   ]
  },
  {
   "cell_type": "code",
   "execution_count": 67,
   "metadata": {},
   "outputs": [
    {
     "name": "stdout",
     "output_type": "stream",
     "text": [
      "Beer id with the most ratings over the years by expert while casual rated this beer some other year where expert did not : 31108\n"
     ]
    }
   ],
   "source": [
    "# Calculate the count of is_expert=True for each beer\n",
    "expert_count = result_expert_casual_filtered[result_expert_casual_filtered['is_expert'] == True].groupby('beer_id').size().reset_index(name='expert_count')\n",
    "\n",
    "# Find the beer_id with the maximum count of is_expert=True\n",
    "max_expert_beer = expert_count.loc[expert_count['expert_count'].idxmax(), 'beer_id']\n",
    "\n",
    "# Display the result\n",
    "print(f'Beer id with the most ratings over the years by expert while casual rated this beer some other year where expert did not : {max_expert_beer}')"
   ]
  },
  {
   "cell_type": "code",
   "execution_count": 70,
   "metadata": {},
   "outputs": [
    {
     "data": {
      "text/plain": [
       "'Mocha Java Double Brown'"
      ]
     },
     "execution_count": 70,
     "metadata": {},
     "output_type": "execute_result"
    }
   ],
   "source": [
    "max_expert_beer_name = df_ratings_stat[df_ratings_stat['beer_id'] == max_expert_beer].iloc[0][0]\n",
    "max_expert_beer_name"
   ]
  },
  {
   "cell_type": "code",
   "execution_count": 63,
   "metadata": {},
   "outputs": [
    {
     "data": {
      "text/plain": [
       "year  is_expert\n",
       "2004  False        2\n",
       "2007  True         4\n",
       "2008  False        1\n",
       "2009  True         7\n",
       "2011  False        1\n",
       "2012  False        1\n",
       "2013  False        3\n",
       "2014  True         2\n",
       "2015  False        1\n",
       "2016  False        1\n",
       "Name: rating, dtype: int64"
      ]
     },
     "execution_count": 63,
     "metadata": {},
     "output_type": "execute_result"
    }
   ],
   "source": [
    "result_expert_casual_filtered[result_expert_casual_filtered['beer_id'] == max_expert_beer].groupby(['year', 'is_expert'])['rating'].count()"
   ]
  },
  {
   "cell_type": "code",
   "execution_count": 73,
   "metadata": {},
   "outputs": [
    {
     "name": "stdout",
     "output_type": "stream",
     "text": [
      "Beer id with the most ratings over the years by casuals while experts rated this beer some other year where casuals did not : 99873\n"
     ]
    }
   ],
   "source": [
    "# Calculate the count of is_expert=False for each beer\n",
    "non_expert_count = result_expert_casual_filtered[result_expert_casual_filtered['is_expert'] == False].groupby('beer_id').size().reset_index(name='non_expert_count')\n",
    "\n",
    "# Find the beer_ids with at least 1 observation where is_expert=True\n",
    "at_least_one_expert = result_expert_casual_filtered[result_expert_casual_filtered['is_expert'] == True]['beer_id'].unique()\n",
    "\n",
    "# Filter non_expert_count to include only those with at least 1 is_expert=True\n",
    "casual_count_filtered = non_expert_count[non_expert_count['beer_id'].isin(at_least_one_expert)]\n",
    "\n",
    "# Find the beer_id with the maximum count of is_expert=False\n",
    "max_casual_beer = casual_count_filtered.loc[casual_count_filtered['non_expert_count'].idxmax(), 'beer_id']\n",
    "\n",
    "# Display the result\n",
    "print(f'Beer id with the most ratings over the years by casuals while experts rated this beer some other year where casuals did not : {max_casual_beer}')"
   ]
  },
  {
   "cell_type": "code",
   "execution_count": 66,
   "metadata": {},
   "outputs": [
    {
     "data": {
      "text/plain": [
       "year  is_expert\n",
       "2009  False           4\n",
       "2011  True            1\n",
       "2012  False           2\n",
       "2013  False        1534\n",
       "2014  False        3747\n",
       "2016  False         291\n",
       "2017  False          85\n",
       "Name: rating, dtype: int64"
      ]
     },
     "execution_count": 66,
     "metadata": {},
     "output_type": "execute_result"
    }
   ],
   "source": [
    "result_expert_casual_filtered[result_expert_casual_filtered['beer_id'] == max_casual_beer].groupby(['year', 'is_expert'])['rating'].count()"
   ]
  },
  {
   "cell_type": "code",
   "execution_count": 117,
   "metadata": {},
   "outputs": [
    {
     "data": {
      "text/plain": [
       "'DirtWolf'"
      ]
     },
     "execution_count": 117,
     "metadata": {},
     "output_type": "execute_result"
    }
   ],
   "source": [
    "max_casual_beer_name = df_ratings_stat[df_ratings_stat['beer_id'] == max_casual_beer].iloc[0][0]\n",
    "max_casual_beer_name"
   ]
  },
  {
   "cell_type": "markdown",
   "metadata": {},
   "source": [
    "Plot rating of beer 'Mocha Java Double Brown' and 'DirtWolf' by casual and expert over years where these beers were rated"
   ]
  },
  {
   "cell_type": "code",
   "execution_count": 88,
   "metadata": {},
   "outputs": [
    {
     "data": {
      "text/html": [
       "<div>\n",
       "<style scoped>\n",
       "    .dataframe tbody tr th:only-of-type {\n",
       "        vertical-align: middle;\n",
       "    }\n",
       "\n",
       "    .dataframe tbody tr th {\n",
       "        vertical-align: top;\n",
       "    }\n",
       "\n",
       "    .dataframe thead th {\n",
       "        text-align: right;\n",
       "    }\n",
       "</style>\n",
       "<table border=\"1\" class=\"dataframe\">\n",
       "  <thead>\n",
       "    <tr style=\"text-align: right;\">\n",
       "      <th></th>\n",
       "      <th>year</th>\n",
       "      <th>is_expert</th>\n",
       "      <th>rating</th>\n",
       "    </tr>\n",
       "  </thead>\n",
       "  <tbody>\n",
       "    <tr>\n",
       "      <th>0</th>\n",
       "      <td>2004</td>\n",
       "      <td>False</td>\n",
       "      <td>3.350000</td>\n",
       "    </tr>\n",
       "    <tr>\n",
       "      <th>1</th>\n",
       "      <td>2007</td>\n",
       "      <td>True</td>\n",
       "      <td>2.850000</td>\n",
       "    </tr>\n",
       "    <tr>\n",
       "      <th>2</th>\n",
       "      <td>2008</td>\n",
       "      <td>False</td>\n",
       "      <td>3.100000</td>\n",
       "    </tr>\n",
       "    <tr>\n",
       "      <th>3</th>\n",
       "      <td>2009</td>\n",
       "      <td>True</td>\n",
       "      <td>3.000000</td>\n",
       "    </tr>\n",
       "    <tr>\n",
       "      <th>4</th>\n",
       "      <td>2011</td>\n",
       "      <td>False</td>\n",
       "      <td>2.500000</td>\n",
       "    </tr>\n",
       "    <tr>\n",
       "      <th>5</th>\n",
       "      <td>2012</td>\n",
       "      <td>False</td>\n",
       "      <td>1.800000</td>\n",
       "    </tr>\n",
       "    <tr>\n",
       "      <th>6</th>\n",
       "      <td>2013</td>\n",
       "      <td>False</td>\n",
       "      <td>2.766667</td>\n",
       "    </tr>\n",
       "    <tr>\n",
       "      <th>7</th>\n",
       "      <td>2014</td>\n",
       "      <td>True</td>\n",
       "      <td>3.150000</td>\n",
       "    </tr>\n",
       "    <tr>\n",
       "      <th>8</th>\n",
       "      <td>2015</td>\n",
       "      <td>False</td>\n",
       "      <td>4.060000</td>\n",
       "    </tr>\n",
       "    <tr>\n",
       "      <th>9</th>\n",
       "      <td>2016</td>\n",
       "      <td>False</td>\n",
       "      <td>2.900000</td>\n",
       "    </tr>\n",
       "  </tbody>\n",
       "</table>\n",
       "</div>"
      ],
      "text/plain": [
       "   year  is_expert    rating\n",
       "0  2004      False  3.350000\n",
       "1  2007       True  2.850000\n",
       "2  2008      False  3.100000\n",
       "3  2009       True  3.000000\n",
       "4  2011      False  2.500000\n",
       "5  2012      False  1.800000\n",
       "6  2013      False  2.766667\n",
       "7  2014       True  3.150000\n",
       "8  2015      False  4.060000\n",
       "9  2016      False  2.900000"
      ]
     },
     "execution_count": 88,
     "metadata": {},
     "output_type": "execute_result"
    }
   ],
   "source": [
    "df_max_expert_beer = result_expert_casual_filtered[result_expert_casual_filtered['beer_id'] == max_expert_beer].groupby(['year', 'is_expert'])['rating'].mean().reset_index()\n",
    "df_max_expert_beer"
   ]
  },
  {
   "cell_type": "code",
   "execution_count": 103,
   "metadata": {},
   "outputs": [
    {
     "data": {
      "image/png": "[encoded data removed]",
      "text/plain": [
       "<Figure size 640x480 with 1 Axes>"
      ]
     },
     "metadata": {},
     "output_type": "display_data"
    }
   ],
   "source": [
    "sns.set(style=\"whitegrid\")\n",
    "sns.lineplot(data=df_max_expert_beer, x='year', y='rating', hue='is_expert', marker='o')\n",
    "plt.xlabel('Year')\n",
    "plt.ylabel('Average rating')\n",
    "plt.title(f'Average rating of the beer {max_expert_beer_name} by casual and expert at different year')\n",
    "plt.show()"
   ]
  },
  {
   "cell_type": "markdown",
   "metadata": {},
   "source": [
    "different way to plot it, which is the best ?"
   ]
  },
  {
   "cell_type": "code",
   "execution_count": 115,
   "metadata": {},
   "outputs": [
    {
     "data": {
      "image/png": "[encoded data removed]",
      "text/plain": [
       "<Figure size 640x480 with 1 Axes>"
      ]
     },
     "metadata": {},
     "output_type": "display_data"
    }
   ],
   "source": [
    "sns.set(style=\"whitegrid\")\n",
    "sns.scatterplot(data=df_max_expert_beer, x='year', y='rating', hue='is_expert', style='is_expert', s=100)\n",
    "plt.xlabel('Year')\n",
    "plt.ylabel('Average rating')\n",
    "plt.title(f'Average rating of the beer {max_expert_beer_name} by casual and expert at different year')\n",
    "plt.show()"
   ]
  },
  {
   "cell_type": "code",
   "execution_count": 116,
   "metadata": {},
   "outputs": [
    {
     "data": {
      "text/html": [
       "<div>\n",
       "<style scoped>\n",
       "    .dataframe tbody tr th:only-of-type {\n",
       "        vertical-align: middle;\n",
       "    }\n",
       "\n",
       "    .dataframe tbody tr th {\n",
       "        vertical-align: top;\n",
       "    }\n",
       "\n",
       "    .dataframe thead th {\n",
       "        text-align: right;\n",
       "    }\n",
       "</style>\n",
       "<table border=\"1\" class=\"dataframe\">\n",
       "  <thead>\n",
       "    <tr style=\"text-align: right;\">\n",
       "      <th></th>\n",
       "      <th>year</th>\n",
       "      <th>is_expert</th>\n",
       "      <th>rating</th>\n",
       "    </tr>\n",
       "  </thead>\n",
       "  <tbody>\n",
       "    <tr>\n",
       "      <th>0</th>\n",
       "      <td>2009</td>\n",
       "      <td>False</td>\n",
       "      <td>3.450000</td>\n",
       "    </tr>\n",
       "    <tr>\n",
       "      <th>1</th>\n",
       "      <td>2011</td>\n",
       "      <td>True</td>\n",
       "      <td>3.400000</td>\n",
       "    </tr>\n",
       "    <tr>\n",
       "      <th>2</th>\n",
       "      <td>2012</td>\n",
       "      <td>False</td>\n",
       "      <td>3.300000</td>\n",
       "    </tr>\n",
       "    <tr>\n",
       "      <th>3</th>\n",
       "      <td>2013</td>\n",
       "      <td>False</td>\n",
       "      <td>4.302308</td>\n",
       "    </tr>\n",
       "    <tr>\n",
       "      <th>4</th>\n",
       "      <td>2014</td>\n",
       "      <td>False</td>\n",
       "      <td>4.280363</td>\n",
       "    </tr>\n",
       "    <tr>\n",
       "      <th>5</th>\n",
       "      <td>2016</td>\n",
       "      <td>False</td>\n",
       "      <td>4.197938</td>\n",
       "    </tr>\n",
       "    <tr>\n",
       "      <th>6</th>\n",
       "      <td>2017</td>\n",
       "      <td>False</td>\n",
       "      <td>4.172706</td>\n",
       "    </tr>\n",
       "  </tbody>\n",
       "</table>\n",
       "</div>"
      ],
      "text/plain": [
       "   year  is_expert    rating\n",
       "0  2009      False  3.450000\n",
       "1  2011       True  3.400000\n",
       "2  2012      False  3.300000\n",
       "3  2013      False  4.302308\n",
       "4  2014      False  4.280363\n",
       "5  2016      False  4.197938\n",
       "6  2017      False  4.172706"
      ]
     },
     "execution_count": 116,
     "metadata": {},
     "output_type": "execute_result"
    }
   ],
   "source": [
    "df_max_casual_beer = result_expert_casual_filtered[result_expert_casual_filtered['beer_id'] == max_casual_beer].groupby(['year', 'is_expert'])['rating'].mean().reset_index()\n",
    "df_max_casual_beer"
   ]
  },
  {
   "cell_type": "code",
   "execution_count": 119,
   "metadata": {},
   "outputs": [
    {
     "data": {
      "image/png": "[encoded data removed]",
      "text/plain": [
       "<Figure size 640x480 with 1 Axes>"
      ]
     },
     "metadata": {},
     "output_type": "display_data"
    }
   ],
   "source": [
    "sns.set(style=\"whitegrid\")\n",
    "sns.lineplot(data=df_max_casual_beer, x='year', y='rating', hue='is_expert', marker='o')\n",
    "plt.xlabel('Year')\n",
    "plt.ylabel('Average rating')\n",
    "plt.title(f'Average rating of the beer {max_casual_beer_name} by casual and expert at different year')\n",
    "plt.show()"
   ]
  },
  {
   "cell_type": "code",
   "execution_count": 120,
   "metadata": {},
   "outputs": [
    {
     "data": {
      "image/png": "[encoded data removed]",
      "text/plain": [
       "<Figure size 640x480 with 1 Axes>"
      ]
     },
     "metadata": {},
     "output_type": "display_data"
    }
   ],
   "source": [
    "sns.set(style=\"whitegrid\")\n",
    "sns.scatterplot(data=df_max_casual_beer, x='year', y='rating', hue='is_expert', style='is_expert', s=100)\n",
    "plt.xlabel('Year')\n",
    "plt.ylabel('Average rating')\n",
    "plt.title(f'Average rating of the beer {max_casual_beer_name} by casual and expert at different year')\n",
    "plt.show()"
   ]
  },
  {
   "cell_type": "code",
   "execution_count": null,
   "metadata": {},
   "outputs": [],
   "source": []
  }
 ],
 "metadata": {
  "kernelspec": {
   "display_name": "Python 3 (ipykernel)",
   "language": "python",
   "name": "python3"
  },
  "language_info": {
   "codemirror_mode": {
    "name": "ipython",
    "version": 3
   },
   "file_extension": ".py",
   "mimetype": "text/x-python",
   "name": "python",
   "nbconvert_exporter": "python",
   "pygments_lexer": "ipython3",
   "version": "3.9.18"
  }
 },
 "nbformat": 4,
 "nbformat_minor": 2
}
