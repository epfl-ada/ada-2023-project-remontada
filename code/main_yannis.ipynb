{
 "cells": [
  {
   "cell_type": "code",
   "execution_count": 10,
   "metadata": {},
   "outputs": [
    {
     "name": "stdout",
     "output_type": "stream",
     "text": [
      "The autoreload extension is already loaded. To reload it, use:\n",
      "  %reload_ext autoreload\n"
     ]
    }
   ],
   "source": [
    "import pandas as pd\n",
    "import numpy as np\n",
    "import seaborn as sns\n",
    "import matplotlib.pyplot as plt\n",
    "from copy import deepcopy\n",
    "from statsmodels.stats import diagnostic\n",
    "from scipy import stats\n",
    "from datetime import datetime\n",
    "import time\n",
    "%matplotlib inline\n",
    "\n",
    "%load_ext autoreload\n",
    "%autoreload 2"
   ]
  },
  {
   "cell_type": "code",
   "execution_count": 2,
   "metadata": {},
   "outputs": [],
   "source": [
    "%reload_ext autoreload"
   ]
  },
  {
   "cell_type": "code",
   "execution_count": 3,
   "metadata": {},
   "outputs": [],
   "source": [
    "#import functions\n",
    "from read.read_functions import *\n",
    "from read.pickle_functions import *\n",
    "from create_all_users import create_all_users\n",
    "from create_rating_statistic import create_ratings_stat\n",
    "\n",
    "from cleaning_functions.matched_beer import *\n",
    "from cleaning_functions.rate_beer import *\n",
    "from cleaning_functions.advocate import *\n",
    "\n",
    "from compute_experts import *"
   ]
  },
  {
   "cell_type": "code",
   "execution_count": 4,
   "metadata": {
    "tags": []
   },
   "outputs": [],
   "source": [
    "beer_advocate_path = '../datas/BeerAdvocate/'\n",
    "matched_beer_data_path = '../datas/matched_beer_data/'\n",
    "rate_beer_path = '../datas/RateBeer/'\n",
    "\n",
    "advocate_beers_path = beer_advocate_path + 'beers.csv'\n",
    "advovate_breweries_path = beer_advocate_path + 'breweries.csv'\n",
    "advocate_ratings_path = beer_advocate_path + 'ratings.txt'\n",
    "advocate_reviews_path = beer_advocate_path + 'reviews.txt'\n",
    "advocate_users_path = beer_advocate_path + 'users.csv'\n",
    "\n",
    "matched_beer_beers = matched_beer_data_path + 'beers.csv'\n",
    "matched_beer_breweries = matched_beer_data_path + 'breweries.csv'\n",
    "matched_beer_ratings_ba = matched_beer_data_path + 'ratings_ba.txt'\n",
    "matched_beer_ratings_rb = matched_beer_data_path + 'ratings_rb.txt'\n",
    "matched_beer_ratings = matched_beer_data_path + 'ratings.csv'\n",
    "matched_beer_users_approx = matched_beer_data_path + 'users_approx.csv'\n",
    "matched_beer_users = matched_beer_data_path + 'users.csv'\n",
    "\n",
    "rate_beer_beers = rate_beer_path + 'beers.csv'\n",
    "rate_beer_breweries = rate_beer_path + 'breweries.csv'\n",
    "rate_beer_users = rate_beer_path + 'users.csv'\n"
   ]
  },
  {
   "cell_type": "code",
   "execution_count": 5,
   "metadata": {},
   "outputs": [],
   "source": [
    "beer_advocate_path = '../datas/BeerAdvocate/pickle/'\n",
    "matched_beer_data_path = '../datas/matched_beer_data/pickle'\n",
    "rate_beer_path = '../datas/RateBeer/pickle'\n",
    "\n",
    "advocate_beers_path_pickle = beer_advocate_path + 'beers.csv'\n",
    "advovate_breweries_path_pickle = beer_advocate_path + 'breweries.csv'\n",
    "advocate_ratings_path_pickle = beer_advocate_path + 'ratings.txt'\n",
    "advocate_reviews_path_pickle = beer_advocate_path + 'reviews.txt'\n",
    "advocate_users_path_pickle = beer_advocate_path + 'users.csv'\n",
    "\n",
    "matched_beer_beers_pickle = matched_beer_data_path + 'beers.csv'\n",
    "matched_beer_breweries_pickle = matched_beer_data_path + 'breweries.csv'\n",
    "matched_beer_ratings_ba_pickle = matched_beer_data_path + 'ratings_ba.txt'\n",
    "matched_beer_ratings_rb_pickle = matched_beer_data_path + 'ratings_rb.txt'\n",
    "matched_beer_ratings_pickle = matched_beer_data_path + 'ratings.csv'\n",
    "matched_beer_users_approx_pickle = matched_beer_data_path + 'users_approx.csv'\n",
    "matched_beer_users_pickle = matched_beer_data_path + 'users.csv'\n",
    "\n",
    "rate_beer_beers_pickle = rate_beer_path + 'beers.csv'\n",
    "rate_beer_breweries_pickle = rate_beer_path + 'breweries.csv'\n",
    "rate_beer_users_pickle = rate_beer_path + 'users.csv'"
   ]
  },
  {
   "cell_type": "code",
   "execution_count": 6,
   "metadata": {},
   "outputs": [],
   "source": [
    "#Define list of datas for each website\n",
    "datas_matched_beer_names = ['df_matched_beer_beers','df_matched_beer_breweries','df_matched_beer_ratings_ba','df_matched_beer_ratings_rb','df_matched_beer_ratings','df_matched_beer_users_approx','df_matched_beer_users']\n",
    "datas_advocate_names = ['df_advocate_beers','df_advocate_breweries','df_advocate_ratings','df_advocate_reviews','df_advocate_users']\n",
    "datas_rate_beer_names = ['df_rate_beer_beers','df_rate_beer_breweries','df_rate_beer_users','df_rate_beer_ratings','df_rate_beer_ratings']\n",
    "data_merge = ['df_all_users', 'df_ratings_stat_sampled', 'df_ratings_stat']"
   ]
  },
  {
   "cell_type": "markdown",
   "metadata": {},
   "source": [
    "### Import datas stored as pickle"
   ]
  },
  {
   "cell_type": "code",
   "execution_count": 7,
   "metadata": {
    "scrolled": true
   },
   "outputs": [
    {
     "name": "stdout",
     "output_type": "stream",
     "text": [
      "Loading df_matched_beer_beers...\n",
      "Loading df_matched_beer_breweries...\n",
      "Loading df_matched_beer_ratings_ba...\n",
      "Loading df_matched_beer_ratings_rb...\n",
      "Loading df_matched_beer_ratings...\n",
      "Loading df_matched_beer_users_approx...\n",
      "Loading df_matched_beer_users...\n",
      "Loading df_rate_beer_beers...\n",
      "Loading df_rate_beer_breweries...\n",
      "Loading df_rate_beer_users...\n",
      "Loading df_rate_beer_ratings...\n",
      "Loading df_rate_beer_ratings...\n",
      "Loading df_advocate_beers...\n",
      "Loading df_advocate_breweries...\n",
      "Loading df_advocate_ratings...\n",
      "Loading df_advocate_reviews...\n",
      "Loading df_advocate_users...\n"
     ]
    }
   ],
   "source": [
    "df_matched_beer_beers, df_matched_beer_breweries, df_matched_beer_ratings_ba, df_matched_beer_ratings_rb, df_matched_beer_ratings, df_matched_beer_users_approx, df_matched_beer_users = load_datas('matched_beer_data', datas_matched_beer_names)\n",
    "df_rate_beer_beers, df_rate_beer_breweries, df_rate_beer_users, df_rate_beer_ratings, df_rate_beer_reviews = load_datas('RateBeer', datas_rate_beer_names)\n",
    "df_advocate_beers, df_advocate_breweries, df_advocate_ratings, df_advocate_reviews, df_advocate_users = load_datas('BeerAdvocate', datas_advocate_names)"
   ]
  },
  {
   "cell_type": "code",
   "execution_count": 7,
   "metadata": {},
   "outputs": [
    {
     "name": "stdout",
     "output_type": "stream",
     "text": [
      "Loading df_all_users...\n",
      "Loading df_ratings_stat_sampled...\n",
      "Loading df_ratings_stat...\n"
     ]
    }
   ],
   "source": [
    "# open merge datasets\n",
    "df_all_users, df_ratings_stat_sampled, df_ratings_stat = load_datas('Results', data_merge)"
   ]
  },
  {
   "cell_type": "code",
   "execution_count": 9,
   "metadata": {},
   "outputs": [
    {
     "data": {
      "text/html": [
       "<div>\n",
       "<style scoped>\n",
       "    .dataframe tbody tr th:only-of-type {\n",
       "        vertical-align: middle;\n",
       "    }\n",
       "\n",
       "    .dataframe tbody tr th {\n",
       "        vertical-align: top;\n",
       "    }\n",
       "\n",
       "    .dataframe thead th {\n",
       "        text-align: right;\n",
       "    }\n",
       "</style>\n",
       "<table border=\"1\" class=\"dataframe\">\n",
       "  <thead>\n",
       "    <tr style=\"text-align: right;\">\n",
       "      <th></th>\n",
       "      <th>ba_user_name</th>\n",
       "      <th>rb_user_name</th>\n",
       "      <th>user_id</th>\n",
       "      <th>location</th>\n",
       "      <th>joined</th>\n",
       "    </tr>\n",
       "  </thead>\n",
       "  <tbody>\n",
       "    <tr>\n",
       "      <th>0</th>\n",
       "      <td>nmann08</td>\n",
       "      <td>nmann08</td>\n",
       "      <td>nmann08.184925</td>\n",
       "      <td>United States, Washington</td>\n",
       "      <td>2008-01-07 11:00:00</td>\n",
       "    </tr>\n",
       "    <tr>\n",
       "      <th>1</th>\n",
       "      <td>StJamesGate</td>\n",
       "      <td>NaN</td>\n",
       "      <td>stjamesgate.163714</td>\n",
       "      <td>United States, New York</td>\n",
       "      <td>2007-10-08 10:00:00</td>\n",
       "    </tr>\n",
       "    <tr>\n",
       "      <th>2</th>\n",
       "      <td>mdagnew</td>\n",
       "      <td>NaN</td>\n",
       "      <td>mdagnew.19527</td>\n",
       "      <td>Northern Ireland</td>\n",
       "      <td>2005-05-18 10:00:00</td>\n",
       "    </tr>\n",
       "    <tr>\n",
       "      <th>3</th>\n",
       "      <td>helloloser12345</td>\n",
       "      <td>NaN</td>\n",
       "      <td>helloloser12345.10867</td>\n",
       "      <td>Northern Ireland</td>\n",
       "      <td>2004-11-25 11:00:00</td>\n",
       "    </tr>\n",
       "    <tr>\n",
       "      <th>4</th>\n",
       "      <td>cypressbob</td>\n",
       "      <td>NaN</td>\n",
       "      <td>cypressbob.3708</td>\n",
       "      <td>Northern Ireland</td>\n",
       "      <td>2003-11-20 11:00:00</td>\n",
       "    </tr>\n",
       "  </tbody>\n",
       "</table>\n",
       "</div>"
      ],
      "text/plain": [
       "      ba_user_name rb_user_name                user_id  \\\n",
       "0          nmann08      nmann08         nmann08.184925   \n",
       "1      StJamesGate          NaN     stjamesgate.163714   \n",
       "2          mdagnew          NaN          mdagnew.19527   \n",
       "3  helloloser12345          NaN  helloloser12345.10867   \n",
       "4       cypressbob          NaN        cypressbob.3708   \n",
       "\n",
       "                    location              joined  \n",
       "0  United States, Washington 2008-01-07 11:00:00  \n",
       "1    United States, New York 2007-10-08 10:00:00  \n",
       "2           Northern Ireland 2005-05-18 10:00:00  \n",
       "3           Northern Ireland 2004-11-25 11:00:00  \n",
       "4           Northern Ireland 2003-11-20 11:00:00  "
      ]
     },
     "execution_count": 9,
     "metadata": {},
     "output_type": "execute_result"
    }
   ],
   "source": [
    "df_all_users.head()"
   ]
  },
  {
   "cell_type": "code",
   "execution_count": 10,
   "metadata": {
    "scrolled": false
   },
   "outputs": [
    {
     "data": {
      "text/html": [
       "<div>\n",
       "<style scoped>\n",
       "    .dataframe tbody tr th:only-of-type {\n",
       "        vertical-align: middle;\n",
       "    }\n",
       "\n",
       "    .dataframe tbody tr th {\n",
       "        vertical-align: top;\n",
       "    }\n",
       "\n",
       "    .dataframe thead th {\n",
       "        text-align: right;\n",
       "    }\n",
       "</style>\n",
       "<table border=\"1\" class=\"dataframe\">\n",
       "  <thead>\n",
       "    <tr style=\"text-align: right;\">\n",
       "      <th></th>\n",
       "      <th>beer_name</th>\n",
       "      <th>beer_id</th>\n",
       "      <th>brewery_name</th>\n",
       "      <th>brewery_id</th>\n",
       "      <th>style</th>\n",
       "      <th>abv</th>\n",
       "      <th>date</th>\n",
       "      <th>ba_user_name</th>\n",
       "      <th>user_id</th>\n",
       "      <th>appearance</th>\n",
       "      <th>aroma</th>\n",
       "      <th>palate</th>\n",
       "      <th>taste</th>\n",
       "      <th>overall</th>\n",
       "      <th>rating</th>\n",
       "      <th>rb_user_name</th>\n",
       "      <th>location</th>\n",
       "      <th>joined</th>\n",
       "      <th>year</th>\n",
       "    </tr>\n",
       "  </thead>\n",
       "  <tbody>\n",
       "    <tr>\n",
       "      <th>0</th>\n",
       "      <td>Régab</td>\n",
       "      <td>142544</td>\n",
       "      <td>Societe des Brasseries du Gabon (SOBRAGA)</td>\n",
       "      <td>37262</td>\n",
       "      <td>Euro Pale Lager</td>\n",
       "      <td>4.5</td>\n",
       "      <td>2015-08-20 10:00:00</td>\n",
       "      <td>nmann08</td>\n",
       "      <td>nmann08.184925</td>\n",
       "      <td>3.25</td>\n",
       "      <td>2.75</td>\n",
       "      <td>3.25</td>\n",
       "      <td>2.75</td>\n",
       "      <td>3.00</td>\n",
       "      <td>2.88</td>\n",
       "      <td>nmann08</td>\n",
       "      <td>United States, Washington</td>\n",
       "      <td>2008-01-07 11:00:00</td>\n",
       "      <td>2015</td>\n",
       "    </tr>\n",
       "    <tr>\n",
       "      <th>1</th>\n",
       "      <td>O-Ho-Ho</td>\n",
       "      <td>120824</td>\n",
       "      <td>Otley Brewing Company</td>\n",
       "      <td>13092</td>\n",
       "      <td>Extra Special / Strong Bitter (ESB)</td>\n",
       "      <td>5.0</td>\n",
       "      <td>2015-11-14 11:00:00</td>\n",
       "      <td>nmann08</td>\n",
       "      <td>nmann08.184925</td>\n",
       "      <td>4.00</td>\n",
       "      <td>3.50</td>\n",
       "      <td>3.75</td>\n",
       "      <td>3.50</td>\n",
       "      <td>3.50</td>\n",
       "      <td>3.56</td>\n",
       "      <td>nmann08</td>\n",
       "      <td>United States, Washington</td>\n",
       "      <td>2008-01-07 11:00:00</td>\n",
       "      <td>2015</td>\n",
       "    </tr>\n",
       "    <tr>\n",
       "      <th>2</th>\n",
       "      <td>Ola Dubh Special Reserve 18</td>\n",
       "      <td>47581</td>\n",
       "      <td>Harviestoun Brewery Ltd.</td>\n",
       "      <td>323</td>\n",
       "      <td>Old Ale</td>\n",
       "      <td>8.0</td>\n",
       "      <td>2011-11-18 11:00:00</td>\n",
       "      <td>nmann08</td>\n",
       "      <td>nmann08.184925</td>\n",
       "      <td>NaN</td>\n",
       "      <td>NaN</td>\n",
       "      <td>NaN</td>\n",
       "      <td>NaN</td>\n",
       "      <td>NaN</td>\n",
       "      <td>4.50</td>\n",
       "      <td>nmann08</td>\n",
       "      <td>United States, Washington</td>\n",
       "      <td>2008-01-07 11:00:00</td>\n",
       "      <td>2011</td>\n",
       "    </tr>\n",
       "    <tr>\n",
       "      <th>3</th>\n",
       "      <td>Ola Dubh Special Reserve 21</td>\n",
       "      <td>93113</td>\n",
       "      <td>Harviestoun Brewery Ltd.</td>\n",
       "      <td>323</td>\n",
       "      <td>Old Ale</td>\n",
       "      <td>10.5</td>\n",
       "      <td>2013-05-03 10:00:00</td>\n",
       "      <td>nmann08</td>\n",
       "      <td>nmann08.184925</td>\n",
       "      <td>NaN</td>\n",
       "      <td>NaN</td>\n",
       "      <td>NaN</td>\n",
       "      <td>NaN</td>\n",
       "      <td>NaN</td>\n",
       "      <td>3.75</td>\n",
       "      <td>nmann08</td>\n",
       "      <td>United States, Washington</td>\n",
       "      <td>2008-01-07 11:00:00</td>\n",
       "      <td>2013</td>\n",
       "    </tr>\n",
       "    <tr>\n",
       "      <th>4</th>\n",
       "      <td>Old Engine Oil Black Ale</td>\n",
       "      <td>875</td>\n",
       "      <td>Harviestoun Brewery Ltd.</td>\n",
       "      <td>323</td>\n",
       "      <td>English Porter</td>\n",
       "      <td>6.0</td>\n",
       "      <td>2015-01-24 11:00:00</td>\n",
       "      <td>nmann08</td>\n",
       "      <td>nmann08.184925</td>\n",
       "      <td>4.00</td>\n",
       "      <td>3.50</td>\n",
       "      <td>3.75</td>\n",
       "      <td>4.00</td>\n",
       "      <td>3.75</td>\n",
       "      <td>3.81</td>\n",
       "      <td>nmann08</td>\n",
       "      <td>United States, Washington</td>\n",
       "      <td>2008-01-07 11:00:00</td>\n",
       "      <td>2015</td>\n",
       "    </tr>\n",
       "  </tbody>\n",
       "</table>\n",
       "</div>"
      ],
      "text/plain": [
       "                     beer_name  beer_id  \\\n",
       "0                        Régab   142544   \n",
       "1                      O-Ho-Ho   120824   \n",
       "2  Ola Dubh Special Reserve 18    47581   \n",
       "3  Ola Dubh Special Reserve 21    93113   \n",
       "4     Old Engine Oil Black Ale      875   \n",
       "\n",
       "                                brewery_name  brewery_id  \\\n",
       "0  Societe des Brasseries du Gabon (SOBRAGA)       37262   \n",
       "1                      Otley Brewing Company       13092   \n",
       "2                   Harviestoun Brewery Ltd.         323   \n",
       "3                   Harviestoun Brewery Ltd.         323   \n",
       "4                   Harviestoun Brewery Ltd.         323   \n",
       "\n",
       "                                 style   abv                date ba_user_name  \\\n",
       "0                      Euro Pale Lager   4.5 2015-08-20 10:00:00      nmann08   \n",
       "1  Extra Special / Strong Bitter (ESB)   5.0 2015-11-14 11:00:00      nmann08   \n",
       "2                              Old Ale   8.0 2011-11-18 11:00:00      nmann08   \n",
       "3                              Old Ale  10.5 2013-05-03 10:00:00      nmann08   \n",
       "4                       English Porter   6.0 2015-01-24 11:00:00      nmann08   \n",
       "\n",
       "          user_id  appearance  aroma  palate  taste  overall  rating  \\\n",
       "0  nmann08.184925        3.25   2.75    3.25   2.75     3.00    2.88   \n",
       "1  nmann08.184925        4.00   3.50    3.75   3.50     3.50    3.56   \n",
       "2  nmann08.184925         NaN    NaN     NaN    NaN      NaN    4.50   \n",
       "3  nmann08.184925         NaN    NaN     NaN    NaN      NaN    3.75   \n",
       "4  nmann08.184925        4.00   3.50    3.75   4.00     3.75    3.81   \n",
       "\n",
       "  rb_user_name                   location              joined  year  \n",
       "0      nmann08  United States, Washington 2008-01-07 11:00:00  2015  \n",
       "1      nmann08  United States, Washington 2008-01-07 11:00:00  2015  \n",
       "2      nmann08  United States, Washington 2008-01-07 11:00:00  2011  \n",
       "3      nmann08  United States, Washington 2008-01-07 11:00:00  2013  \n",
       "4      nmann08  United States, Washington 2008-01-07 11:00:00  2015  "
      ]
     },
     "execution_count": 10,
     "metadata": {},
     "output_type": "execute_result"
    }
   ],
   "source": [
    "df_ratings_stat.head()"
   ]
  },
  {
   "cell_type": "markdown",
   "metadata": {},
   "source": [
    "###  Compute is_expert dataframe"
   ]
  },
  {
   "cell_type": "code",
   "execution_count": 8,
   "metadata": {},
   "outputs": [
    {
     "name": "stdout",
     "output_type": "stream",
     "text": [
      "ok\n"
     ]
    },
    {
     "data": {
      "text/html": [
       "<div>\n",
       "<style scoped>\n",
       "    .dataframe tbody tr th:only-of-type {\n",
       "        vertical-align: middle;\n",
       "    }\n",
       "\n",
       "    .dataframe tbody tr th {\n",
       "        vertical-align: top;\n",
       "    }\n",
       "\n",
       "    .dataframe thead th {\n",
       "        text-align: right;\n",
       "    }\n",
       "</style>\n",
       "<table border=\"1\" class=\"dataframe\">\n",
       "  <thead>\n",
       "    <tr style=\"text-align: right;\">\n",
       "      <th></th>\n",
       "      <th>user_id</th>\n",
       "      <th>year</th>\n",
       "      <th>nb_ratings</th>\n",
       "      <th>is_expert</th>\n",
       "    </tr>\n",
       "  </thead>\n",
       "  <tbody>\n",
       "    <tr>\n",
       "      <th>0</th>\n",
       "      <td>2</td>\n",
       "      <td>2000</td>\n",
       "      <td>44</td>\n",
       "      <td>False</td>\n",
       "    </tr>\n",
       "    <tr>\n",
       "      <th>1</th>\n",
       "      <td>2</td>\n",
       "      <td>2001</td>\n",
       "      <td>4</td>\n",
       "      <td>False</td>\n",
       "    </tr>\n",
       "    <tr>\n",
       "      <th>2</th>\n",
       "      <td>2</td>\n",
       "      <td>2002</td>\n",
       "      <td>1</td>\n",
       "      <td>False</td>\n",
       "    </tr>\n",
       "    <tr>\n",
       "      <th>3</th>\n",
       "      <td>3</td>\n",
       "      <td>2000</td>\n",
       "      <td>94</td>\n",
       "      <td>False</td>\n",
       "    </tr>\n",
       "    <tr>\n",
       "      <th>4</th>\n",
       "      <td>3</td>\n",
       "      <td>2001</td>\n",
       "      <td>69</td>\n",
       "      <td>False</td>\n",
       "    </tr>\n",
       "  </tbody>\n",
       "</table>\n",
       "</div>"
      ],
      "text/plain": [
       "  user_id  year  nb_ratings  is_expert\n",
       "0       2  2000          44      False\n",
       "1       2  2001           4      False\n",
       "2       2  2002           1      False\n",
       "3       3  2000          94      False\n",
       "4       3  2001          69      False"
      ]
     },
     "execution_count": 8,
     "metadata": {},
     "output_type": "execute_result"
    }
   ],
   "source": [
    "df_ratings_stat_expert, df_ratings_stat_pivot = compute_experts_table(df_ratings_stat)\n",
    "df_ratings_stat_expert.head()"
   ]
  },
  {
   "cell_type": "code",
   "execution_count": 9,
   "metadata": {},
   "outputs": [
    {
     "data": {
      "text/plain": [
       "year\n",
       "1996      0\n",
       "1998      1\n",
       "1999      1\n",
       "2000      1\n",
       "2001      6\n",
       "2002     16\n",
       "2003     25\n",
       "2004     36\n",
       "2005     51\n",
       "2006     68\n",
       "2007     92\n",
       "2008    118\n",
       "2009    141\n",
       "2010    166\n",
       "2011    210\n",
       "2012    314\n",
       "2013    412\n",
       "2014    660\n",
       "2015    764\n",
       "2016    749\n",
       "2017    690\n",
       "dtype: int64"
      ]
     },
     "execution_count": 9,
     "metadata": {},
     "output_type": "execute_result"
    }
   ],
   "source": [
    "df_ratings_stat_expert.groupby('year').apply(lambda x: sum(x['is_expert']))"
   ]
  },
  {
   "cell_type": "markdown",
   "metadata": {},
   "source": [
    "## Analysis "
   ]
  },
  {
   "cell_type": "markdown",
   "metadata": {},
   "source": [
    "## 2. a)"
   ]
  },
  {
   "cell_type": "code",
   "execution_count": 16,
   "metadata": {},
   "outputs": [
    {
     "name": "stdout",
     "output_type": "stream",
     "text": [
      "Ttest: Do the ratings of casual and expert are the same in 2003 ? p-value = 3.555338170625793e-157, stat = -26.741332046705867\n",
      "Ttest: Do the ratings of casual and expert are the same in 2004 ? p-value = 0.0, stat = -65.03723485748407\n",
      "Ttest: Do the ratings of casual and expert are the same in 2005 ? p-value = 0.0, stat = -97.14278244806339\n",
      "Ttest: Do the ratings of casual and expert are the same in 2006 ? p-value = 0.0, stat = -108.4939162445685\n",
      "Ttest: Do the ratings of casual and expert are the same in 2007 ? p-value = 0.0, stat = -111.04917004040455\n",
      "Ttest: Do the ratings of casual and expert are the same in 2008 ? p-value = 0.0, stat = -139.67452273606656\n",
      "Ttest: Do the ratings of casual and expert are the same in 2009 ? p-value = 0.0, stat = -176.38197045250197\n",
      "Ttest: Do the ratings of casual and expert are the same in 2010 ? p-value = 0.0, stat = -163.63059512592906\n",
      "Ttest: Do the ratings of casual and expert are the same in 2011 ? p-value = 0.0, stat = -211.80095314019337\n",
      "Ttest: Do the ratings of casual and expert are the same in 2012 ? p-value = 0.0, stat = -238.03821227281452\n",
      "Ttest: Do the ratings of casual and expert are the same in 2013 ? p-value = 0.0, stat = -262.83367612444255\n",
      "Ttest: Do the ratings of casual and expert are the same in 2014 ? p-value = 0.0, stat = -302.4424022138871\n",
      "Ttest: Do the ratings of casual and expert are the same in 2015 ? p-value = 0.0, stat = -291.56953049783965\n",
      "Ttest: Do the ratings of casual and expert are the same in 2016 ? p-value = 0.0, stat = -265.44613700258367\n",
      "Ttest: Do the ratings of casual and expert are the same in 2017 ? p-value = 0.0, stat = -168.55761138598203\n"
     ]
    }
   ],
   "source": [
    "avg_ratings_expert = []\n",
    "avg_ratings_normal = []\n",
    "ttest_expert_normal = []\n",
    "\n",
    "interest_years = sorted([year for year in df_ratings_stat.year.unique() if year > 2002])\n",
    "\n",
    "for year in interest_years:\n",
    "    df_expert_year = df_ratings_stat_expert.query('year == @year')\n",
    "    df_ratings_stat_year = df_ratings_stat.query('year == @year')\n",
    "    expert_of_the_year = df_expert_year[df_expert_year.is_expert].user_id\n",
    "    avg_expert = df_ratings_stat_year[df_ratings_stat_year['user_id'].isin(expert_of_the_year)]['rating'].mean()\n",
    "    avg_normal = df_ratings_stat_year[~df_ratings_stat_year['user_id'].isin(expert_of_the_year)]['rating'].mean()\n",
    "    t_stat, p_val = stats.ttest_ind(df_ratings_stat_year[df_ratings_stat_year['user_id'].isin(expert_of_the_year)]['rating'], df_ratings_stat_year[~df_ratings_stat_year['user_id'].isin(expert_of_the_year)]['rating'])\n",
    "    ttest_expert_normal.append(t_stat)\n",
    "    print(f'Ttest: Do the ratings of casual and expert are the same in {year} ? p-value = {p_val}, stat = {t_stat}')\n",
    "    avg_ratings_expert.append(avg_expert)\n",
    "    avg_ratings_normal.append(avg_normal)"
   ]
  },
  {
   "cell_type": "code",
   "execution_count": 15,
   "metadata": {},
   "outputs": [
    {
     "data": {
      "image/png": "[encoded data removed]",
      "text/plain": [
       "<Figure size 640x480 with 1 Axes>"
      ]
     },
     "metadata": {},
     "output_type": "display_data"
    }
   ],
   "source": [
    "bar_width = 0.35\n",
    "fig, ax = plt.subplots()\n",
    "\n",
    "bar_positions1 = np.arange(len(avg_ratings_expert))\n",
    "bar_positions2 = bar_positions1 + bar_width\n",
    "\n",
    "ax.bar(bar_positions1, avg_ratings_normal, width=bar_width, label='Casual', color='blue', alpha=0.7)\n",
    "ax.bar(bar_positions2, avg_ratings_expert, width=bar_width, label='Expert', color='red', alpha=0.7)\n",
    "\n",
    "ax.set_xlabel('Years')\n",
    "ax.set_ylabel('Average ratings')\n",
    "ax.set_title('Average of ratings between expert and casual per year ')\n",
    "ax.set_xticks(bar_positions1 + bar_width / 2)\n",
    "ax.set_xticklabels(interest_years, rotation=45, ha='right')\n",
    "\n",
    "y_min = min(min(avg_ratings_normal), min(avg_ratings_expert)) - 1 \n",
    "y_max = max(max(avg_ratings_normal), max(avg_ratings_expert)) + 1 \n",
    "ax.set_ylim(y_min, y_max)\n",
    "ax.legend()\n",
    "\n",
    "plt.show()"
   ]
  },
  {
   "cell_type": "markdown",
   "metadata": {},
   "source": [
    "The plot shows that the user considered as expert tend to be more severe concerning the global rating of a beer."
   ]
  },
  {
   "cell_type": "markdown",
   "metadata": {},
   "source": [
    "## 2. g)"
   ]
  },
  {
   "cell_type": "markdown",
   "metadata": {},
   "source": [
    "Try to find and analyse some beers which have been initially only been rated by expert then by casual in the next years (vice-versa) in order to identify if an expert tends to influence the ratings or not"
   ]
  },
  {
   "cell_type": "markdown",
   "metadata": {},
   "source": [
    "Step 1: Find all beers which have been rated by both casual and expert"
   ]
  },
  {
   "cell_type": "code",
   "execution_count": 17,
   "metadata": {},
   "outputs": [],
   "source": [
    "# Retrieve the ids of all expert user\n",
    "expert_user_id = df_ratings_stat_expert[df_ratings_stat_expert.is_expert].user_id\n",
    "# Separate ratings in expert and casual\n",
    "df_expert_ratings = df_ratings_stat[df_ratings_stat['user_id'].isin(expert_user_id)]\n",
    "df_casual_ratings = df_ratings_stat[~df_ratings_stat['user_id'].isin(expert_user_id)]"
   ]
  },
  {
   "cell_type": "code",
   "execution_count": 18,
   "metadata": {},
   "outputs": [],
   "source": [
    "# Find all beer that has been rated at least once by an expert\n",
    "beer_rated_by_expert = df_expert_ratings['beer_id'].unique()\n",
    "# Find all beer that has been rated at least once by a casual\n",
    "beer_rated_by_casual = df_casual_ratings['beer_id'].unique()"
   ]
  },
  {
   "cell_type": "code",
   "execution_count": 19,
   "metadata": {},
   "outputs": [
    {
     "name": "stdout",
     "output_type": "stream",
     "text": [
      "Total of different beer rated on the both websites : 447151\n",
      "expert have rated 403763 different beers\n",
      "casual user have rated 324774 different beers\n",
      "intersection, number of beers which have been rated by casual and expert : 281386\n"
     ]
    }
   ],
   "source": [
    "print(f'Total of different beer rated on the both websites : {len(df_ratings_stat.beer_id.unique())}')\n",
    "print(f'expert have rated {len(beer_rated_by_expert)} different beers')\n",
    "print(f'casual user have rated {len(beer_rated_by_casual)} different beers')\n",
    "\n",
    "beer_ids_rated_by_both = list(set(beer_rated_by_casual).intersection(set(beer_rated_by_expert)))\n",
    "print(f'intersection, number of beers which have been rated by casual and expert : {len(beer_ids_rated_by_both)}')"
   ]
  },
  {
   "cell_type": "markdown",
   "metadata": {},
   "source": [
    "Step 2: Find all beers which have been rated by an expert and a casual not the same year"
   ]
  },
  {
   "cell_type": "code",
   "execution_count": 21,
   "metadata": {},
   "outputs": [],
   "source": [
    "# Only take beers which have been rated by both\n",
    "beer_rated_by_expert_filtered = df_expert_ratings[df_expert_ratings['beer_id'].isin(beer_ids_rated_by_both)]\n",
    "beer_rated_by_casual_filtered = df_casual_ratings[df_casual_ratings['beer_id'].isin(beer_ids_rated_by_both)]"
   ]
  },
  {
   "cell_type": "code",
   "execution_count": 31,
   "metadata": {},
   "outputs": [],
   "source": [
    "# Select only the useful features for the task\n",
    "beer_rated_by_expert_compact = beer_rated_by_expert_filtered[['beer_id', 'rating', 'year']]\n",
    "beer_rated_by_casual_compact = beer_rated_by_casual_filtered[['beer_id', 'rating', 'year']]"
   ]
  },
  {
   "cell_type": "code",
   "execution_count": 40,
   "metadata": {},
   "outputs": [],
   "source": [
    "# Add is_expert column to dataframe\n",
    "beer_rated_by_expert_compact.loc[:, 'is_expert'] = True\n",
    "beer_rated_by_casual_compact.loc[:, 'is_expert'] = False"
   ]
  },
  {
   "cell_type": "code",
   "execution_count": 66,
   "metadata": {},
   "outputs": [],
   "source": [
    "# Concatenate the ratings of expert and casual\n",
    "beer_rated_by_expert_casual = pd.concat([beer_rated_by_expert_compact, beer_rated_by_casual_compact])\n",
    "beer_rated_by_expert_casual = beer_rated_by_expert_casual.query('year > 2002')"
   ]
  },
  {
   "cell_type": "code",
   "execution_count": 69,
   "metadata": {},
   "outputs": [
    {
     "name": "stdout",
     "output_type": "stream",
     "text": [
      "238810\n"
     ]
    }
   ],
   "source": [
    "# Search for all beers which have been rated by casual and expert in a same year\n",
    "# Group by 'beer_id', 'year', and 'is_expert' and count the occurrences\n",
    "grouped_df = beer_rated_by_expert_casual.groupby(['beer_id', 'year', 'is_expert']).size().reset_index(name='count')\n",
    "\n",
    "# Filter the DataFrame based on the conditions\n",
    "filtered_df = grouped_df[(grouped_df['count'] > 1) & ((grouped_df['is_expert'] == True) | (grouped_df['is_expert'] == False))]\n",
    "\n",
    "# Extract unique 'beer_id' values and convert them to a list\n",
    "beer_ids_to_remove = filtered_df['beer_id'].unique().tolist()\n",
    "\n",
    "# Display the list of 'beer_id'\n",
    "print(len(beer_ids_to_remove))"
   ]
  },
  {
   "cell_type": "code",
   "execution_count": 70,
   "metadata": {},
   "outputs": [
    {
     "data": {
      "text/html": [
       "<div>\n",
       "<style scoped>\n",
       "    .dataframe tbody tr th:only-of-type {\n",
       "        vertical-align: middle;\n",
       "    }\n",
       "\n",
       "    .dataframe tbody tr th {\n",
       "        vertical-align: top;\n",
       "    }\n",
       "\n",
       "    .dataframe thead th {\n",
       "        text-align: right;\n",
       "    }\n",
       "</style>\n",
       "<table border=\"1\" class=\"dataframe\">\n",
       "  <thead>\n",
       "    <tr style=\"text-align: right;\">\n",
       "      <th></th>\n",
       "      <th>beer_id</th>\n",
       "      <th>rating</th>\n",
       "      <th>year</th>\n",
       "      <th>is_expert</th>\n",
       "    </tr>\n",
       "  </thead>\n",
       "  <tbody>\n",
       "    <tr>\n",
       "      <th>91</th>\n",
       "      <td>255759</td>\n",
       "      <td>3.64</td>\n",
       "      <td>2016</td>\n",
       "      <td>True</td>\n",
       "    </tr>\n",
       "    <tr>\n",
       "      <th>256</th>\n",
       "      <td>96942</td>\n",
       "      <td>3.33</td>\n",
       "      <td>2013</td>\n",
       "      <td>True</td>\n",
       "    </tr>\n",
       "    <tr>\n",
       "      <th>299</th>\n",
       "      <td>186984</td>\n",
       "      <td>3.56</td>\n",
       "      <td>2015</td>\n",
       "      <td>True</td>\n",
       "    </tr>\n",
       "    <tr>\n",
       "      <th>496</th>\n",
       "      <td>149020</td>\n",
       "      <td>3.46</td>\n",
       "      <td>2015</td>\n",
       "      <td>True</td>\n",
       "    </tr>\n",
       "    <tr>\n",
       "      <th>518</th>\n",
       "      <td>90784</td>\n",
       "      <td>3.31</td>\n",
       "      <td>2015</td>\n",
       "      <td>True</td>\n",
       "    </tr>\n",
       "    <tr>\n",
       "      <th>...</th>\n",
       "      <td>...</td>\n",
       "      <td>...</td>\n",
       "      <td>...</td>\n",
       "      <td>...</td>\n",
       "    </tr>\n",
       "    <tr>\n",
       "      <th>6310449</th>\n",
       "      <td>462827</td>\n",
       "      <td>5.00</td>\n",
       "      <td>2017</td>\n",
       "      <td>False</td>\n",
       "    </tr>\n",
       "    <tr>\n",
       "      <th>6310482</th>\n",
       "      <td>456383</td>\n",
       "      <td>3.30</td>\n",
       "      <td>2017</td>\n",
       "      <td>False</td>\n",
       "    </tr>\n",
       "    <tr>\n",
       "      <th>6310489</th>\n",
       "      <td>277801</td>\n",
       "      <td>2.80</td>\n",
       "      <td>2014</td>\n",
       "      <td>False</td>\n",
       "    </tr>\n",
       "    <tr>\n",
       "      <th>6310833</th>\n",
       "      <td>86572</td>\n",
       "      <td>4.40</td>\n",
       "      <td>2008</td>\n",
       "      <td>False</td>\n",
       "    </tr>\n",
       "    <tr>\n",
       "      <th>6310834</th>\n",
       "      <td>66162</td>\n",
       "      <td>3.70</td>\n",
       "      <td>2008</td>\n",
       "      <td>False</td>\n",
       "    </tr>\n",
       "  </tbody>\n",
       "</table>\n",
       "<p>69766 rows × 4 columns</p>\n",
       "</div>"
      ],
      "text/plain": [
       "        beer_id  rating  year  is_expert\n",
       "91       255759    3.64  2016       True\n",
       "256       96942    3.33  2013       True\n",
       "299      186984    3.56  2015       True\n",
       "496      149020    3.46  2015       True\n",
       "518       90784    3.31  2015       True\n",
       "...         ...     ...   ...        ...\n",
       "6310449  462827    5.00  2017      False\n",
       "6310482  456383    3.30  2017      False\n",
       "6310489  277801    2.80  2014      False\n",
       "6310833   86572    4.40  2008      False\n",
       "6310834   66162    3.70  2008      False\n",
       "\n",
       "[69766 rows x 4 columns]"
      ]
     },
     "execution_count": 70,
     "metadata": {},
     "output_type": "execute_result"
    }
   ],
   "source": [
    "# Remove this beer\n",
    "beer_rated_by_expert_casual_different_year = beer_rated_by_expert_casual_filtered[~beer_rated_by_expert_casual_filtered['beer_id'].isin(beer_ids_to_remove)]\n",
    "beer_rated_by_expert_casual_different_year"
   ]
  },
  {
   "cell_type": "code",
   "execution_count": 74,
   "metadata": {},
   "outputs": [
    {
     "data": {
      "text/html": [
       "<div>\n",
       "<style scoped>\n",
       "    .dataframe tbody tr th:only-of-type {\n",
       "        vertical-align: middle;\n",
       "    }\n",
       "\n",
       "    .dataframe tbody tr th {\n",
       "        vertical-align: top;\n",
       "    }\n",
       "\n",
       "    .dataframe thead th {\n",
       "        text-align: right;\n",
       "    }\n",
       "</style>\n",
       "<table border=\"1\" class=\"dataframe\">\n",
       "  <thead>\n",
       "    <tr style=\"text-align: right;\">\n",
       "      <th></th>\n",
       "      <th>beer_id</th>\n",
       "      <th>rating</th>\n",
       "      <th>year</th>\n",
       "      <th>is_expert</th>\n",
       "    </tr>\n",
       "  </thead>\n",
       "  <tbody>\n",
       "    <tr>\n",
       "      <th>262136</th>\n",
       "      <td>9539</td>\n",
       "      <td>3.50</td>\n",
       "      <td>2014</td>\n",
       "      <td>True</td>\n",
       "    </tr>\n",
       "    <tr>\n",
       "      <th>882349</th>\n",
       "      <td>9539</td>\n",
       "      <td>3.25</td>\n",
       "      <td>2012</td>\n",
       "      <td>True</td>\n",
       "    </tr>\n",
       "    <tr>\n",
       "      <th>3681932</th>\n",
       "      <td>9539</td>\n",
       "      <td>3.23</td>\n",
       "      <td>2010</td>\n",
       "      <td>True</td>\n",
       "    </tr>\n",
       "    <tr>\n",
       "      <th>149798</th>\n",
       "      <td>9539</td>\n",
       "      <td>4.03</td>\n",
       "      <td>2003</td>\n",
       "      <td>False</td>\n",
       "    </tr>\n",
       "    <tr>\n",
       "      <th>911403</th>\n",
       "      <td>9539</td>\n",
       "      <td>3.48</td>\n",
       "      <td>2009</td>\n",
       "      <td>False</td>\n",
       "    </tr>\n",
       "    <tr>\n",
       "      <th>2019973</th>\n",
       "      <td>9539</td>\n",
       "      <td>3.32</td>\n",
       "      <td>2005</td>\n",
       "      <td>False</td>\n",
       "    </tr>\n",
       "    <tr>\n",
       "      <th>2279695</th>\n",
       "      <td>9539</td>\n",
       "      <td>3.60</td>\n",
       "      <td>2008</td>\n",
       "      <td>False</td>\n",
       "    </tr>\n",
       "    <tr>\n",
       "      <th>4507314</th>\n",
       "      <td>9539</td>\n",
       "      <td>3.25</td>\n",
       "      <td>2013</td>\n",
       "      <td>False</td>\n",
       "    </tr>\n",
       "    <tr>\n",
       "      <th>5917284</th>\n",
       "      <td>9539</td>\n",
       "      <td>3.48</td>\n",
       "      <td>2016</td>\n",
       "      <td>False</td>\n",
       "    </tr>\n",
       "    <tr>\n",
       "      <th>7395483</th>\n",
       "      <td>9539</td>\n",
       "      <td>3.55</td>\n",
       "      <td>2011</td>\n",
       "      <td>False</td>\n",
       "    </tr>\n",
       "    <tr>\n",
       "      <th>7444328</th>\n",
       "      <td>9539</td>\n",
       "      <td>3.43</td>\n",
       "      <td>2017</td>\n",
       "      <td>False</td>\n",
       "    </tr>\n",
       "  </tbody>\n",
       "</table>\n",
       "</div>"
      ],
      "text/plain": [
       "        beer_id  rating  year  is_expert\n",
       "262136     9539    3.50  2014       True\n",
       "882349     9539    3.25  2012       True\n",
       "3681932    9539    3.23  2010       True\n",
       "149798     9539    4.03  2003      False\n",
       "911403     9539    3.48  2009      False\n",
       "2019973    9539    3.32  2005      False\n",
       "2279695    9539    3.60  2008      False\n",
       "4507314    9539    3.25  2013      False\n",
       "5917284    9539    3.48  2016      False\n",
       "7395483    9539    3.55  2011      False\n",
       "7444328    9539    3.43  2017      False"
      ]
     },
     "execution_count": 74,
     "metadata": {},
     "output_type": "execute_result"
    }
   ],
   "source": [
    "# Group by 'beer_id' and count the unique number of years\n",
    "beer_years_count = beer_rated_by_expert_casual_different_year.groupby('beer_id')['year'].nunique()\n",
    "\n",
    "# Find the beer_id with the maximum number of unique years\n",
    "most_rated_beer_id = beer_years_count.idxmax()\n",
    "\n",
    "beer_rated_by_expert_casual_different_year[beer_rated_by_expert_casual_different_year['beer_id'] == most_rated_beer_id]"
   ]
  },
  {
   "cell_type": "code",
   "execution_count": 76,
   "metadata": {},
   "outputs": [
    {
     "name": "stdout",
     "output_type": "stream",
     "text": [
      "Beer id with the most ratings over the years by expert and casual where non of them rated it the same year: 9539\n",
      "Beer name : Pelican Pale Ale\n"
     ]
    }
   ],
   "source": [
    "most_rated_beer_name = df_ratings_stat[df_ratings_stat['beer_id'] == most_rated_beer_id].iloc[0][0]\n",
    "# Display the result\n",
    "print(f'Beer id with the most ratings over the years by expert and casual where non of them rated it the same year: {most_rated_beer_id}')\n",
    "print(f'Beer name : {most_rated_beer_name}')"
   ]
  },
  {
   "cell_type": "markdown",
   "metadata": {},
   "source": [
    "Plot"
   ]
  },
  {
   "cell_type": "code",
   "execution_count": 88,
   "metadata": {},
   "outputs": [],
   "source": [
    "df_most_rated_beer = beer_rated_by_expert_casual_different_year[beer_rated_by_expert_casual_different_year['beer_id'] == most_rated_beer_id].groupby(['year', 'is_expert'])['rating'].mean().reset_index()\n",
    "df_most_rated_beer.sort_values(by='year', inplace=True)"
   ]
  },
  {
   "cell_type": "code",
   "execution_count": 89,
   "metadata": {},
   "outputs": [
    {
     "data": {
      "image/png": "[encoded data removed]",
      "text/plain": [
       "<Figure size 640x480 with 1 Axes>"
      ]
     },
     "metadata": {},
     "output_type": "display_data"
    }
   ],
   "source": [
    "sns.set(style=\"whitegrid\")\n",
    "palette = {True: 'blue', False: 'orange'}\n",
    "sns.lineplot(data=df_most_rated_beer, x='year', y='rating', hue='is_expert', palette=palette, marker='o')\n",
    "plt.xlabel('Year')\n",
    "plt.ylabel('Average rating')\n",
    "plt.title(f'Average rating of the beer \"{most_rated_beer_name}\" by casual and expert at different year')\n",
    "plt.show()"
   ]
  },
  {
   "cell_type": "code",
   "execution_count": 81,
   "metadata": {},
   "outputs": [
    {
     "data": {
      "image/png": "[encoded data removed]",
      "text/plain": [
       "<Figure size 640x480 with 1 Axes>"
      ]
     },
     "metadata": {},
     "output_type": "display_data"
    }
   ],
   "source": [
    "sns.set(style=\"whitegrid\")\n",
    "sns.scatterplot(data=df_most_rated_beer, x='year', y='rating', hue='is_expert', style='is_expert', s=100)\n",
    "plt.xlabel('Year')\n",
    "plt.ylabel('Average rating')\n",
    "plt.title(f'Average rating of the beer {most_rated_beer_name} by casual and expert at different year')\n",
    "plt.show()"
   ]
  },
  {
   "cell_type": "markdown",
   "metadata": {},
   "source": [
    "the graph suggests that the rating of experts in 2012 could have influenced the ratings of casuals in 2013 as well as the rating of 2014 which could have influenced the ratings of casuals in 2016 and 2017"
   ]
  },
  {
   "cell_type": "code",
   "execution_count": null,
   "metadata": {},
   "outputs": [],
   "source": []
  }
 ],
 "metadata": {
  "kernelspec": {
   "display_name": "Python 3 (ipykernel)",
   "language": "python",
   "name": "python3"
  },
  "language_info": {
   "codemirror_mode": {
    "name": "ipython",
    "version": 3
   },
   "file_extension": ".py",
   "mimetype": "text/x-python",
   "name": "python",
   "nbconvert_exporter": "python",
   "pygments_lexer": "ipython3",
   "version": "3.9.18"
  }
 },
 "nbformat": 4,
 "nbformat_minor": 2
}
