{
 "cells": [
  {
   "cell_type": "code",
   "execution_count": 308,
   "metadata": {},
   "outputs": [
    {
     "name": "stdout",
     "output_type": "stream",
     "text": [
      "The autoreload extension is already loaded. To reload it, use:\n",
      "  %reload_ext autoreload\n"
     ]
    }
   ],
   "source": [
    "import pandas as pd\n",
    "import numpy as np\n",
    "import seaborn as sns\n",
    "import matplotlib.pyplot as plt\n",
    "from copy import deepcopy\n",
    "import powerlaw\n",
    "from statsmodels.stats import diagnostic\n",
    "from datetime import datetime\n",
    "%matplotlib inline\n",
    "\n",
    "%load_ext autoreload\n",
    "%autoreload 2"
   ]
  },
  {
   "cell_type": "code",
   "execution_count": 309,
   "metadata": {},
   "outputs": [],
   "source": [
    "%reload_ext autoreload"
   ]
  },
  {
   "cell_type": "code",
   "execution_count": 310,
   "metadata": {},
   "outputs": [],
   "source": [
    "from read_functions import *\n",
    "from pickle_functions import *"
   ]
  },
  {
   "cell_type": "code",
   "execution_count": 311,
   "metadata": {
    "tags": []
   },
   "outputs": [],
   "source": [
    "beer_advocate_path = '../datas/BeerAdvocate/'\n",
    "matched_beer_data_path = '../datas/matched_beer_data/'\n",
    "rate_beer_path = '../datas/RateBeer/'\n",
    "\n",
    "advocate_beers_path = beer_advocate_path + 'beers.csv'\n",
    "advovate_breweries_path = beer_advocate_path + 'breweries.csv'\n",
    "advocate_ratings_path = beer_advocate_path + 'ratings.txt'\n",
    "advocate_reviews_path = beer_advocate_path + 'reviews.txt'\n",
    "advocate_users_path = beer_advocate_path + 'users.csv'\n",
    "\n",
    "matched_beer_beers = matched_beer_data_path + 'beers.csv'\n",
    "matched_beer_breweries = matched_beer_data_path + 'breweries.csv'\n",
    "matched_beer_ratings_ba = matched_beer_data_path + 'ratings_ba.txt'\n",
    "matched_beer_ratings_rb = matched_beer_data_path + 'ratings_rb.txt'\n",
    "matched_beer_ratings = matched_beer_data_path + 'ratings.csv'\n",
    "matched_beer_users_approx = matched_beer_data_path + 'users_approx.csv'\n",
    "matched_beer_users = matched_beer_data_path + 'users.csv'\n",
    "\n",
    "rate_beer_beers = rate_beer_path + 'beers.csv'\n",
    "rate_beer_breweries = rate_beer_path + 'breweries.csv'\n",
    "rate_beer_users = rate_beer_path + 'users.csv'\n",
    "rate_beer_ratings = rate_beer_path + 'ratings.txt'\n",
    "rate_beer_reviews = rate_beer_path + 'reviews.txt'\n",
    "\n",
    "contries_path = '../datas/countries/countries.csv'\n"
   ]
  },
  {
   "cell_type": "code",
   "execution_count": 312,
   "metadata": {},
   "outputs": [],
   "source": [
    "beer_advocate_path = '../datas/BeerAdvocate/pickle/'\n",
    "matched_beer_data_path = '../datas/matched_beer_data/pickle/'\n",
    "rate_beer_path = '../datas/RateBeer/pickle/'\n",
    "\n",
    "advocate_beers_path_pickle = beer_advocate_path + 'beers.csv'\n",
    "advovate_breweries_path_pickle = beer_advocate_path + 'breweries.csv'\n",
    "advocate_ratings_path_pickle = beer_advocate_path + 'ratings.txt'\n",
    "advocate_reviews_path_pickle = beer_advocate_path + 'reviews.txt'\n",
    "advocate_users_path_pickle = beer_advocate_path + 'users.csv'\n",
    "\n",
    "matched_beer_beers_pickle = matched_beer_data_path + 'beers.csv'\n",
    "matched_beer_breweries_pickle = matched_beer_data_path + 'breweries.csv'\n",
    "matched_beer_ratings_ba_pickle = matched_beer_data_path + 'ratings_ba.txt'\n",
    "matched_beer_ratings_rb_pickle = matched_beer_data_path + 'ratings_rb.txt'\n",
    "matched_beer_ratings_pickle = matched_beer_data_path + 'ratings.csv'\n",
    "matched_beer_users_approx_pickle = matched_beer_data_path + 'users_approx.csv'\n",
    "matched_beer_users_pickle = matched_beer_data_path + 'users.csv'\n",
    "\n",
    "rate_beer_beers_pickle = rate_beer_path + 'beers.csv'\n",
    "rate_beer_breweries_pickle = rate_beer_path + 'breweries.csv'\n",
    "rate_beer_users_pickle = rate_beer_path + 'users.csv'\n",
    "rate_beer_ratings_pickle = rate_beer_path + 'ratings.txt'\n",
    "rate_beer_reviews_pickle = rate_beer_path + 'reviews.txt'"
   ]
  },
  {
   "cell_type": "code",
   "execution_count": 313,
   "metadata": {},
   "outputs": [],
   "source": [
    "#Define list of datas for each website\n",
    "datas_matched_beer_names = ['df_matched_beer_beers','df_matched_beer_breweries','df_matched_beer_ratings_ba','df_matched_beer_ratings_rb','df_matched_beer_ratings','df_matched_beer_users_approx','df_matched_beer_users']\n",
    "datas_advocate_names = ['df_advocate_beers','df_advocate_breweries','df_advocate_ratings','df_advocate_reviews','df_advocate_users']\n",
    "datas_rate_beer_names = ['df_rate_beer_beers','df_rate_beer_breweries','df_rate_beer_users','df_rate_beer_ratings','df_rate_beer_ratings']"
   ]
  },
  {
   "cell_type": "markdown",
   "metadata": {},
   "source": [
    "### import datas "
   ]
  },
  {
   "cell_type": "raw",
   "metadata": {},
   "source": [
    "df_advocate_beers = pd.read_csv(advocate_beers_path, sep=',')\n",
    "df_advocate_breweries = pd.read_csv(advovate_breweries_path, sep=',')\n",
    "df_advocate_ratings = read_txt(advocate_ratings_path)\n",
    "df_advocate_reviews = read_txt(advocate_reviews_path)\n",
    "df_advocate_users = pd.read_csv(advocate_users_path, sep=',')"
   ]
  },
  {
   "cell_type": "raw",
   "metadata": {},
   "source": [
    "df_rate_beer_beers = pd.read_csv(rate_beer_beers, sep=',')\n",
    "df_rate_beer_breweries = pd.read_csv(rate_beer_breweries, sep=',')\n",
    "df_rate_beer_users = pd.read_csv(rate_beer_users, sep=',')\n",
    "df_rate_beer_ratings = read_txt(rate_beer_ratings)\n",
    "df_rate_beer_reviews = read_txt(rate_beer_reviews)"
   ]
  },
  {
   "cell_type": "raw",
   "metadata": {},
   "source": [
    "df_matched_beer_beers = pd.read_csv(matched_beer_beers, sep=',')\n",
    "df_matched_beer_breweries = pd.read_csv(matched_beer_breweries, sep=',')\n",
    "df_matched_beer_ratings_ba = read_txt(matched_beer_ratings_ba)\n",
    "df_matched_beer_ratings_rb = read_txt(matched_beer_ratings_rb)\n",
    "df_matched_beer_ratings = pd.read_csv(matched_beer_ratings, sep=',')\n",
    "df_matched_beer_users_approx = pd.read_csv(matched_beer_users_approx)\n",
    "df_matched_beer_users = pd.read_csv(matched_beer_users)"
   ]
  },
  {
   "cell_type": "markdown",
   "metadata": {},
   "source": [
    "### Import datas stored as pickle"
   ]
  },
  {
   "cell_type": "code",
   "execution_count": 356,
   "metadata": {},
   "outputs": [
    {
     "name": "stdout",
     "output_type": "stream",
     "text": [
      "Loading df_matched_beer_beers...\n",
      "Loading df_matched_beer_breweries...\n",
      "Loading df_matched_beer_ratings_ba...\n",
      "Loading df_matched_beer_ratings_rb...\n",
      "Loading df_matched_beer_ratings...\n",
      "Loading df_matched_beer_users_approx...\n",
      "Loading df_matched_beer_users...\n",
      "Loading df_rate_beer_beers...\n",
      "Loading df_rate_beer_breweries...\n",
      "Loading df_rate_beer_users...\n",
      "Loading df_rate_beer_ratings...\n",
      "Loading df_rate_beer_ratings...\n",
      "Loading df_advocate_beers...\n",
      "Loading df_advocate_breweries...\n",
      "Loading df_advocate_ratings...\n",
      "Loading df_advocate_reviews...\n",
      "Loading df_advocate_users...\n"
     ]
    }
   ],
   "source": [
    "df_matched_beer_beers,df_matched_beer_breweries,df_matched_beer_ratings_ba,df_matched_beer_ratings_rb,df_matched_beer_ratings,df_matched_beer_users_approx,df_matched_beer_users = load_datas('matched_beer_data', datas_matched_beer_names)\n",
    "df_rate_beer_beers,df_rate_beer_breweries,df_rate_beer_users,df_rate_beer_ratings,df_rate_beer_reviews = load_datas('RateBeer', datas_rate_beer_names)\n",
    "df_advocate_beers,df_advocate_breweries,df_advocate_ratings,df_advocate_reviews,df_advocate_users = load_datas('BeerAdvocate', datas_advocate_names)"
   ]
  },
  {
   "cell_type": "markdown",
   "metadata": {},
   "source": [
    "## Store dataFrame into picke format"
   ]
  },
  {
   "cell_type": "code",
   "execution_count": null,
   "metadata": {},
   "outputs": [],
   "source": [
    "datas_rate_beer = [df_rate_beer_beers,df_rate_beer_breweries,df_rate_beer_users,df_rate_beer_ratings,df_rate_beer_reviews]\n",
    "datas_matched_beer = [df_matched_beer_beers,df_matched_beer_breweries,df_matched_beer_ratings_ba,df_matched_beer_ratings_rb,df_matched_beer_ratings,df_matched_beer_users_approx,df_matched_beer_users]\n",
    "datas_advocate_beer = [df_advocate_beers,df_advocate_breweries,df_advocate_ratings,df_advocate_reviews,df_advocate_users]"
   ]
  },
  {
   "cell_type": "code",
   "execution_count": null,
   "metadata": {},
   "outputs": [],
   "source": [
    "#Saving datas\n",
    "save_datas('RateBeer', datas_rate_beer,datas_rate_beer_names)\n",
    "save_datas('matched_beer_data', datas_matched_beer,datas_matched_beer_names)"
   ]
  },
  {
   "cell_type": "markdown",
   "metadata": {},
   "source": [
    "# Initial data analysis"
   ]
  },
  {
   "cell_type": "markdown",
   "metadata": {},
   "source": [
    "## Preprocessing datasets"
   ]
  },
  {
   "cell_type": "code",
   "execution_count": 357,
   "metadata": {},
   "outputs": [],
   "source": [
    "advocate = deepcopy(df_advocate_users)\n",
    "matched = deepcopy(df_matched_beer_users)\n",
    "matched_index = matched.iloc[0,:]\n",
    "matched.drop(index = 0, inplace = True)"
   ]
  },
  {
   "cell_type": "code",
   "execution_count": 358,
   "metadata": {},
   "outputs": [],
   "source": [
    "#convert join date to datetime\n",
    "# -*- matched -*-\n",
    "matched['ba'] = pd.to_datetime(pd.to_numeric(matched['ba']),unit='s')\n",
    "matched['rb'] = pd.to_datetime(pd.to_numeric(matched['rb']),unit='s')\n",
    "\n",
    "# -*- rate_beer -*-\n",
    "df_rate_beer_users['joined'] = pd.to_datetime(pd.to_numeric(df_rate_beer_users['joined']),unit='s')"
   ]
  },
  {
   "cell_type": "code",
   "execution_count": 359,
   "metadata": {},
   "outputs": [],
   "source": [
    "#convert columns to right type\n",
    "# -*- matched -*-\n",
    "string_columns = ['ba.1','ba.4','ba.5','ba.6','rb.1','rb.3','rb.4','rb.5']\n",
    "matched[string_columns] = matched[string_columns].astype(str)\n",
    "int_columns = ['ba.2','ba.3','rb.2']\n",
    "matched[int_columns] = matched[int_columns].astype(int)"
   ]
  },
  {
   "cell_type": "markdown",
   "metadata": {},
   "source": [
    "## Merging Datasets"
   ]
  },
  {
   "cell_type": "code",
   "execution_count": 360,
   "metadata": {},
   "outputs": [],
   "source": [
    "#Change matched columns names to match Beer Advocate\n",
    "matched = matched.rename(columns={'ba.2': 'nbr_ratings', 'ba.3': 'nbr_reviews', 'ba.4': 'user_id', 'ba.5': 'user_name', 'ba': 'joined', 'ba.1': 'location'})"
   ]
  },
  {
   "cell_type": "code",
   "execution_count": 361,
   "metadata": {},
   "outputs": [],
   "source": [
    "#Index where to merge\n",
    "index_merge = ['nbr_ratings', 'nbr_reviews', 'user_id', 'user_name', 'joined','location']"
   ]
  },
  {
   "cell_type": "code",
   "execution_count": 362,
   "metadata": {},
   "outputs": [],
   "source": [
    "#Merging with Beer Advocate\n",
    "df_dataset_users = pd.merge(\n",
    "    df_advocate_users, \n",
    "    matched, how='left', \n",
    "    on=index_merge,\n",
    ")"
   ]
  },
  {
   "cell_type": "code",
   "execution_count": 363,
   "metadata": {},
   "outputs": [
    {
     "data": {
      "text/plain": [
       "True"
      ]
     },
     "execution_count": 363,
     "metadata": {},
     "output_type": "execute_result"
    }
   ],
   "source": [
    "#verify that all the users are matched\n",
    "df_dataset_users.shape[0] - df_dataset_users.rb.isna().sum() == matched.shape[0]"
   ]
  },
  {
   "cell_type": "code",
   "execution_count": 364,
   "metadata": {},
   "outputs": [],
   "source": [
    "#Format column name to perform merge on Rate Beer\n",
    "df_dataset_users = df_dataset_users.rename(columns={'nbr_ratings': 'ba_nbr_ratings', 'nbr_reviews': 'ba_nbr_reviews', 'user_id': 'ba_user_id', 'user_name': 'ba_user_name', 'joined': 'ba_joined', 'location': 'ba_location'})\n",
    "df_dataset_users = df_dataset_users.rename(columns={'rb':'joined','rb.1':'location','rb.2':'nbr_ratings','rb.3':'user_id','rb.4':'user_name','rb.5':'user_name_lower'})"
   ]
  },
  {
   "cell_type": "code",
   "execution_count": 365,
   "metadata": {},
   "outputs": [],
   "source": [
    "index_merge = ['joined', 'location', 'nbr_ratings', 'user_id', 'user_name']"
   ]
  },
  {
   "cell_type": "code",
   "execution_count": 366,
   "metadata": {},
   "outputs": [],
   "source": [
    "#Convert user_id type for merging\n",
    "df_dataset_users.user_id = df_dataset_users.user_id.astype(float)\n",
    "df_rate_beer_users.user_id = df_rate_beer_users.user_id.astype(float)"
   ]
  },
  {
   "cell_type": "code",
   "execution_count": 367,
   "metadata": {},
   "outputs": [],
   "source": [
    "df_dataset_users = df_dataset_users.merge(df_rate_beer_users, how='outer', on=index_merge)"
   ]
  },
  {
   "cell_type": "code",
   "execution_count": 368,
   "metadata": {},
   "outputs": [],
   "source": [
    "df_dataset_users['location'] = df_dataset_users['ba_location'].combine_first(df_dataset_users['location'])\n",
    "df_dataset_users['joined'] = df_dataset_users['ba_joined'].combine_first(df_dataset_users['joined'])\n",
    "df_dataset_users['user_id'] = df_dataset_users['ba_user_id'].combine_first(df_dataset_users['user_id'])"
   ]
  },
  {
   "cell_type": "code",
   "execution_count": 369,
   "metadata": {},
   "outputs": [],
   "source": [
    "df_dataset_users = df_dataset_users[['user_id','joined','location','nbr_ratings','ba_nbr_ratings','ba_nbr_reviews']]\n",
    "df_dataset_users = df_dataset_users.rename(columns={'nbr_ratings': 'rb_nbr_ratings'})"
   ]
  },
  {
   "cell_type": "code",
   "execution_count": 371,
   "metadata": {},
   "outputs": [
    {
     "data": {
      "text/plain": [
       "True"
      ]
     },
     "execution_count": 371,
     "metadata": {},
     "output_type": "execute_result"
    }
   ],
   "source": [
    "#verify the result\n",
    "df_dataset_users.shape[0] == df_advocate_users.shape[0] + df_rate_beer_users.shape[0] - matched.shape[0]"
   ]
  },
  {
   "cell_type": "markdown",
   "metadata": {},
   "source": [
    "## Analysis of the distribution\n",
    " 1. Beer Advocate"
   ]
  },
  {
   "cell_type": "code",
   "execution_count": null,
   "metadata": {},
   "outputs": [],
   "source": [
    "Advocate_users_per_country = deepcopy(pd.DataFrame(df_advocate_users.groupby('location')['user_id'].count()))\n",
    "Advocate_users_per_country.columns = ['nb_users']\n",
    "Advocate_users_per_country.sort_values(ascending=False, by='nb_users', inplace=True)\n",
    "Advocate_users_per_country[Advocate_users_per_country.index.str.startswith('United States')].agg('sum')\n",
    "\n",
    "Advocate_users_per_country.loc['United States', 'nb_users'] = Advocate_users_per_country[\n",
    "    Advocate_users_per_country.index.str.startswith('United')\n",
    "]['nb_users'].sum()\n",
    "Advocate_users_per_country.drop(labels=Advocate_users_per_country[Advocate_users_per_country.index.str.startswith('United States,')].index, inplace=True)\n",
    "Advocate_users_per_country.sort_values(ascending=False, by='nb_users', inplace=True)    "
   ]
  },
  {
   "cell_type": "code",
   "execution_count": null,
   "metadata": {},
   "outputs": [],
   "source": [
    "sns.barplot(x=Advocate_users_per_country.index[:10], y=Advocate_users_per_country['nb_users'][:10])\n",
    "plt.title('Number of users per country for BeerAdvocate')\n",
    "plt.ylabel('Number of users')\n",
    "plt.semilogy()\n",
    "plt.xticks(rotation=45)\n",
    "plt.show()"
   ]
  },
  {
   "cell_type": "code",
   "execution_count": null,
   "metadata": {},
   "outputs": [],
   "source": [
    "plt.hist(data=df_advocate_users, x='nbr_ratings', bins=100000, cumulative=-1, histtype='step')\n",
    "plt.title('Cumulative histogram of the number of ratings per user for BeerAdvocate')\n",
    "plt.xlabel('Number of users')\n",
    "plt.ylabel('Number of ratings')\n",
    "plt.loglog()\n",
    "plt.show()"
   ]
  },
  {
   "cell_type": "code",
   "execution_count": null,
   "metadata": {},
   "outputs": [],
   "source": [
    "# Define the power law function\n",
    "def power_law(x, alpha):\n",
    "    return x**(-alpha)"
   ]
  },
  {
   "cell_type": "code",
   "execution_count": null,
   "metadata": {},
   "outputs": [],
   "source": [
    "fit = powerlaw.Fit(df_advocate_users['nbr_ratings'].values)\n",
    "\n",
    "print('alpha =', fit.alpha)\n",
    "\n",
    "# R: loglikelihood ratio of the two distributions if positive the first distribution is better\n",
    "R, p = fit.distribution_compare('power_law', 'exponential', normalized_ratio=True)\n",
    "print('R =', R)\n",
    "print('p =', p)\n",
    "\n",
    "powerlaw.plot_pdf(df_advocate_users['nbr_ratings'].values, color='b')\n",
    "fit.power_law.plot_pdf(color='r', linestyle='--')\n",
    "\n",
    "plt.title('Power law distribution of the number of ratings per user for Beer Advocate')\n",
    "plt.xlabel('Number of ratings')\n",
    "plt.ylabel('Probability density')\n",
    "plt.show()"
   ]
  },
  {
   "cell_type": "markdown",
   "metadata": {},
   "source": [
    "2. Rate Beer"
   ]
  },
  {
   "cell_type": "code",
   "execution_count": null,
   "metadata": {},
   "outputs": [],
   "source": [
    "rate_beer_users_per_country = deepcopy(pd.DataFrame(df_rate_beer_users.groupby('location')['user_id'].count()))\n",
    "rate_beer_users_per_country.columns = ['nb_users']\n",
    "rate_beer_users_per_country.sort_values(ascending=False, by='nb_users', inplace=True)\n",
    "\n",
    "rate_beer_users_per_country.loc['United States', 'nb_users'] = rate_beer_users_per_country[\n",
    "    rate_beer_users_per_country.index.str.startswith('United')\n",
    "]['nb_users'].sum()\n",
    "rate_beer_users_per_country.drop(labels=rate_beer_users_per_country[rate_beer_users_per_country.index.str.startswith('United States,')].index, inplace=True)\n",
    "rate_beer_users_per_country.sort_values(ascending=False, by='nb_users', inplace=True)   "
   ]
  },
  {
   "cell_type": "code",
   "execution_count": null,
   "metadata": {},
   "outputs": [],
   "source": [
    "sns.barplot(x=rate_beer_users_per_country.index[:10], y=rate_beer_users_per_country['nb_users'][:10])\n",
    "plt.title('Number of users per country for Matched Beer')\n",
    "plt.ylabel('Number of users')\n",
    "plt.semilogy()\n",
    "plt.xticks(rotation=45)\n",
    "plt.show()"
   ]
  },
  {
   "cell_type": "code",
   "execution_count": null,
   "metadata": {},
   "outputs": [],
   "source": [
    "plt.hist(data=df_rate_beer_users, x='nbr_ratings', bins=100000, cumulative=-1, histtype='step')\n",
    "plt.title('Cumulative histogram of the number of ratings per user for Rate Beer')\n",
    "plt.xlabel('Number of users')\n",
    "plt.ylabel('Number of ratings')\n",
    "plt.loglog()\n",
    "plt.show()"
   ]
  },
  {
   "cell_type": "code",
   "execution_count": null,
   "metadata": {},
   "outputs": [],
   "source": [
    "fit = powerlaw.Fit(df_rate_beer_users['nbr_ratings'].values)\n",
    "\n",
    "print('alpha =', fit.alpha)\n",
    "\n",
    "# R: loglikelihood ratio of the two distributions if positive the first distribution is better\n",
    "R, p = fit.distribution_compare('power_law', 'exponential', normalized_ratio=True)\n",
    "print('R =', R)\n",
    "print('p =', p)\n",
    "\n",
    "powerlaw.plot_pdf(df_rate_beer_users['nbr_ratings'].values, color='b')\n",
    "fit.power_law.plot_pdf(color='r', linestyle='--')\n",
    "\n",
    "plt.title('Power law distribution of the number of ratings per user for RateBeer')\n",
    "plt.xlabel('Number of ratings')\n",
    "plt.ylabel('Probability density')\n",
    "plt.show()"
   ]
  }
 ],
 "metadata": {
  "kernelspec": {
   "display_name": "Python 3 (ipykernel)",
   "language": "python",
   "name": "python3"
  },
  "language_info": {
   "codemirror_mode": {
    "name": "ipython",
    "version": 3
   },
   "file_extension": ".py",
   "mimetype": "text/x-python",
   "name": "python",
   "nbconvert_exporter": "python",
   "pygments_lexer": "ipython3",
   "version": "3.12.0"
  }
 },
 "nbformat": 4,
 "nbformat_minor": 2
}
