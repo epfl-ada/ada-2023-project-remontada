{
 "cells": [
  {
   "cell_type": "code",
   "execution_count": 2,
   "metadata": {},
   "outputs": [],
   "source": [
    "# -*- coding: utf-8 -*-\n",
    "# -*- author : Vincent Roduit -*-\n",
    "# -*- date : 2023-11-12 -*-\n",
    "# -*- Last revision: 2023-11-14 -*-\n",
    "# -*- python version : 3.12.0 -*-\n",
    "# -*- Description: Create the dataset of all users -*-"
   ]
  },
  {
   "cell_type": "code",
   "execution_count": 3,
   "metadata": {},
   "outputs": [],
   "source": [
    "#import libraries\n",
    "import pandas as pd\n",
    "import numpy as np\n",
    "import seaborn as sns\n",
    "import matplotlib.pyplot as plt\n",
    "from copy import deepcopy\n",
    "import powerlaw\n",
    "from statsmodels.stats import diagnostic\n",
    "from datetime import datetime\n",
    "%matplotlib inline\n",
    "\n",
    "%load_ext autoreload\n",
    "%autoreload 2"
   ]
  },
  {
   "cell_type": "code",
   "execution_count": 4,
   "metadata": {},
   "outputs": [],
   "source": [
    "%reload_ext autoreload"
   ]
  },
  {
   "cell_type": "code",
   "execution_count": 5,
   "metadata": {},
   "outputs": [],
   "source": [
    "#import functions\n",
    "from read.read_functions import *\n",
    "from read.pickle_functions import *\n",
    "from create_all_users import create_all_users\n",
    "from create_rating_statistic import create_ratings_stat"
   ]
  },
  {
   "cell_type": "markdown",
   "metadata": {},
   "source": [
    "# Download and save datas\n",
    "### Data paths"
   ]
  },
  {
   "cell_type": "code",
   "execution_count": 9,
   "metadata": {
    "tags": []
   },
   "outputs": [],
   "source": [
    "beer_advocate_path = '../datas/BeerAdvocate/'\n",
    "matched_beer_data_path = '../datas/matched_beer_data/'\n",
    "rate_beer_path = '../datas/RateBeer/'\n",
    "\n",
    "advocate_beers_path = beer_advocate_path + 'beers.csv'\n",
    "advovate_breweries_path = beer_advocate_path + 'breweries.csv'\n",
    "advocate_ratings_path = beer_advocate_path + 'ratings.txt'\n",
    "advocate_reviews_path = beer_advocate_path + 'reviews.txt'\n",
    "advocate_users_path = beer_advocate_path + 'users.csv'\n",
    "\n",
    "matched_beer_beers = matched_beer_data_path + 'beers.csv'\n",
    "matched_beer_breweries = matched_beer_data_path + 'breweries.csv'\n",
    "matched_beer_ratings_ba = matched_beer_data_path + 'ratings_ba.txt'\n",
    "matched_beer_ratings_rb = matched_beer_data_path + 'ratings_rb.txt'\n",
    "matched_beer_ratings = matched_beer_data_path + 'ratings.csv'\n",
    "matched_beer_users_approx = matched_beer_data_path + 'users_approx.csv'\n",
    "matched_beer_users = matched_beer_data_path + 'users.csv'\n",
    "\n",
    "rate_beer_beers = rate_beer_path + 'beers.csv'\n",
    "rate_beer_breweries = rate_beer_path + 'breweries.csv'\n",
    "rate_beer_users = rate_beer_path + 'users.csv'\n",
    "rate_beer_ratings = rate_beer_path + 'ratings.txt'\n",
    "rate_beer_reviews = rate_beer_path + 'reviews.txt'\n",
    "\n",
    "contries_path = '../datas/countries/countries.csv'\n"
   ]
  },
  {
   "cell_type": "code",
   "execution_count": 10,
   "metadata": {},
   "outputs": [],
   "source": [
    "beer_advocate_path_pickle = '../datas/BeerAdvocate/pickles/df_advocate_'\n",
    "matched_beer_data_path_pickle = '../datas/matched_beer_data/pickles/df_matched_beer_'\n",
    "rate_beer_path_pickle = '../datas/RateBeer/pickles/df_rate_beer_'\n",
    "\n",
    "advocate_beers_path_pickle = beer_advocate_path_pickle + 'beers.pkl'\n",
    "advovate_breweries_path_pickle = beer_advocate_path_pickle + 'breweries.pkl'\n",
    "advocate_ratings_path_pickle = beer_advocate_path_pickle + 'ratings.pkl'\n",
    "advocate_reviews_path_pickle = beer_advocate_path_pickle + 'reviews.pkl'\n",
    "advocate_users_path_pickle = beer_advocate_path_pickle + 'users.pkl'\n",
    "\n",
    "matched_beer_beers_pickle = matched_beer_data_path_pickle + 'beers.pkl'\n",
    "matched_beer_breweries_pickle = matched_beer_data_path_pickle + 'breweries.pkl'\n",
    "matched_beer_ratings_ba_pickle = matched_beer_data_path_pickle + 'ratings_ba.pkl'\n",
    "matched_beer_ratings_rb_pickle = matched_beer_data_path_pickle + 'ratings_rb.pkl'\n",
    "matched_beer_ratings_pickle = matched_beer_data_path_pickle + 'ratings.pkl'\n",
    "matched_beer_users_approx_pickle = matched_beer_data_path_pickle + 'users_approx.pkl'\n",
    "matched_beer_users_pickle = matched_beer_data_path_pickle + 'users.csv'\n",
    "\n",
    "rate_beer_beers_pickle = rate_beer_path_pickle + 'beers.pkl'\n",
    "rate_beer_breweries_pickle = rate_beer_path_pickle + 'breweries.pkl'\n",
    "rate_beer_users_pickle = rate_beer_path_pickle + 'users.pkl'\n",
    "rate_beer_ratings_pickle = rate_beer_path_pickle + 'ratings.pkl'\n",
    "rate_beer_reviews_pickle = rate_beer_path_pickle + 'reviews.pkl'"
   ]
  },
  {
   "cell_type": "code",
   "execution_count": 7,
   "metadata": {},
   "outputs": [],
   "source": [
    "#Define list of datas for each website\n",
    "datas_matched_beer_names = ['df_matched_beer_beers','df_matched_beer_breweries','df_matched_beer_ratings_ba','df_matched_beer_ratings_rb','df_matched_beer_ratings','df_matched_beer_users_approx','df_matched_beer_users']\n",
    "datas_advocate_names = ['df_advocate_beers','df_advocate_breweries','df_advocate_ratings','df_advocate_reviews','df_advocate_users']\n",
    "datas_rate_beer_names = ['df_rate_beer_beers','df_rate_beer_breweries','df_rate_beer_users','df_rate_beer_ratings','df_rate_beer_reviews']"
   ]
  },
  {
   "cell_type": "markdown",
   "metadata": {},
   "source": [
    "### import datas\n",
    "$\\color{Red}{\\text{Attention}}$ : Run the celluls in this section only if the datasets stored as pickle are not available."
   ]
  },
  {
   "cell_type": "raw",
   "metadata": {},
   "source": [
    "df_advocate_beers = pd.read_csv(advocate_beers_path, sep=',')\n",
    "df_advocate_breweries = pd.read_csv(advovate_breweries_path, sep=',')\n",
    "df_advocate_ratings = read_txt(advocate_ratings_path)\n",
    "df_advocate_reviews = read_txt(advocate_reviews_path)\n",
    "df_advocate_users = pd.read_csv(advocate_users_path, sep=',')"
   ]
  },
  {
   "cell_type": "raw",
   "metadata": {},
   "source": [
    "df_rate_beer_beers = pd.read_csv(rate_beer_beers, sep=',')\n",
    "df_rate_beer_breweries = pd.read_csv(rate_beer_breweries, sep=',')\n",
    "df_rate_beer_users = pd.read_csv(rate_beer_users, sep=',')\n",
    "df_rate_beer_ratings = read_txt(rate_beer_ratings)\n",
    "df_rate_beer_reviews = read_txt(rate_beer_reviews)"
   ]
  },
  {
   "cell_type": "raw",
   "metadata": {},
   "source": [
    "df_matched_beer_beers = pd.read_csv(matched_beer_beers, sep=',')\n",
    "df_matched_beer_breweries = pd.read_csv(matched_beer_breweries, sep=',')\n",
    "df_matched_beer_ratings_ba = read_txt(matched_beer_ratings_ba)\n",
    "df_matched_beer_ratings_rb = read_txt(matched_beer_ratings_rb)\n",
    "df_matched_beer_ratings = pd.read_csv(matched_beer_ratings, sep=',')\n",
    "df_matched_beer_users_approx = pd.read_csv(matched_beer_users_approx)\n",
    "df_matched_beer_users = pd.read_csv(matched_beer_users)"
   ]
  },
  {
   "cell_type": "markdown",
   "metadata": {},
   "source": [
    "### Import datas stored as pickle"
   ]
  },
  {
   "cell_type": "code",
   "execution_count": 8,
   "metadata": {},
   "outputs": [
    {
     "name": "stdout",
     "output_type": "stream",
     "text": [
      "Loading df_matched_beer_beers...\n",
      "Loading df_matched_beer_breweries...\n",
      "Loading df_matched_beer_ratings_ba...\n",
      "Loading df_matched_beer_ratings_rb...\n",
      "Loading df_matched_beer_ratings...\n",
      "Loading df_matched_beer_users_approx...\n",
      "Loading df_matched_beer_users...\n",
      "Loading df_advocate_beers...\n",
      "Loading df_advocate_breweries...\n",
      "Loading df_advocate_ratings...\n",
      "Loading df_advocate_reviews...\n",
      "Loading df_advocate_users...\n",
      "Loading df_rate_beer_beers...\n",
      "Loading df_rate_beer_breweries...\n",
      "Loading df_rate_beer_users...\n",
      "Loading df_rate_beer_ratings...\n",
      "Loading df_rate_beer_reviews...\n"
     ]
    }
   ],
   "source": [
    "#import raw data sets\n",
    "df_matched_beer_beers, df_matched_beer_breweries, df_matched_beer_ratings_ba, df_matched_beer_ratings_rb, df_matched_beer_ratings, df_matched_beer_users_approx, df_matched_beer_users = load_datas('matched_beer_data', datas_matched_beer_names)\n",
    "df_advocate_beers, df_advocate_breweries, df_advocate_ratings, df_advocate_reviews, df_advocate_users = load_datas('BeerAdvocate', datas_advocate_names)\n",
    "df_rate_beer_beers,df_rate_beer_breweries,df_rate_beer_users,df_rate_beer_ratings,df_rate_beer_reviews = load_datas('RateBeer', datas_rate_beer_names)"
   ]
  },
  {
   "cell_type": "markdown",
   "metadata": {},
   "source": [
    "## Store dataFrame into picke format\n",
    "Use this section to store the datasets in pickle (normally done once)"
   ]
  },
  {
   "cell_type": "code",
   "execution_count": null,
   "metadata": {},
   "outputs": [],
   "source": [
    "datas_rate_beer = [df_rate_beer_beers,df_rate_beer_breweries,df_rate_beer_users,df_rate_beer_ratings,df_rate_beer_reviews]\n",
    "datas_matched_beer = [df_matched_beer_beers,df_matched_beer_breweries,df_matched_beer_ratings_ba,df_matched_beer_ratings_rb,df_matched_beer_ratings,df_matched_beer_users_approx,df_matched_beer_users]\n",
    "datas_advocate_beer = [df_advocate_beers,df_advocate_breweries,df_advocate_ratings,df_advocate_reviews,df_advocate_users]"
   ]
  },
  {
   "cell_type": "code",
   "execution_count": null,
   "metadata": {},
   "outputs": [],
   "source": [
    "df_rate_beer_ratings = read_txt(rate_beer_ratings)"
   ]
  },
  {
   "cell_type": "code",
   "execution_count": null,
   "metadata": {},
   "outputs": [],
   "source": [
    "save_pickle(df_rate_beer_ratings, '../datas/RateBeer/pickles/df_rate_beer_ratings.pkl')"
   ]
  },
  {
   "cell_type": "code",
   "execution_count": null,
   "metadata": {},
   "outputs": [],
   "source": [
    "#Saving datas\n",
    "save_datas('RateBeer', datas_rate_beer,datas_rate_beer_names)\n",
    "save_datas('matched_beer_data', datas_matched_beer,datas_matched_beer_names)\n",
    "save_datas('BeerAdvocate', datas_advocate_beer,datas_advocate_names)"
   ]
  },
  {
   "cell_type": "markdown",
   "metadata": {},
   "source": [
    "# Initial data analysis"
   ]
  },
  {
   "cell_type": "markdown",
   "metadata": {},
   "source": [
    "## 0. Preprocessing datasets"
   ]
  },
  {
   "cell_type": "code",
   "execution_count": 9,
   "metadata": {},
   "outputs": [],
   "source": [
    "from cleaning_functions.matched_beer import *\n",
    "from cleaning_functions.rate_beer import *\n",
    "from cleaning_functions.advocate import *\n",
    "from create_all_beers import *"
   ]
  },
  {
   "cell_type": "code",
   "execution_count": 32,
   "metadata": {},
   "outputs": [],
   "source": [
    "mb_users = deepcopy(df_matched_beer_users)\n",
    "users, mb_users_index = clean_mb_users(mb_users)\n",
    "advocate_users = deepcopy(df_advocate_users)\n",
    "advocate_users = clean_advocate_users(advocate_users)\n",
    "rb_users = deepcopy(df_rate_beer_users)\n",
    "rb_users = clean_rb_users(rb_users)"
   ]
  },
  {
   "cell_type": "code",
   "execution_count": 33,
   "metadata": {},
   "outputs": [],
   "source": [
    "adv_beers = deepcopy(df_advocate_beers)\n",
    "rb_beers = deepcopy(df_rate_beer_beers)\n",
    "mb_beers = deepcopy(df_matched_beer_beers)"
   ]
  },
  {
   "cell_type": "code",
   "execution_count": 34,
   "metadata": {},
   "outputs": [],
   "source": [
    "adv_beers = clean_advocate_beers(adv_beers)\n",
    "rb_beers = clean_rb_beers(rb_beers)\n",
    "mb_beers = clean_mb_beers(mb_beers)"
   ]
  },
  {
   "cell_type": "code",
   "execution_count": 35,
   "metadata": {},
   "outputs": [],
   "source": [
    "df_all_beers = create_all_beers(adv_beers,rb_beers,mb_beers)"
   ]
  },
  {
   "cell_type": "code",
   "execution_count": 49,
   "metadata": {},
   "outputs": [],
   "source": [
    "ba_ratings = deepcopy(df_advocate_ratings)\n",
    "rb_ratings = deepcopy(df_rate_beer_ratings)"
   ]
  },
  {
   "cell_type": "code",
   "execution_count": 50,
   "metadata": {},
   "outputs": [],
   "source": [
    "ba_ratings = clean_advocate_ratings(ba_ratings,df_all_beers)"
   ]
  },
  {
   "cell_type": "code",
   "execution_count": 51,
   "metadata": {},
   "outputs": [],
   "source": [
    "rb_ratings = clean_rb_ratings(rb_ratings,df_all_beers)"
   ]
  },
  {
   "cell_type": "code",
   "execution_count": 44,
   "metadata": {},
   "outputs": [],
   "source": [
    "df_all_users = create_all_users(advocate_users,mb_users,rb_users)"
   ]
  },
  {
   "cell_type": "code",
   "execution_count": 52,
   "metadata": {},
   "outputs": [
    {
     "name": "stdout",
     "output_type": "stream",
     "text": [
      "Creating copies...\n",
      "processing dataframes...\n",
      "Merging dataframes...\n",
      "Concatenating dataframes...\n"
     ]
    }
   ],
   "source": [
    "ratings_stat = create_ratings_stat(ba_ratings,rb_ratings,df_all_users)"
   ]
  },
  {
   "cell_type": "code",
   "execution_count": 54,
   "metadata": {},
   "outputs": [],
   "source": [
    "save_pickle(ratings_stat, '../datas/ratings_stat.pkl')"
   ]
  },
  {
   "cell_type": "markdown",
   "metadata": {},
   "source": [
    "## Merging Datasets"
   ]
  },
  {
   "cell_type": "code",
   "execution_count": null,
   "metadata": {},
   "outputs": [],
   "source": [
    "df_all_users = create_all_users(advocate_users,mb_users,rb_users)"
   ]
  },
  {
   "cell_type": "code",
   "execution_count": null,
   "metadata": {},
   "outputs": [],
   "source": [
    "df_ratings_stat = create_ratings_stat(advocate_ratings,rb_ratings, df_all_users)"
   ]
  },
  {
   "cell_type": "code",
   "execution_count": null,
   "metadata": {},
   "outputs": [],
   "source": [
    "df_advocate_ratings_parameters = deepcopy(df_advocate_ratings[['appearance','aroma','palate','taste','overall','rating']])\n",
    "df_advocate_ratings_parameters = df_advocate_ratings_parameters.astype(float)\n",
    "df_rate_beer_reviews_parameters = deepcopy(df_rate_beer_reviews[['appearance','aroma','palate','taste','overall','rating']])\n",
    "df_rate_beer_reviews_parameters = df_rate_beer_reviews_parameters.astype(float)"
   ]
  },
  {
   "cell_type": "code",
   "execution_count": null,
   "metadata": {},
   "outputs": [],
   "source": [
    "advocate_appearance = np.sort(df_advocate_ratings_parameters['appearance'].astype(float).unique())\n",
    "advocate_aroma = np.sort(df_advocate_ratings_parameters['aroma'].astype(float).unique())\n",
    "advocate_palate = np.sort(df_advocate_ratings_parameters['palate'].astype(float).unique())\n",
    "advocate_taste = np.sort(df_advocate_ratings_parameters['taste'].astype(float).unique())\n",
    "advocate_overall = np.sort(df_advocate_ratings_parameters['overall'].astype(float).unique())\n",
    "rate_beer_appearance = np.sort(df_rate_beer_reviews_parameters['appearance'].astype(float).unique())\n",
    "rate_beer_aroma = np.sort(df_rate_beer_reviews_parameters['aroma'].astype(float).unique())\n",
    "rate_beer_palate = np.sort(df_rate_beer_reviews_parameters['palate'].astype(float).unique())\n",
    "rate_beer_taste = np.sort(df_rate_beer_reviews_parameters['taste'].astype(float).unique())\n",
    "rate_beer_overall = np.sort(df_rate_beer_reviews_parameters['overall'].astype(float).unique())\n",
    "\n",
    "# Make sure all arrays are of the same length\n",
    "max_length = max(len(advocate_appearance), len(advocate_aroma), len(advocate_palate), len(advocate_taste), len(advocate_overall), len(rate_beer_appearance), len(rate_beer_aroma), len(rate_beer_palate), len(rate_beer_taste), len(rate_beer_overall))\n",
    "\n",
    "advocate_appearance = np.pad(advocate_appearance, (0, max_length - len(advocate_appearance)), mode='constant')\n",
    "advocate_aroma = np.pad(advocate_aroma, (0, max_length - len(advocate_aroma)), mode='constant')\n",
    "advocate_palate = np.pad(advocate_palate, (0, max_length - len(advocate_palate)), mode='constant')\n",
    "advocate_taste = np.pad(advocate_taste, (0, max_length - len(advocate_taste)), mode='constant')\n",
    "advocate_overall = np.pad(advocate_overall, (0, max_length - len(advocate_overall)), mode='constant')\n",
    "rate_beer_appearance = np.pad(rate_beer_appearance, (0, max_length - len(rate_beer_appearance)), mode='constant')\n",
    "rate_beer_aroma = np.pad(rate_beer_aroma, (0, max_length - len(rate_beer_aroma)), mode='constant')\n",
    "rate_beer_palate = np.pad(rate_beer_palate, (0, max_length - len(rate_beer_palate)), mode='constant')\n",
    "rate_beer_taste = np.pad(rate_beer_taste, (0, max_length - len(rate_beer_taste)), mode='constant')\n",
    "rate_beer_overall = np.pad(rate_beer_overall, (0, max_length - len(rate_beer_overall)), mode='constant')\n",
    "\n",
    "data = {'advocate_appearance': advocate_appearance,\n",
    "    'rate_beer_appearance': rate_beer_appearance,\n",
    "    'advocate_aroma': advocate_aroma,\n",
    "    'rate_beer_aroma': rate_beer_aroma,\n",
    "    'advocate_palate': advocate_palate,\n",
    "    'rate_beer_palate': rate_beer_palate,\n",
    "    'advocate_taste': advocate_taste,\n",
    "    'rate_beer_taste': rate_beer_taste,\n",
    "    'advocate_overall': advocate_overall,\n",
    "    'rate_beer_overall': rate_beer_overall}\n",
    "\n",
    "df = pd.DataFrame(data)"
   ]
  },
  {
   "cell_type": "code",
   "execution_count": null,
   "metadata": {},
   "outputs": [],
   "source": [
    "advocate_appearance_floor = np.round(df_advocate_ratings_parameters['appearance'].astype(float))\n",
    "advocate_appearance_floor.dropna(inplace = True)\n",
    "advocate_appearance = df_advocate_ratings_parameters['appearance'].astype(float)\n",
    "advocate_appearance.dropna(inplace = True)"
   ]
  },
  {
   "cell_type": "code",
   "execution_count": null,
   "metadata": {},
   "outputs": [],
   "source": [
    "from scipy.stats import ttest_ind"
   ]
  },
  {
   "cell_type": "code",
   "execution_count": null,
   "metadata": {},
   "outputs": [],
   "source": [
    "ttest_ind(advocate_appearance_floor, advocate_appearance)"
   ]
  },
  {
   "cell_type": "code",
   "execution_count": null,
   "metadata": {},
   "outputs": [],
   "source": [
    "max_rating_advocate = max(df_advocate_ratings_parameters.rating)\n",
    "min_rating_advocate = min(df_advocate_ratings_parameters.rating)\n",
    "print('Max rating advocate: ', max_rating_advocate)\n",
    "print('Min rating advocate: ', min_rating_advocate)"
   ]
  },
  {
   "cell_type": "code",
   "execution_count": null,
   "metadata": {},
   "outputs": [],
   "source": [
    "max_rating_rate_beer = max(df_rate_beer_reviews_parameters.rating)\n",
    "min_rating_rate_beer = min(df_rate_beer_reviews_parameters.rating)\n",
    "print('Max rating rate beer: ', max_rating_rate_beer)\n",
    "print('Min rating rate beer: ', min_rating_rate_beer)"
   ]
  },
  {
   "cell_type": "code",
   "execution_count": null,
   "metadata": {},
   "outputs": [],
   "source": [
    "df"
   ]
  },
  {
   "cell_type": "markdown",
   "metadata": {},
   "source": [
    "## Analysis of the distribution\n",
    " 1. Beer Advocate"
   ]
  },
  {
   "cell_type": "code",
   "execution_count": null,
   "metadata": {},
   "outputs": [],
   "source": [
    "Advocate_users_per_country = deepcopy(pd.DataFrame(df_advocate_users.groupby('location')['user_id'].count()))\n",
    "Advocate_users_per_country.columns = ['nb_users']\n",
    "Advocate_users_per_country.sort_values(ascending=False, by='nb_users', inplace=True)\n",
    "Advocate_users_per_country[Advocate_users_per_country.index.str.startswith('United States')].agg('sum')\n",
    "\n",
    "Advocate_users_per_country.loc['United States', 'nb_users'] = Advocate_users_per_country[\n",
    "    Advocate_users_per_country.index.str.startswith('United')\n",
    "]['nb_users'].sum()\n",
    "Advocate_users_per_country.drop(labels=Advocate_users_per_country[Advocate_users_per_country.index.str.startswith('United States,')].index, inplace=True)\n",
    "Advocate_users_per_country.sort_values(ascending=False, by='nb_users', inplace=True)    "
   ]
  },
  {
   "cell_type": "code",
   "execution_count": null,
   "metadata": {},
   "outputs": [],
   "source": [
    "sns.barplot(x=Advocate_users_per_country.index[:10], y=Advocate_users_per_country['nb_users'][:10])\n",
    "plt.title('Number of users per country for BeerAdvocate')\n",
    "plt.ylabel('Number of users')\n",
    "plt.semilogy()\n",
    "plt.xticks(rotation=45)\n",
    "plt.show()"
   ]
  },
  {
   "cell_type": "code",
   "execution_count": null,
   "metadata": {},
   "outputs": [],
   "source": [
    "plt.hist(data=df_advocate_users, x='nbr_ratings', bins=100000, cumulative=-1, histtype='step')\n",
    "plt.title('Cumulative histogram of the number of ratings per user for BeerAdvocate')\n",
    "plt.xlabel('Number of users')\n",
    "plt.ylabel('Number of ratings')\n",
    "plt.loglog()\n",
    "plt.show()"
   ]
  },
  {
   "cell_type": "code",
   "execution_count": null,
   "metadata": {},
   "outputs": [],
   "source": [
    "# Define the power law function\n",
    "def power_law(x, alpha):\n",
    "    return x**(-alpha)"
   ]
  },
  {
   "cell_type": "code",
   "execution_count": null,
   "metadata": {},
   "outputs": [],
   "source": [
    "fit = powerlaw.Fit(df_advocate_users['nbr_ratings'].values)\n",
    "\n",
    "print('alpha =', fit.alpha)\n",
    "\n",
    "# R: loglikelihood ratio of the two distributions if positive the first distribution is better\n",
    "R, p = fit.distribution_compare('power_law', 'exponential', normalized_ratio=True)\n",
    "print('R =', R)\n",
    "print('p =', p)\n",
    "\n",
    "powerlaw.plot_pdf(df_advocate_users['nbr_ratings'].values, color='b')\n",
    "fit.power_law.plot_pdf(color='r', linestyle='--')\n",
    "\n",
    "plt.title('Power law distribution of the number of ratings per user for Beer Advocate')\n",
    "plt.xlabel('Number of ratings')\n",
    "plt.ylabel('Probability density')\n",
    "plt.show()"
   ]
  },
  {
   "cell_type": "markdown",
   "metadata": {},
   "source": [
    "2. Rate Beer"
   ]
  },
  {
   "cell_type": "code",
   "execution_count": null,
   "metadata": {},
   "outputs": [],
   "source": [
    "rate_beer_users_per_country = deepcopy(pd.DataFrame(df_rate_beer_users.groupby('location')['user_id'].count()))\n",
    "rate_beer_users_per_country.columns = ['nb_users']\n",
    "rate_beer_users_per_country.sort_values(ascending=False, by='nb_users', inplace=True)\n",
    "\n",
    "rate_beer_users_per_country.loc['United States', 'nb_users'] = rate_beer_users_per_country[\n",
    "    rate_beer_users_per_country.index.str.startswith('United')\n",
    "]['nb_users'].sum()\n",
    "rate_beer_users_per_country.drop(labels=rate_beer_users_per_country[rate_beer_users_per_country.index.str.startswith('United States,')].index, inplace=True)\n",
    "rate_beer_users_per_country.sort_values(ascending=False, by='nb_users', inplace=True)   "
   ]
  },
  {
   "cell_type": "code",
   "execution_count": null,
   "metadata": {},
   "outputs": [],
   "source": [
    "sns.barplot(x=rate_beer_users_per_country.index[:10], y=rate_beer_users_per_country['nb_users'][:10])\n",
    "plt.title('Number of users per country for Matched Beer')\n",
    "plt.ylabel('Number of users')\n",
    "plt.semilogy()\n",
    "plt.xticks(rotation=45)\n",
    "plt.show()"
   ]
  },
  {
   "cell_type": "code",
   "execution_count": null,
   "metadata": {},
   "outputs": [],
   "source": [
    "plt.hist(data=df_rate_beer_users, x='nbr_ratings', bins=100000, cumulative=-1, histtype='step')\n",
    "plt.title('Cumulative histogram of the number of ratings per user for Rate Beer')\n",
    "plt.xlabel('Number of users')\n",
    "plt.ylabel('Number of ratings')\n",
    "plt.loglog()\n",
    "plt.show()"
   ]
  },
  {
   "cell_type": "code",
   "execution_count": null,
   "metadata": {},
   "outputs": [],
   "source": [
    "fit = powerlaw.Fit(df_rate_beer_users['nbr_ratings'].values)\n",
    "\n",
    "print('alpha =', fit.alpha)\n",
    "\n",
    "# R: loglikelihood ratio of the two distributions if positive the first distribution is better\n",
    "R, p = fit.distribution_compare('power_law', 'exponential', normalized_ratio=True)\n",
    "print('R =', R)\n",
    "print('p =', p)\n",
    "\n",
    "powerlaw.plot_pdf(df_rate_beer_users['nbr_ratings'].values, color='b')\n",
    "fit.power_law.plot_pdf(color='r', linestyle='--')\n",
    "\n",
    "plt.title('Power law distribution of the number of ratings per user for RateBeer')\n",
    "plt.xlabel('Number of ratings')\n",
    "plt.ylabel('Probability density')\n",
    "plt.show()"
   ]
  }
 ],
 "metadata": {
  "kernelspec": {
   "display_name": "Python 3 (ipykernel)",
   "language": "python",
   "name": "python3"
  },
  "language_info": {
   "codemirror_mode": {
    "name": "ipython",
    "version": 3
   },
   "file_extension": ".py",
   "mimetype": "text/x-python",
   "name": "python",
   "nbconvert_exporter": "python",
   "pygments_lexer": "ipython3",
   "version": "3.12.0"
  }
 },
 "nbformat": 4,
 "nbformat_minor": 2
}
