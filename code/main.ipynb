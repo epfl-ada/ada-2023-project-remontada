{
 "cells": [
  {
   "cell_type": "code",
   "execution_count": 1,
   "metadata": {},
   "outputs": [],
   "source": [
    "import pandas as pd\n",
    "import numpy as np\n",
    "import seaborn as sns\n",
    "import matplotlib.pyplot as plt\n",
    "%matplotlib inline\n",
    "\n",
    "%load_ext autoreload\n",
    "%autoreload 2"
   ]
  },
  {
   "cell_type": "code",
   "execution_count": 2,
   "metadata": {},
   "outputs": [],
   "source": [
    "%reload_ext autoreload"
   ]
  },
  {
   "cell_type": "code",
   "execution_count": 3,
   "metadata": {},
   "outputs": [],
   "source": [
    "from read_functions import *\n",
    "from pickle_functions import *"
   ]
  },
  {
   "cell_type": "code",
   "execution_count": 4,
   "metadata": {
    "tags": []
   },
   "outputs": [],
   "source": [
    "beer_advocate_path = '../datas/BeerAdvocate/'\n",
    "matched_beer_data_path = '../datas/matched_beer_data/'\n",
    "rate_beer_path = '../datas/RateBeer/'\n",
    "\n",
    "advocate_beers_path = beer_advocate_path + 'beers.csv'\n",
    "advovate_breweries_path = beer_advocate_path + 'breweries.csv'\n",
    "advocate_ratings_path = beer_advocate_path + 'ratings.txt'\n",
    "advocate_reviews_path = beer_advocate_path + 'reviews.txt'\n",
    "advocate_users_path = beer_advocate_path + 'users.csv'\n",
    "\n",
    "matched_beer_beers = matched_beer_data_path + 'beers.csv'\n",
    "matched_beer_breweries = matched_beer_data_path + 'breweries.csv'\n",
    "matched_beer_ratings_ba = matched_beer_data_path + 'ratings_ba.txt'\n",
    "matched_beer_ratings_rb = matched_beer_data_path + 'ratings_rb.txt'\n",
    "matched_beer_ratings = matched_beer_data_path + 'ratings.csv'\n",
    "matched_beer_users_approx = matched_beer_data_path + 'users_approx.csv'\n",
    "matched_beer_users = matched_beer_data_path + 'users.csv'\n",
    "\n",
    "rate_beer_beers = rate_beer_path + 'beers.csv'\n",
    "rate_beer_breweries = rate_beer_path + 'breweries.csv'\n",
    "rate_beer_users = rate_beer_path + 'users.csv'\n",
    "\n",
    "contries_path = '../datas/countries/countries.csv'\n"
   ]
  },
  {
   "cell_type": "code",
   "execution_count": 5,
   "metadata": {},
   "outputs": [],
   "source": [
    "beer_advocate_path = '../datas/BeerAdvocate/pickle/'\n",
    "matched_beer_data_path = '../datas/matched_beer_data/pickle'\n",
    "rate_beer_path = '../datas/RateBeer/pickle'\n",
    "\n",
    "advocate_beers_path_pickle = beer_advocate_path + 'beers.csv'\n",
    "advovate_breweries_path_pickle = beer_advocate_path + 'breweries.csv'\n",
    "advocate_ratings_path_pickle = beer_advocate_path + 'ratings.txt'\n",
    "advocate_reviews_path_pickle = beer_advocate_path + 'reviews.txt'\n",
    "advocate_users_path_pickle = beer_advocate_path + 'users.csv'\n",
    "\n",
    "matched_beer_beers_pickle = matched_beer_data_path + 'beers.csv'\n",
    "matched_beer_breweries_pickle = matched_beer_data_path + 'breweries.csv'\n",
    "matched_beer_ratings_ba_pickle = matched_beer_data_path + 'ratings_ba.txt'\n",
    "matched_beer_ratings_rb_pickle = matched_beer_data_path + 'ratings_rb.txt'\n",
    "matched_beer_ratings_pickle = matched_beer_data_path + 'ratings.csv'\n",
    "matched_beer_users_approx_pickle = matched_beer_data_path + 'users_approx.csv'\n",
    "matched_beer_users_pickle = matched_beer_data_path + 'users.csv'\n",
    "\n",
    "rate_beer_beers_pickle = rate_beer_path + 'beers.csv'\n",
    "rate_beer_breweries_pickle = rate_beer_path + 'breweries.csv'\n",
    "rate_beer_users_pickle = rate_beer_path + 'users.csv'"
   ]
  },
  {
   "cell_type": "code",
   "execution_count": 6,
   "metadata": {},
   "outputs": [],
   "source": [
    "#Define list of datas for each website\n",
    "datas_matched_beer_names = ['df_matched_beer_beers','df_matched_beer_breweries','df_matched_beer_ratings_ba','df_matched_beer_ratings_rb','df_matched_beer_ratings','df_matched_beer_users_approx','df_matched_beer_users']\n",
    "datas_advocate_names = ['df_advocate_beers','df_advocate_breweries','df_advocate_ratings','df_advocate_reviews','df_advocate_users']\n",
    "datas_rate_beer_names = ['df_rate_beer_beers','df_rate_beer_breweries','df_rate_beer_users']"
   ]
  },
  {
   "cell_type": "markdown",
   "metadata": {},
   "source": [
    "### import datas "
   ]
  },
  {
   "cell_type": "raw",
   "metadata": {},
   "source": [
    "df_advocate_beers = pd.read_csv(advocate_beers_path, sep=',')\n",
    "df_advocate_breweries = pd.read_csv(advovate_breweries_path, sep=',')\n",
    "df_advocate_ratings = read_txt(advocate_ratings_path)\n",
    "df_advocate_reviews = read_txt(advocate_reviews_path)\n",
    "df_advocate_users = pd.read_csv(advocate_users_path, sep=',')"
   ]
  },
  {
   "cell_type": "raw",
   "metadata": {},
   "source": [
    "df_rate_beer_beers = pd.read_csv(rate_beer_beers, sep=',')\n",
    "df_rate_beer_breweries = pd.read_csv(rate_beer_breweries, sep=',')\n",
    "df_rate_beer_users = pd.read_csv(rate_beer_users, sep=',')"
   ]
  },
  {
   "cell_type": "raw",
   "metadata": {},
   "source": [
    "df_matched_beer_beers = pd.read_csv(matched_beer_beers, sep=',')\n",
    "df_matched_beer_breweries = pd.read_csv(matched_beer_breweries, sep=',')\n",
    "df_matched_beer_ratings_ba = read_txt(matched_beer_ratings_ba)\n",
    "df_matched_beer_ratings_rb = read_txt(matched_beer_ratings_rb)\n",
    "df_matched_beer_ratings = pd.read_csv(matched_beer_ratings, sep=',')\n",
    "df_matched_beer_users_approx = pd.read_csv(matched_beer_users_approx)\n",
    "df_matched_beer_users = pd.read_csv(matched_beer_users)"
   ]
  },
  {
   "cell_type": "markdown",
   "metadata": {},
   "source": [
    "### Import datas stored as pickle"
   ]
  },
  {
   "cell_type": "code",
   "execution_count": 7,
   "metadata": {},
   "outputs": [
    {
     "name": "stdout",
     "output_type": "stream",
     "text": [
      "Loading df_matched_beer_beers...\n",
      "Loading df_matched_beer_breweries...\n",
      "Loading df_matched_beer_ratings_ba...\n",
      "Loading df_matched_beer_ratings_rb...\n",
      "Loading df_matched_beer_ratings...\n",
      "Loading df_matched_beer_users_approx...\n",
      "Loading df_matched_beer_users...\n",
      "Loading df_rate_beer_beers...\n",
      "Loading df_rate_beer_breweries...\n",
      "Loading df_rate_beer_users...\n",
      "Loading df_advocate_beers...\n",
      "Loading df_advocate_breweries...\n",
      "Loading df_advocate_ratings...\n",
      "Loading df_advocate_reviews...\n",
      "Loading df_advocate_users...\n"
     ]
    }
   ],
   "source": [
    "df_matched_beer_beers,df_matched_beer_breweries,df_matched_beer_ratings_ba,df_matched_beer_ratings_rb,df_matched_beer_ratings,df_matched_beer_users_approx,df_matched_beer_users = load_datas('matched_beer_data', datas_matched_beer_names)\n",
    "df_rate_beer_beers,df_rate_beer_breweries,df_rate_beer_users = load_datas('RateBeer', datas_rate_beer_names)\n",
    "df_advocate_beers,df_advocate_breweries,df_advocate_ratings,df_advocate_reviews,df_advocate_users = load_datas('BeerAdvocate', datas_advocate_names)"
   ]
  },
  {
   "cell_type": "markdown",
   "metadata": {},
   "source": [
    "## Store dataFrame into picke format"
   ]
  },
  {
   "cell_type": "code",
   "execution_count": 8,
   "metadata": {},
   "outputs": [],
   "source": [
    "# datas_rate_beer = [df_rate_beer_beers,df_rate_beer_breweries,df_rate_beer_users]\n",
    "# datas_matched_beer = [df_matched_beer_beers,df_matched_beer_breweries,df_matched_beer_ratings_ba,df_matched_beer_ratings_rb,df_matched_beer_ratings,df_matched_beer_users_approx,df_matched_beer_users]\n",
    "# datas_advocate_beer = [df_advocate_beers,df_advocate_breweries,df_advocate_ratings,df_advocate_reviews,df_advocate_users]"
   ]
  },
  {
   "cell_type": "code",
   "execution_count": 9,
   "metadata": {},
   "outputs": [],
   "source": [
    "#Saving datas\n",
    "# save_datas('RateBeer', datas_rate_beer,datas_rate_beer_names)\n",
    "# save_datas('matched_beer_data', datas_matched_beer,datas_matched_beer_names)"
   ]
  },
  {
   "cell_type": "markdown",
   "metadata": {},
   "source": [
    "## Initial data analysis"
   ]
  },
  {
   "cell_type": "markdown",
   "metadata": {},
   "source": [
    "### Beer Advocate"
   ]
  },
  {
   "cell_type": "code",
   "execution_count": 10,
   "metadata": {},
   "outputs": [
    {
     "data": {
      "text/html": [
       "<div>\n",
       "<style scoped>\n",
       "    .dataframe tbody tr th:only-of-type {\n",
       "        vertical-align: middle;\n",
       "    }\n",
       "\n",
       "    .dataframe tbody tr th {\n",
       "        vertical-align: top;\n",
       "    }\n",
       "\n",
       "    .dataframe thead th {\n",
       "        text-align: right;\n",
       "    }\n",
       "</style>\n",
       "<table border=\"1\" class=\"dataframe\">\n",
       "  <thead>\n",
       "    <tr style=\"text-align: right;\">\n",
       "      <th></th>\n",
       "      <th>beer_id</th>\n",
       "      <th>beer_name</th>\n",
       "      <th>brewery_id</th>\n",
       "      <th>brewery_name</th>\n",
       "      <th>style</th>\n",
       "      <th>nbr_ratings</th>\n",
       "      <th>nbr_reviews</th>\n",
       "      <th>avg</th>\n",
       "      <th>ba_score</th>\n",
       "      <th>bros_score</th>\n",
       "      <th>abv</th>\n",
       "      <th>avg_computed</th>\n",
       "      <th>zscore</th>\n",
       "      <th>nbr_matched_valid_ratings</th>\n",
       "      <th>avg_matched_valid_ratings</th>\n",
       "    </tr>\n",
       "  </thead>\n",
       "  <tbody>\n",
       "    <tr>\n",
       "      <th>0</th>\n",
       "      <td>166064</td>\n",
       "      <td>Nashe Moskovskoe</td>\n",
       "      <td>39912</td>\n",
       "      <td>Abdysh-Ata (Абдыш Ата)</td>\n",
       "      <td>Euro Pale Lager</td>\n",
       "      <td>0</td>\n",
       "      <td>0</td>\n",
       "      <td>NaN</td>\n",
       "      <td>NaN</td>\n",
       "      <td>NaN</td>\n",
       "      <td>4.7</td>\n",
       "      <td>NaN</td>\n",
       "      <td>NaN</td>\n",
       "      <td>0</td>\n",
       "      <td>NaN</td>\n",
       "    </tr>\n",
       "    <tr>\n",
       "      <th>1</th>\n",
       "      <td>166065</td>\n",
       "      <td>Nashe Pivovskoe</td>\n",
       "      <td>39912</td>\n",
       "      <td>Abdysh-Ata (Абдыш Ата)</td>\n",
       "      <td>Euro Pale Lager</td>\n",
       "      <td>0</td>\n",
       "      <td>0</td>\n",
       "      <td>NaN</td>\n",
       "      <td>NaN</td>\n",
       "      <td>NaN</td>\n",
       "      <td>3.8</td>\n",
       "      <td>NaN</td>\n",
       "      <td>NaN</td>\n",
       "      <td>0</td>\n",
       "      <td>NaN</td>\n",
       "    </tr>\n",
       "    <tr>\n",
       "      <th>2</th>\n",
       "      <td>166066</td>\n",
       "      <td>Nashe Shakhterskoe</td>\n",
       "      <td>39912</td>\n",
       "      <td>Abdysh-Ata (Абдыш Ата)</td>\n",
       "      <td>Euro Pale Lager</td>\n",
       "      <td>0</td>\n",
       "      <td>0</td>\n",
       "      <td>NaN</td>\n",
       "      <td>NaN</td>\n",
       "      <td>NaN</td>\n",
       "      <td>4.8</td>\n",
       "      <td>NaN</td>\n",
       "      <td>NaN</td>\n",
       "      <td>0</td>\n",
       "      <td>NaN</td>\n",
       "    </tr>\n",
       "    <tr>\n",
       "      <th>3</th>\n",
       "      <td>166067</td>\n",
       "      <td>Nashe Zhigulevskoe</td>\n",
       "      <td>39912</td>\n",
       "      <td>Abdysh-Ata (Абдыш Ата)</td>\n",
       "      <td>Euro Pale Lager</td>\n",
       "      <td>0</td>\n",
       "      <td>0</td>\n",
       "      <td>NaN</td>\n",
       "      <td>NaN</td>\n",
       "      <td>NaN</td>\n",
       "      <td>4.0</td>\n",
       "      <td>NaN</td>\n",
       "      <td>NaN</td>\n",
       "      <td>0</td>\n",
       "      <td>NaN</td>\n",
       "    </tr>\n",
       "    <tr>\n",
       "      <th>4</th>\n",
       "      <td>166063</td>\n",
       "      <td>Zhivoe</td>\n",
       "      <td>39912</td>\n",
       "      <td>Abdysh-Ata (Абдыш Ата)</td>\n",
       "      <td>Euro Pale Lager</td>\n",
       "      <td>0</td>\n",
       "      <td>0</td>\n",
       "      <td>NaN</td>\n",
       "      <td>NaN</td>\n",
       "      <td>NaN</td>\n",
       "      <td>4.5</td>\n",
       "      <td>NaN</td>\n",
       "      <td>NaN</td>\n",
       "      <td>0</td>\n",
       "      <td>NaN</td>\n",
       "    </tr>\n",
       "  </tbody>\n",
       "</table>\n",
       "</div>"
      ],
      "text/plain": [
       "   beer_id           beer_name  brewery_id            brewery_name  \\\n",
       "0   166064    Nashe Moskovskoe       39912  Abdysh-Ata (Абдыш Ата)   \n",
       "1   166065     Nashe Pivovskoe       39912  Abdysh-Ata (Абдыш Ата)   \n",
       "2   166066  Nashe Shakhterskoe       39912  Abdysh-Ata (Абдыш Ата)   \n",
       "3   166067  Nashe Zhigulevskoe       39912  Abdysh-Ata (Абдыш Ата)   \n",
       "4   166063              Zhivoe       39912  Abdysh-Ata (Абдыш Ата)   \n",
       "\n",
       "             style  nbr_ratings  nbr_reviews  avg  ba_score  bros_score  abv  \\\n",
       "0  Euro Pale Lager            0            0  NaN       NaN         NaN  4.7   \n",
       "1  Euro Pale Lager            0            0  NaN       NaN         NaN  3.8   \n",
       "2  Euro Pale Lager            0            0  NaN       NaN         NaN  4.8   \n",
       "3  Euro Pale Lager            0            0  NaN       NaN         NaN  4.0   \n",
       "4  Euro Pale Lager            0            0  NaN       NaN         NaN  4.5   \n",
       "\n",
       "   avg_computed  zscore  nbr_matched_valid_ratings  avg_matched_valid_ratings  \n",
       "0           NaN     NaN                          0                        NaN  \n",
       "1           NaN     NaN                          0                        NaN  \n",
       "2           NaN     NaN                          0                        NaN  \n",
       "3           NaN     NaN                          0                        NaN  \n",
       "4           NaN     NaN                          0                        NaN  "
      ]
     },
     "execution_count": 10,
     "metadata": {},
     "output_type": "execute_result"
    }
   ],
   "source": [
    "df_advocate_beers.head()"
   ]
  },
  {
   "cell_type": "code",
   "execution_count": 11,
   "metadata": {},
   "outputs": [
    {
     "data": {
      "text/html": [
       "<div>\n",
       "<style scoped>\n",
       "    .dataframe tbody tr th:only-of-type {\n",
       "        vertical-align: middle;\n",
       "    }\n",
       "\n",
       "    .dataframe tbody tr th {\n",
       "        vertical-align: top;\n",
       "    }\n",
       "\n",
       "    .dataframe thead th {\n",
       "        text-align: right;\n",
       "    }\n",
       "</style>\n",
       "<table border=\"1\" class=\"dataframe\">\n",
       "  <thead>\n",
       "    <tr style=\"text-align: right;\">\n",
       "      <th></th>\n",
       "      <th>id</th>\n",
       "      <th>location</th>\n",
       "      <th>name</th>\n",
       "      <th>nbr_beers</th>\n",
       "    </tr>\n",
       "  </thead>\n",
       "  <tbody>\n",
       "    <tr>\n",
       "      <th>0</th>\n",
       "      <td>39912</td>\n",
       "      <td>Kyrgyzstan</td>\n",
       "      <td>Abdysh-Ata (Абдыш Ата)</td>\n",
       "      <td>5</td>\n",
       "    </tr>\n",
       "    <tr>\n",
       "      <th>1</th>\n",
       "      <td>39913</td>\n",
       "      <td>Kyrgyzstan</td>\n",
       "      <td>Arpa (АРПА)</td>\n",
       "      <td>1</td>\n",
       "    </tr>\n",
       "    <tr>\n",
       "      <th>2</th>\n",
       "      <td>39914</td>\n",
       "      <td>Kyrgyzstan</td>\n",
       "      <td>Bear Beer</td>\n",
       "      <td>4</td>\n",
       "    </tr>\n",
       "    <tr>\n",
       "      <th>3</th>\n",
       "      <td>39915</td>\n",
       "      <td>Kyrgyzstan</td>\n",
       "      <td>Blonder Pub</td>\n",
       "      <td>4</td>\n",
       "    </tr>\n",
       "    <tr>\n",
       "      <th>4</th>\n",
       "      <td>39916</td>\n",
       "      <td>Kyrgyzstan</td>\n",
       "      <td>Kellers Bier</td>\n",
       "      <td>2</td>\n",
       "    </tr>\n",
       "  </tbody>\n",
       "</table>\n",
       "</div>"
      ],
      "text/plain": [
       "      id    location                    name  nbr_beers\n",
       "0  39912  Kyrgyzstan  Abdysh-Ata (Абдыш Ата)          5\n",
       "1  39913  Kyrgyzstan             Arpa (АРПА)          1\n",
       "2  39914  Kyrgyzstan               Bear Beer          4\n",
       "3  39915  Kyrgyzstan             Blonder Pub          4\n",
       "4  39916  Kyrgyzstan            Kellers Bier          2"
      ]
     },
     "execution_count": 11,
     "metadata": {},
     "output_type": "execute_result"
    }
   ],
   "source": [
    "df_advocate_breweries.head()"
   ]
  },
  {
   "cell_type": "code",
   "execution_count": 12,
   "metadata": {},
   "outputs": [
    {
     "data": {
      "text/html": [
       "<div>\n",
       "<style scoped>\n",
       "    .dataframe tbody tr th:only-of-type {\n",
       "        vertical-align: middle;\n",
       "    }\n",
       "\n",
       "    .dataframe tbody tr th {\n",
       "        vertical-align: top;\n",
       "    }\n",
       "\n",
       "    .dataframe thead th {\n",
       "        text-align: right;\n",
       "    }\n",
       "</style>\n",
       "<table border=\"1\" class=\"dataframe\">\n",
       "  <thead>\n",
       "    <tr style=\"text-align: right;\">\n",
       "      <th></th>\n",
       "      <th>beer_name</th>\n",
       "      <th>beer_id</th>\n",
       "      <th>brewery_name</th>\n",
       "      <th>brewery_id</th>\n",
       "      <th>style</th>\n",
       "      <th>abv</th>\n",
       "      <th>date</th>\n",
       "      <th>user_name</th>\n",
       "      <th>user_id</th>\n",
       "      <th>appearance</th>\n",
       "      <th>aroma</th>\n",
       "      <th>palate</th>\n",
       "      <th>taste</th>\n",
       "      <th>overall</th>\n",
       "      <th>rating</th>\n",
       "      <th>text</th>\n",
       "      <th>review</th>\n",
       "    </tr>\n",
       "  </thead>\n",
       "  <tbody>\n",
       "    <tr>\n",
       "      <th>0</th>\n",
       "      <td>Régab</td>\n",
       "      <td>142544</td>\n",
       "      <td>Societe des Brasseries du Gabon (SOBRAGA)</td>\n",
       "      <td>37262</td>\n",
       "      <td>Euro Pale Lager</td>\n",
       "      <td>4.5</td>\n",
       "      <td>1440064800</td>\n",
       "      <td>nmann08</td>\n",
       "      <td>nmann08.184925</td>\n",
       "      <td>3.25</td>\n",
       "      <td>2.75</td>\n",
       "      <td>3.25</td>\n",
       "      <td>2.75</td>\n",
       "      <td>3.0</td>\n",
       "      <td>2.88</td>\n",
       "      <td>From a bottle, pours a piss yellow color with ...</td>\n",
       "      <td>True</td>\n",
       "    </tr>\n",
       "    <tr>\n",
       "      <th>1</th>\n",
       "      <td>Barelegs Brew</td>\n",
       "      <td>19590</td>\n",
       "      <td>Strangford Lough Brewing Company Ltd</td>\n",
       "      <td>10093</td>\n",
       "      <td>English Pale Ale</td>\n",
       "      <td>4.5</td>\n",
       "      <td>1235127600</td>\n",
       "      <td>StJamesGate</td>\n",
       "      <td>stjamesgate.163714</td>\n",
       "      <td>3.0</td>\n",
       "      <td>3.5</td>\n",
       "      <td>3.5</td>\n",
       "      <td>4.0</td>\n",
       "      <td>3.5</td>\n",
       "      <td>3.67</td>\n",
       "      <td>Pours pale copper with a thin head that quickl...</td>\n",
       "      <td>True</td>\n",
       "    </tr>\n",
       "    <tr>\n",
       "      <th>2</th>\n",
       "      <td>Barelegs Brew</td>\n",
       "      <td>19590</td>\n",
       "      <td>Strangford Lough Brewing Company Ltd</td>\n",
       "      <td>10093</td>\n",
       "      <td>English Pale Ale</td>\n",
       "      <td>4.5</td>\n",
       "      <td>1142247600</td>\n",
       "      <td>mdagnew</td>\n",
       "      <td>mdagnew.19527</td>\n",
       "      <td>4.0</td>\n",
       "      <td>3.5</td>\n",
       "      <td>3.5</td>\n",
       "      <td>4.0</td>\n",
       "      <td>3.5</td>\n",
       "      <td>3.73</td>\n",
       "      <td>500ml Bottle bought from The Vintage, Antrim.....</td>\n",
       "      <td>True</td>\n",
       "    </tr>\n",
       "    <tr>\n",
       "      <th>3</th>\n",
       "      <td>Barelegs Brew</td>\n",
       "      <td>19590</td>\n",
       "      <td>Strangford Lough Brewing Company Ltd</td>\n",
       "      <td>10093</td>\n",
       "      <td>English Pale Ale</td>\n",
       "      <td>4.5</td>\n",
       "      <td>1101898800</td>\n",
       "      <td>helloloser12345</td>\n",
       "      <td>helloloser12345.10867</td>\n",
       "      <td>4.0</td>\n",
       "      <td>3.5</td>\n",
       "      <td>4.0</td>\n",
       "      <td>4.0</td>\n",
       "      <td>4.5</td>\n",
       "      <td>3.98</td>\n",
       "      <td>NaN</td>\n",
       "      <td>True</td>\n",
       "    </tr>\n",
       "    <tr>\n",
       "      <th>4</th>\n",
       "      <td>Barelegs Brew</td>\n",
       "      <td>19590</td>\n",
       "      <td>Strangford Lough Brewing Company Ltd</td>\n",
       "      <td>10093</td>\n",
       "      <td>English Pale Ale</td>\n",
       "      <td>4.5</td>\n",
       "      <td>1093860000</td>\n",
       "      <td>cypressbob</td>\n",
       "      <td>cypressbob.3708</td>\n",
       "      <td>4.0</td>\n",
       "      <td>4.0</td>\n",
       "      <td>4.0</td>\n",
       "      <td>4.0</td>\n",
       "      <td>4.0</td>\n",
       "      <td>4.00</td>\n",
       "      <td>500ml bottlePours with a light, slightly hazy ...</td>\n",
       "      <td>True</td>\n",
       "    </tr>\n",
       "  </tbody>\n",
       "</table>\n",
       "</div>"
      ],
      "text/plain": [
       "       beer_name beer_id                               brewery_name  \\\n",
       "0          Régab  142544  Societe des Brasseries du Gabon (SOBRAGA)   \n",
       "1  Barelegs Brew   19590       Strangford Lough Brewing Company Ltd   \n",
       "2  Barelegs Brew   19590       Strangford Lough Brewing Company Ltd   \n",
       "3  Barelegs Brew   19590       Strangford Lough Brewing Company Ltd   \n",
       "4  Barelegs Brew   19590       Strangford Lough Brewing Company Ltd   \n",
       "\n",
       "  brewery_id             style  abv        date        user_name  \\\n",
       "0      37262   Euro Pale Lager  4.5  1440064800          nmann08   \n",
       "1      10093  English Pale Ale  4.5  1235127600      StJamesGate   \n",
       "2      10093  English Pale Ale  4.5  1142247600          mdagnew   \n",
       "3      10093  English Pale Ale  4.5  1101898800  helloloser12345   \n",
       "4      10093  English Pale Ale  4.5  1093860000       cypressbob   \n",
       "\n",
       "                 user_id appearance aroma palate taste overall rating  \\\n",
       "0         nmann08.184925       3.25  2.75   3.25  2.75     3.0   2.88   \n",
       "1     stjamesgate.163714        3.0   3.5    3.5   4.0     3.5   3.67   \n",
       "2          mdagnew.19527        4.0   3.5    3.5   4.0     3.5   3.73   \n",
       "3  helloloser12345.10867        4.0   3.5    4.0   4.0     4.5   3.98   \n",
       "4        cypressbob.3708        4.0   4.0    4.0   4.0     4.0   4.00   \n",
       "\n",
       "                                                text review  \n",
       "0  From a bottle, pours a piss yellow color with ...   True  \n",
       "1  Pours pale copper with a thin head that quickl...   True  \n",
       "2  500ml Bottle bought from The Vintage, Antrim.....   True  \n",
       "3                                                NaN   True  \n",
       "4  500ml bottlePours with a light, slightly hazy ...   True  "
      ]
     },
     "execution_count": 12,
     "metadata": {},
     "output_type": "execute_result"
    }
   ],
   "source": [
    "df_advocate_ratings.head()"
   ]
  },
  {
   "cell_type": "code",
   "execution_count": 13,
   "metadata": {},
   "outputs": [
    {
     "data": {
      "text/html": [
       "<div>\n",
       "<style scoped>\n",
       "    .dataframe tbody tr th:only-of-type {\n",
       "        vertical-align: middle;\n",
       "    }\n",
       "\n",
       "    .dataframe tbody tr th {\n",
       "        vertical-align: top;\n",
       "    }\n",
       "\n",
       "    .dataframe thead th {\n",
       "        text-align: right;\n",
       "    }\n",
       "</style>\n",
       "<table border=\"1\" class=\"dataframe\">\n",
       "  <thead>\n",
       "    <tr style=\"text-align: right;\">\n",
       "      <th></th>\n",
       "      <th>beer_name</th>\n",
       "      <th>beer_id</th>\n",
       "      <th>brewery_name</th>\n",
       "      <th>brewery_id</th>\n",
       "      <th>style</th>\n",
       "      <th>abv</th>\n",
       "      <th>date</th>\n",
       "      <th>user_name</th>\n",
       "      <th>user_id</th>\n",
       "      <th>appearance</th>\n",
       "      <th>aroma</th>\n",
       "      <th>palate</th>\n",
       "      <th>taste</th>\n",
       "      <th>overall</th>\n",
       "      <th>rating</th>\n",
       "      <th>text</th>\n",
       "    </tr>\n",
       "  </thead>\n",
       "  <tbody>\n",
       "    <tr>\n",
       "      <th>0</th>\n",
       "      <td>Régab</td>\n",
       "      <td>142544</td>\n",
       "      <td>Societe des Brasseries du Gabon (SOBRAGA)</td>\n",
       "      <td>37262</td>\n",
       "      <td>Euro Pale Lager</td>\n",
       "      <td>4.5</td>\n",
       "      <td>1440064800</td>\n",
       "      <td>nmann08</td>\n",
       "      <td>nmann08.184925</td>\n",
       "      <td>3.25</td>\n",
       "      <td>2.75</td>\n",
       "      <td>3.25</td>\n",
       "      <td>2.75</td>\n",
       "      <td>3.0</td>\n",
       "      <td>2.88</td>\n",
       "      <td>From a bottle, pours a piss yellow color with ...</td>\n",
       "    </tr>\n",
       "    <tr>\n",
       "      <th>1</th>\n",
       "      <td>Barelegs Brew</td>\n",
       "      <td>19590</td>\n",
       "      <td>Strangford Lough Brewing Company Ltd</td>\n",
       "      <td>10093</td>\n",
       "      <td>English Pale Ale</td>\n",
       "      <td>4.5</td>\n",
       "      <td>1235127600</td>\n",
       "      <td>StJamesGate</td>\n",
       "      <td>stjamesgate.163714</td>\n",
       "      <td>3.0</td>\n",
       "      <td>3.5</td>\n",
       "      <td>3.5</td>\n",
       "      <td>4.0</td>\n",
       "      <td>3.5</td>\n",
       "      <td>3.67</td>\n",
       "      <td>Pours pale copper with a thin head that quickl...</td>\n",
       "    </tr>\n",
       "    <tr>\n",
       "      <th>2</th>\n",
       "      <td>Barelegs Brew</td>\n",
       "      <td>19590</td>\n",
       "      <td>Strangford Lough Brewing Company Ltd</td>\n",
       "      <td>10093</td>\n",
       "      <td>English Pale Ale</td>\n",
       "      <td>4.5</td>\n",
       "      <td>1142247600</td>\n",
       "      <td>mdagnew</td>\n",
       "      <td>mdagnew.19527</td>\n",
       "      <td>4.0</td>\n",
       "      <td>3.5</td>\n",
       "      <td>3.5</td>\n",
       "      <td>4.0</td>\n",
       "      <td>3.5</td>\n",
       "      <td>3.73</td>\n",
       "      <td>500ml Bottle bought from The Vintage, Antrim.....</td>\n",
       "    </tr>\n",
       "    <tr>\n",
       "      <th>3</th>\n",
       "      <td>Barelegs Brew</td>\n",
       "      <td>19590</td>\n",
       "      <td>Strangford Lough Brewing Company Ltd</td>\n",
       "      <td>10093</td>\n",
       "      <td>English Pale Ale</td>\n",
       "      <td>4.5</td>\n",
       "      <td>1101898800</td>\n",
       "      <td>helloloser12345</td>\n",
       "      <td>helloloser12345.10867</td>\n",
       "      <td>4.0</td>\n",
       "      <td>3.5</td>\n",
       "      <td>4.0</td>\n",
       "      <td>4.0</td>\n",
       "      <td>4.5</td>\n",
       "      <td>3.98</td>\n",
       "      <td>NaN</td>\n",
       "    </tr>\n",
       "    <tr>\n",
       "      <th>4</th>\n",
       "      <td>Barelegs Brew</td>\n",
       "      <td>19590</td>\n",
       "      <td>Strangford Lough Brewing Company Ltd</td>\n",
       "      <td>10093</td>\n",
       "      <td>English Pale Ale</td>\n",
       "      <td>4.5</td>\n",
       "      <td>1093860000</td>\n",
       "      <td>cypressbob</td>\n",
       "      <td>cypressbob.3708</td>\n",
       "      <td>4.0</td>\n",
       "      <td>4.0</td>\n",
       "      <td>4.0</td>\n",
       "      <td>4.0</td>\n",
       "      <td>4.0</td>\n",
       "      <td>4.00</td>\n",
       "      <td>500ml bottlePours with a light, slightly hazy ...</td>\n",
       "    </tr>\n",
       "  </tbody>\n",
       "</table>\n",
       "</div>"
      ],
      "text/plain": [
       "       beer_name beer_id                               brewery_name  \\\n",
       "0          Régab  142544  Societe des Brasseries du Gabon (SOBRAGA)   \n",
       "1  Barelegs Brew   19590       Strangford Lough Brewing Company Ltd   \n",
       "2  Barelegs Brew   19590       Strangford Lough Brewing Company Ltd   \n",
       "3  Barelegs Brew   19590       Strangford Lough Brewing Company Ltd   \n",
       "4  Barelegs Brew   19590       Strangford Lough Brewing Company Ltd   \n",
       "\n",
       "  brewery_id             style  abv        date        user_name  \\\n",
       "0      37262   Euro Pale Lager  4.5  1440064800          nmann08   \n",
       "1      10093  English Pale Ale  4.5  1235127600      StJamesGate   \n",
       "2      10093  English Pale Ale  4.5  1142247600          mdagnew   \n",
       "3      10093  English Pale Ale  4.5  1101898800  helloloser12345   \n",
       "4      10093  English Pale Ale  4.5  1093860000       cypressbob   \n",
       "\n",
       "                 user_id appearance aroma palate taste overall rating  \\\n",
       "0         nmann08.184925       3.25  2.75   3.25  2.75     3.0   2.88   \n",
       "1     stjamesgate.163714        3.0   3.5    3.5   4.0     3.5   3.67   \n",
       "2          mdagnew.19527        4.0   3.5    3.5   4.0     3.5   3.73   \n",
       "3  helloloser12345.10867        4.0   3.5    4.0   4.0     4.5   3.98   \n",
       "4        cypressbob.3708        4.0   4.0    4.0   4.0     4.0   4.00   \n",
       "\n",
       "                                                text  \n",
       "0  From a bottle, pours a piss yellow color with ...  \n",
       "1  Pours pale copper with a thin head that quickl...  \n",
       "2  500ml Bottle bought from The Vintage, Antrim.....  \n",
       "3                                                NaN  \n",
       "4  500ml bottlePours with a light, slightly hazy ...  "
      ]
     },
     "execution_count": 13,
     "metadata": {},
     "output_type": "execute_result"
    }
   ],
   "source": [
    "df_advocate_reviews.head()"
   ]
  },
  {
   "cell_type": "code",
   "execution_count": 14,
   "metadata": {
    "scrolled": true
   },
   "outputs": [
    {
     "data": {
      "text/html": [
       "<div>\n",
       "<style scoped>\n",
       "    .dataframe tbody tr th:only-of-type {\n",
       "        vertical-align: middle;\n",
       "    }\n",
       "\n",
       "    .dataframe tbody tr th {\n",
       "        vertical-align: top;\n",
       "    }\n",
       "\n",
       "    .dataframe thead th {\n",
       "        text-align: right;\n",
       "    }\n",
       "</style>\n",
       "<table border=\"1\" class=\"dataframe\">\n",
       "  <thead>\n",
       "    <tr style=\"text-align: right;\">\n",
       "      <th></th>\n",
       "      <th>nbr_ratings</th>\n",
       "      <th>nbr_reviews</th>\n",
       "      <th>user_id</th>\n",
       "      <th>user_name</th>\n",
       "      <th>joined</th>\n",
       "      <th>location</th>\n",
       "    </tr>\n",
       "  </thead>\n",
       "  <tbody>\n",
       "    <tr>\n",
       "      <th>0</th>\n",
       "      <td>7820</td>\n",
       "      <td>465</td>\n",
       "      <td>nmann08.184925</td>\n",
       "      <td>nmann08</td>\n",
       "      <td>2008-01-07 11:00:00</td>\n",
       "      <td>United States, Washington</td>\n",
       "    </tr>\n",
       "    <tr>\n",
       "      <th>1</th>\n",
       "      <td>2521</td>\n",
       "      <td>2504</td>\n",
       "      <td>stjamesgate.163714</td>\n",
       "      <td>StJamesGate</td>\n",
       "      <td>2007-10-08 10:00:00</td>\n",
       "      <td>United States, New York</td>\n",
       "    </tr>\n",
       "    <tr>\n",
       "      <th>2</th>\n",
       "      <td>1797</td>\n",
       "      <td>1143</td>\n",
       "      <td>mdagnew.19527</td>\n",
       "      <td>mdagnew</td>\n",
       "      <td>2005-05-18 10:00:00</td>\n",
       "      <td>Northern Ireland</td>\n",
       "    </tr>\n",
       "    <tr>\n",
       "      <th>3</th>\n",
       "      <td>31</td>\n",
       "      <td>31</td>\n",
       "      <td>helloloser12345.10867</td>\n",
       "      <td>helloloser12345</td>\n",
       "      <td>2004-11-25 11:00:00</td>\n",
       "      <td>Northern Ireland</td>\n",
       "    </tr>\n",
       "    <tr>\n",
       "      <th>4</th>\n",
       "      <td>604</td>\n",
       "      <td>604</td>\n",
       "      <td>cypressbob.3708</td>\n",
       "      <td>cypressbob</td>\n",
       "      <td>2003-11-20 11:00:00</td>\n",
       "      <td>Northern Ireland</td>\n",
       "    </tr>\n",
       "  </tbody>\n",
       "</table>\n",
       "</div>"
      ],
      "text/plain": [
       "   nbr_ratings  nbr_reviews                user_id        user_name  \\\n",
       "0         7820          465         nmann08.184925          nmann08   \n",
       "1         2521         2504     stjamesgate.163714      StJamesGate   \n",
       "2         1797         1143          mdagnew.19527          mdagnew   \n",
       "3           31           31  helloloser12345.10867  helloloser12345   \n",
       "4          604          604        cypressbob.3708       cypressbob   \n",
       "\n",
       "               joined                   location  \n",
       "0 2008-01-07 11:00:00  United States, Washington  \n",
       "1 2007-10-08 10:00:00    United States, New York  \n",
       "2 2005-05-18 10:00:00           Northern Ireland  \n",
       "3 2004-11-25 11:00:00           Northern Ireland  \n",
       "4 2003-11-20 11:00:00           Northern Ireland  "
      ]
     },
     "execution_count": 14,
     "metadata": {},
     "output_type": "execute_result"
    }
   ],
   "source": [
    "df_advocate_users.head()"
   ]
  },
  {
   "cell_type": "markdown",
   "metadata": {},
   "source": [
    "Count how much ratings and reviews each user has posted."
   ]
  },
  {
   "cell_type": "code",
   "execution_count": 15,
   "metadata": {},
   "outputs": [
    {
     "name": "stdout",
     "output_type": "stream",
     "text": [
      "number of users which have given at least one rating: 153704\n"
     ]
    }
   ],
   "source": [
    "rating_per_user = df_advocate_ratings.groupby('user_id')['rating'].count().sort_values(ascending=False)\n",
    "print(f'number of users which have given at least one rating: {len(rating_per_user)}')"
   ]
  },
  {
   "cell_type": "code",
   "execution_count": 16,
   "metadata": {},
   "outputs": [
    {
     "data": {
      "text/plain": [
       "count    153704.000000\n",
       "mean         54.605163\n",
       "std         252.388790\n",
       "min           1.000000\n",
       "25%           1.000000\n",
       "50%           3.000000\n",
       "75%          16.000000\n",
       "max       12046.000000\n",
       "Name: rating, dtype: float64"
      ]
     },
     "execution_count": 16,
     "metadata": {},
     "output_type": "execute_result"
    }
   ],
   "source": [
    "rating_per_user.describe()"
   ]
  },
  {
   "cell_type": "code",
   "execution_count": 17,
   "metadata": {
    "scrolled": false
   },
   "outputs": [
    {
     "data": {
      "image/png": "[encoded data removed]",
      "text/plain": [
       "<Figure size 640x480 with 1 Axes>"
      ]
     },
     "metadata": {},
     "output_type": "display_data"
    }
   ],
   "source": [
    "plt.boxplot(rating_per_user)\n",
    "plt.semilogy()\n",
    "plt.ylabel('number of rating')\n",
    "plt.title('number of rating per user')\n",
    "plt.show()"
   ]
  },
  {
   "cell_type": "code",
   "execution_count": 18,
   "metadata": {},
   "outputs": [
    {
     "data": {
      "image/png": "[encoded data removed]",
      "text/plain": [
       "<Figure size 640x480 with 1 Axes>"
      ]
     },
     "metadata": {},
     "output_type": "display_data"
    }
   ],
   "source": [
    "array_cumulative = plt.hist(rating_per_user, bins=100, log=True, cumulative=-1, histtype='step')\n",
    "plt.xlabel('number of ratings')\n",
    "plt.ylabel('amount of users')\n",
    "plt.title('number of ratings per user')\n",
    "plt.show() "
   ]
  },
  {
   "cell_type": "code",
   "execution_count": 19,
   "metadata": {
    "scrolled": false
   },
   "outputs": [
    {
     "data": {
      "text/plain": [
       "[<matplotlib.lines.Line2D at 0x1f480897370>]"
      ]
     },
     "execution_count": 19,
     "metadata": {},
     "output_type": "execute_result"
    },
    {
     "data": {
      "image/png": "[encoded data removed]",
      "text/plain": [
       "<Figure size 640x480 with 1 Axes>"
      ]
     },
     "metadata": {},
     "output_type": "display_data"
    }
   ],
   "source": [
    "plt.loglog(array_cumulative[1][1:],array_cumulative[0])"
   ]
  },
  {
   "cell_type": "code",
   "execution_count": 20,
   "metadata": {},
   "outputs": [
    {
     "data": {
      "text/plain": [
       "count    153704.000000\n",
       "mean         54.605163\n",
       "std         252.388790\n",
       "min           1.000000\n",
       "25%           1.000000\n",
       "50%           3.000000\n",
       "75%          16.000000\n",
       "max       12046.000000\n",
       "Name: rating, dtype: float64"
      ]
     },
     "execution_count": 20,
     "metadata": {},
     "output_type": "execute_result"
    }
   ],
   "source": [
    "rating_per_user.describe()"
   ]
  },
  {
   "cell_type": "code",
   "execution_count": 21,
   "metadata": {},
   "outputs": [
    {
     "data": {
      "text/plain": [
       "1537"
      ]
     },
     "execution_count": 21,
     "metadata": {},
     "output_type": "execute_result"
    }
   ],
   "source": [
    "five_last_percent = np.percentile(rating_per_user, 99)\n",
    "sum(rating_per_user > five_last_percent)"
   ]
  },
  {
   "cell_type": "code",
   "execution_count": 22,
   "metadata": {},
   "outputs": [
    {
     "data": {
      "text/plain": [
       "user_id\n",
       "sammy.3853               12046\n",
       "acurtis.508168           10360\n",
       "texasfan549.572853       10302\n",
       "kylehay2004.571365       10180\n",
       "grg1313.288024            9991\n",
       "                         ...  \n",
       "saxmanrick.675576         1026\n",
       "kingcrowing.311556        1025\n",
       "futbolmanby.1010699       1024\n",
       "trickkygangsta.640751     1024\n",
       "ricks95.5391              1024\n",
       "Name: rating, Length: 1537, dtype: int64"
      ]
     },
     "execution_count": 22,
     "metadata": {},
     "output_type": "execute_result"
    }
   ],
   "source": [
    "top_rating_per_user = rating_per_user[rating_per_user > five_last_percent]\n",
    "top_rating_per_user"
   ]
  },
  {
   "cell_type": "code",
   "execution_count": 23,
   "metadata": {},
   "outputs": [
    {
     "data": {
      "text/plain": [
       "count     1537.000000\n",
       "mean      1968.392973\n",
       "std       1251.589991\n",
       "min       1024.000000\n",
       "25%       1222.000000\n",
       "50%       1539.000000\n",
       "75%       2191.000000\n",
       "max      12046.000000\n",
       "Name: rating, dtype: float64"
      ]
     },
     "execution_count": 23,
     "metadata": {},
     "output_type": "execute_result"
    }
   ],
   "source": [
    "top_rating_per_user.describe()"
   ]
  },
  {
   "cell_type": "code",
   "execution_count": 24,
   "metadata": {},
   "outputs": [],
   "source": [
    "df_advocate_ratings['rating'] = pd.to_numeric(df_advocate_ratings['rating'], errors='coerce')\n",
    "df_advocate_ratings_clean = df_advocate_ratings.dropna(subset=['beer_id', 'rating'])"
   ]
  },
  {
   "cell_type": "code",
   "execution_count": 36,
   "metadata": {},
   "outputs": [],
   "source": [
    "normal_users_rating = df_advocate_ratings_clean[~df_advocate_ratings_clean['user_id'].isin(top_rating_per_user.index)]\n",
    "normal_beers_rating_average = normal_users_rating.groupby('beer_id')['rating'].mean()"
   ]
  },
  {
   "cell_type": "code",
   "execution_count": 37,
   "metadata": {},
   "outputs": [
    {
     "data": {
      "text/plain": [
       "beer_id\n",
       "10        3.808164\n",
       "100       3.145625\n",
       "1000      3.839438\n",
       "100000    3.779091\n",
       "100001    3.940000\n",
       "            ...   \n",
       "99993     4.000000\n",
       "99996     2.625000\n",
       "99997     4.195732\n",
       "99998     3.530000\n",
       "99999     3.875000\n",
       "Name: rating, Length: 170177, dtype: float64"
      ]
     },
     "execution_count": 37,
     "metadata": {},
     "output_type": "execute_result"
    }
   ],
   "source": [
    "normal_beers_rating_average"
   ]
  },
  {
   "cell_type": "code",
   "execution_count": 38,
   "metadata": {},
   "outputs": [],
   "source": [
    "expert_user_rating = df_advocate_ratings_clean[df_advocate_ratings_clean['user_id'].isin(top_rating_per_user.index)]"
   ]
  },
  {
   "cell_type": "code",
   "execution_count": 39,
   "metadata": {},
   "outputs": [],
   "source": [
    "expert_beers_rating_average = expert_user_rating.groupby('beer_id')['rating'].mean()"
   ]
  },
  {
   "cell_type": "code",
   "execution_count": 29,
   "metadata": {},
   "outputs": [
    {
     "data": {
      "text/plain": [
       "beer_id\n",
       "10        3.806157\n",
       "100       3.118889\n",
       "1000      3.807516\n",
       "100000    3.706538\n",
       "100002    3.777500\n",
       "            ...   \n",
       "99995     2.900000\n",
       "99996     3.238000\n",
       "99997     4.100178\n",
       "99998     3.506667\n",
       "99999     3.889091\n",
       "Name: rating, Length: 215997, dtype: float64"
      ]
     },
     "execution_count": 29,
     "metadata": {},
     "output_type": "execute_result"
    }
   ],
   "source": [
    "beers_rating_average[expert_beers_rating_average.index]"
   ]
  },
  {
   "cell_type": "code",
   "execution_count": 78,
   "metadata": {
    "scrolled": true
   },
   "outputs": [
    {
     "data": {
      "text/html": [
       "<div>\n",
       "<style scoped>\n",
       "    .dataframe tbody tr th:only-of-type {\n",
       "        vertical-align: middle;\n",
       "    }\n",
       "\n",
       "    .dataframe tbody tr th {\n",
       "        vertical-align: top;\n",
       "    }\n",
       "\n",
       "    .dataframe thead th {\n",
       "        text-align: right;\n",
       "    }\n",
       "</style>\n",
       "<table border=\"1\" class=\"dataframe\">\n",
       "  <thead>\n",
       "    <tr style=\"text-align: right;\">\n",
       "      <th></th>\n",
       "      <th>beer_id</th>\n",
       "      <th>expert_rating</th>\n",
       "    </tr>\n",
       "  </thead>\n",
       "  <tbody>\n",
       "    <tr>\n",
       "      <th>0</th>\n",
       "      <td>10</td>\n",
       "      <td>3.800966</td>\n",
       "    </tr>\n",
       "    <tr>\n",
       "      <th>1</th>\n",
       "      <td>100</td>\n",
       "      <td>3.003450</td>\n",
       "    </tr>\n",
       "    <tr>\n",
       "      <th>2</th>\n",
       "      <td>1000</td>\n",
       "      <td>3.763125</td>\n",
       "    </tr>\n",
       "    <tr>\n",
       "      <th>3</th>\n",
       "      <td>100000</td>\n",
       "      <td>3.653333</td>\n",
       "    </tr>\n",
       "    <tr>\n",
       "      <th>4</th>\n",
       "      <td>100002</td>\n",
       "      <td>3.764444</td>\n",
       "    </tr>\n",
       "  </tbody>\n",
       "</table>\n",
       "</div>"
      ],
      "text/plain": [
       "  beer_id  expert_rating\n",
       "0      10       3.800966\n",
       "1     100       3.003450\n",
       "2    1000       3.763125\n",
       "3  100000       3.653333\n",
       "4  100002       3.764444"
      ]
     },
     "execution_count": 78,
     "metadata": {},
     "output_type": "execute_result"
    }
   ],
   "source": [
    "expert_rating_avg = expert_beers_rating_average.reset_index()\n",
    "expert_rating_avg.columns = ['beer_id', 'expert_rating']\n",
    "expert_rating_avg.head()"
   ]
  },
  {
   "cell_type": "code",
   "execution_count": 79,
   "metadata": {
    "scrolled": true
   },
   "outputs": [
    {
     "data": {
      "text/html": [
       "<div>\n",
       "<style scoped>\n",
       "    .dataframe tbody tr th:only-of-type {\n",
       "        vertical-align: middle;\n",
       "    }\n",
       "\n",
       "    .dataframe tbody tr th {\n",
       "        vertical-align: top;\n",
       "    }\n",
       "\n",
       "    .dataframe thead th {\n",
       "        text-align: right;\n",
       "    }\n",
       "</style>\n",
       "<table border=\"1\" class=\"dataframe\">\n",
       "  <thead>\n",
       "    <tr style=\"text-align: right;\">\n",
       "      <th></th>\n",
       "      <th>beer_id</th>\n",
       "      <th>normal_rating</th>\n",
       "    </tr>\n",
       "  </thead>\n",
       "  <tbody>\n",
       "    <tr>\n",
       "      <th>0</th>\n",
       "      <td>10</td>\n",
       "      <td>3.808164</td>\n",
       "    </tr>\n",
       "    <tr>\n",
       "      <th>1</th>\n",
       "      <td>100</td>\n",
       "      <td>3.145625</td>\n",
       "    </tr>\n",
       "    <tr>\n",
       "      <th>2</th>\n",
       "      <td>1000</td>\n",
       "      <td>3.839438</td>\n",
       "    </tr>\n",
       "    <tr>\n",
       "      <th>3</th>\n",
       "      <td>100000</td>\n",
       "      <td>3.779091</td>\n",
       "    </tr>\n",
       "    <tr>\n",
       "      <th>4</th>\n",
       "      <td>100001</td>\n",
       "      <td>3.940000</td>\n",
       "    </tr>\n",
       "  </tbody>\n",
       "</table>\n",
       "</div>"
      ],
      "text/plain": [
       "  beer_id  normal_rating\n",
       "0      10       3.808164\n",
       "1     100       3.145625\n",
       "2    1000       3.839438\n",
       "3  100000       3.779091\n",
       "4  100001       3.940000"
      ]
     },
     "execution_count": 79,
     "metadata": {},
     "output_type": "execute_result"
    }
   ],
   "source": [
    "normal_rating_avg = normal_beers_rating_average.reset_index()\n",
    "normal_rating_avg.columns = ['beer_id', 'normal_rating']\n",
    "normal_rating_avg.head()"
   ]
  },
  {
   "cell_type": "code",
   "execution_count": 80,
   "metadata": {},
   "outputs": [
    {
     "data": {
      "text/plain": [
       "beer_id           object\n",
       "normal_rating    float64\n",
       "dtype: object"
      ]
     },
     "execution_count": 80,
     "metadata": {},
     "output_type": "execute_result"
    }
   ],
   "source": []
  },
  {
   "cell_type": "code",
   "execution_count": 84,
   "metadata": {},
   "outputs": [
    {
     "data": {
      "text/html": [
       "<div>\n",
       "<style scoped>\n",
       "    .dataframe tbody tr th:only-of-type {\n",
       "        vertical-align: middle;\n",
       "    }\n",
       "\n",
       "    .dataframe tbody tr th {\n",
       "        vertical-align: top;\n",
       "    }\n",
       "\n",
       "    .dataframe thead th {\n",
       "        text-align: right;\n",
       "    }\n",
       "</style>\n",
       "<table border=\"1\" class=\"dataframe\">\n",
       "  <thead>\n",
       "    <tr style=\"text-align: right;\">\n",
       "      <th></th>\n",
       "      <th>beer_id</th>\n",
       "      <th>expert_rating</th>\n",
       "      <th>normal_rating</th>\n",
       "      <th>beer_name</th>\n",
       "    </tr>\n",
       "  </thead>\n",
       "  <tbody>\n",
       "    <tr>\n",
       "      <th>0</th>\n",
       "      <td>10</td>\n",
       "      <td>3.800966</td>\n",
       "      <td>3.808164</td>\n",
       "      <td>Allagash Dubbel Ale</td>\n",
       "    </tr>\n",
       "    <tr>\n",
       "      <th>1</th>\n",
       "      <td>100</td>\n",
       "      <td>3.003450</td>\n",
       "      <td>3.145625</td>\n",
       "      <td>Blue Moon Harvest Moon Pumpkin Ale</td>\n",
       "    </tr>\n",
       "    <tr>\n",
       "      <th>2</th>\n",
       "      <td>1000</td>\n",
       "      <td>3.763125</td>\n",
       "      <td>3.839438</td>\n",
       "      <td>Winter Brew</td>\n",
       "    </tr>\n",
       "    <tr>\n",
       "      <th>3</th>\n",
       "      <td>100000</td>\n",
       "      <td>3.653333</td>\n",
       "      <td>3.779091</td>\n",
       "      <td>Rosalind</td>\n",
       "    </tr>\n",
       "    <tr>\n",
       "      <th>4</th>\n",
       "      <td>100002</td>\n",
       "      <td>3.764444</td>\n",
       "      <td>3.794286</td>\n",
       "      <td>Dead Eye Dunkel</td>\n",
       "    </tr>\n",
       "  </tbody>\n",
       "</table>\n",
       "</div>"
      ],
      "text/plain": [
       "   beer_id  expert_rating  normal_rating                           beer_name\n",
       "0       10       3.800966       3.808164                 Allagash Dubbel Ale\n",
       "1      100       3.003450       3.145625  Blue Moon Harvest Moon Pumpkin Ale\n",
       "2     1000       3.763125       3.839438                         Winter Brew\n",
       "3   100000       3.653333       3.779091                            Rosalind\n",
       "4   100002       3.764444       3.794286                     Dead Eye Dunkel"
      ]
     },
     "execution_count": 84,
     "metadata": {},
     "output_type": "execute_result"
    }
   ],
   "source": [
    "merged_expert_normal_rating = expert_rating_avg.merge(normal_rating_avg, on='beer_id', how='inner')\n",
    "merged_expert_normal_rating['beer_id'] = merged_expert_normal_rating['beer_id'].astype(int)\n",
    "merged_expert_normal_rating = merged_expert_normal_rating.merge(df_advocate_beers[['beer_id', 'beer_name']], on='beer_id', how='left')\n",
    "merged_expert_normal_rating.head()"
   ]
  },
  {
   "cell_type": "code",
   "execution_count": 85,
   "metadata": {},
   "outputs": [
    {
     "data": {
      "text/html": [
       "<div>\n",
       "<style scoped>\n",
       "    .dataframe tbody tr th:only-of-type {\n",
       "        vertical-align: middle;\n",
       "    }\n",
       "\n",
       "    .dataframe tbody tr th {\n",
       "        vertical-align: top;\n",
       "    }\n",
       "\n",
       "    .dataframe thead th {\n",
       "        text-align: right;\n",
       "    }\n",
       "</style>\n",
       "<table border=\"1\" class=\"dataframe\">\n",
       "  <thead>\n",
       "    <tr style=\"text-align: right;\">\n",
       "      <th></th>\n",
       "      <th>beer_id</th>\n",
       "      <th>expert_rating</th>\n",
       "      <th>normal_rating</th>\n",
       "      <th>beer_name</th>\n",
       "      <th>diff_rating</th>\n",
       "    </tr>\n",
       "  </thead>\n",
       "  <tbody>\n",
       "    <tr>\n",
       "      <th>0</th>\n",
       "      <td>10</td>\n",
       "      <td>3.800966</td>\n",
       "      <td>3.808164</td>\n",
       "      <td>Allagash Dubbel Ale</td>\n",
       "      <td>0.007198</td>\n",
       "    </tr>\n",
       "    <tr>\n",
       "      <th>1</th>\n",
       "      <td>100</td>\n",
       "      <td>3.003450</td>\n",
       "      <td>3.145625</td>\n",
       "      <td>Blue Moon Harvest Moon Pumpkin Ale</td>\n",
       "      <td>0.142175</td>\n",
       "    </tr>\n",
       "    <tr>\n",
       "      <th>2</th>\n",
       "      <td>1000</td>\n",
       "      <td>3.763125</td>\n",
       "      <td>3.839438</td>\n",
       "      <td>Winter Brew</td>\n",
       "      <td>0.076313</td>\n",
       "    </tr>\n",
       "    <tr>\n",
       "      <th>3</th>\n",
       "      <td>100000</td>\n",
       "      <td>3.653333</td>\n",
       "      <td>3.779091</td>\n",
       "      <td>Rosalind</td>\n",
       "      <td>0.125758</td>\n",
       "    </tr>\n",
       "    <tr>\n",
       "      <th>4</th>\n",
       "      <td>100002</td>\n",
       "      <td>3.764444</td>\n",
       "      <td>3.794286</td>\n",
       "      <td>Dead Eye Dunkel</td>\n",
       "      <td>0.029841</td>\n",
       "    </tr>\n",
       "    <tr>\n",
       "      <th>...</th>\n",
       "      <td>...</td>\n",
       "      <td>...</td>\n",
       "      <td>...</td>\n",
       "      <td>...</td>\n",
       "      <td>...</td>\n",
       "    </tr>\n",
       "    <tr>\n",
       "      <th>138187</th>\n",
       "      <td>99993</td>\n",
       "      <td>3.870000</td>\n",
       "      <td>4.000000</td>\n",
       "      <td>Black Ale</td>\n",
       "      <td>0.130000</td>\n",
       "    </tr>\n",
       "    <tr>\n",
       "      <th>138188</th>\n",
       "      <td>99996</td>\n",
       "      <td>3.646667</td>\n",
       "      <td>2.625000</td>\n",
       "      <td>Nils Oscar SMÖF Jubelöl 2013</td>\n",
       "      <td>1.021667</td>\n",
       "    </tr>\n",
       "    <tr>\n",
       "      <th>138189</th>\n",
       "      <td>99997</td>\n",
       "      <td>4.010115</td>\n",
       "      <td>4.195732</td>\n",
       "      <td>Muy Bonita</td>\n",
       "      <td>0.185617</td>\n",
       "    </tr>\n",
       "    <tr>\n",
       "      <th>138190</th>\n",
       "      <td>99998</td>\n",
       "      <td>3.500000</td>\n",
       "      <td>3.530000</td>\n",
       "      <td>Scratch Beer 114 - 2013  (Abbey Dubbel)</td>\n",
       "      <td>0.030000</td>\n",
       "    </tr>\n",
       "    <tr>\n",
       "      <th>138191</th>\n",
       "      <td>99999</td>\n",
       "      <td>3.892222</td>\n",
       "      <td>3.875000</td>\n",
       "      <td>Scratch Beer 115 - 2013 (Stout)</td>\n",
       "      <td>0.017222</td>\n",
       "    </tr>\n",
       "  </tbody>\n",
       "</table>\n",
       "<p>138192 rows × 5 columns</p>\n",
       "</div>"
      ],
      "text/plain": [
       "        beer_id  expert_rating  normal_rating  \\\n",
       "0            10       3.800966       3.808164   \n",
       "1           100       3.003450       3.145625   \n",
       "2          1000       3.763125       3.839438   \n",
       "3        100000       3.653333       3.779091   \n",
       "4        100002       3.764444       3.794286   \n",
       "...         ...            ...            ...   \n",
       "138187    99993       3.870000       4.000000   \n",
       "138188    99996       3.646667       2.625000   \n",
       "138189    99997       4.010115       4.195732   \n",
       "138190    99998       3.500000       3.530000   \n",
       "138191    99999       3.892222       3.875000   \n",
       "\n",
       "                                      beer_name  diff_rating  \n",
       "0                           Allagash Dubbel Ale     0.007198  \n",
       "1            Blue Moon Harvest Moon Pumpkin Ale     0.142175  \n",
       "2                                   Winter Brew     0.076313  \n",
       "3                                      Rosalind     0.125758  \n",
       "4                               Dead Eye Dunkel     0.029841  \n",
       "...                                         ...          ...  \n",
       "138187                                Black Ale     0.130000  \n",
       "138188             Nils Oscar SMÖF Jubelöl 2013     1.021667  \n",
       "138189                               Muy Bonita     0.185617  \n",
       "138190  Scratch Beer 114 - 2013  (Abbey Dubbel)     0.030000  \n",
       "138191          Scratch Beer 115 - 2013 (Stout)     0.017222  \n",
       "\n",
       "[138192 rows x 5 columns]"
      ]
     },
     "execution_count": 85,
     "metadata": {},
     "output_type": "execute_result"
    }
   ],
   "source": [
    "merged_expert_normal_rating['diff_rating'] = np.abs(merged_expert_normal_rating['expert_rating'] - merged_expert_normal_rating['normal_rating'])\n",
    "merged_expert_normal_rating"
   ]
  },
  {
   "cell_type": "code",
   "execution_count": 86,
   "metadata": {
    "scrolled": false
   },
   "outputs": [
    {
     "data": {
      "text/html": [
       "<div>\n",
       "<style scoped>\n",
       "    .dataframe tbody tr th:only-of-type {\n",
       "        vertical-align: middle;\n",
       "    }\n",
       "\n",
       "    .dataframe tbody tr th {\n",
       "        vertical-align: top;\n",
       "    }\n",
       "\n",
       "    .dataframe thead th {\n",
       "        text-align: right;\n",
       "    }\n",
       "</style>\n",
       "<table border=\"1\" class=\"dataframe\">\n",
       "  <thead>\n",
       "    <tr style=\"text-align: right;\">\n",
       "      <th></th>\n",
       "      <th>beer_id</th>\n",
       "      <th>expert_rating</th>\n",
       "      <th>normal_rating</th>\n",
       "      <th>beer_name</th>\n",
       "      <th>diff_rating</th>\n",
       "    </tr>\n",
       "  </thead>\n",
       "  <tbody>\n",
       "    <tr>\n",
       "      <th>7886</th>\n",
       "      <td>111785</td>\n",
       "      <td>4.125000</td>\n",
       "      <td>1.000000</td>\n",
       "      <td>Drift Line - Dry Hopped With Centennial &amp; Chinook</td>\n",
       "      <td>3.125000</td>\n",
       "    </tr>\n",
       "    <tr>\n",
       "      <th>21347</th>\n",
       "      <td>132040</td>\n",
       "      <td>1.515000</td>\n",
       "      <td>4.832857</td>\n",
       "      <td>Enkindled Smoked IPA</td>\n",
       "      <td>3.317857</td>\n",
       "    </tr>\n",
       "    <tr>\n",
       "      <th>22117</th>\n",
       "      <td>133288</td>\n",
       "      <td>5.000000</td>\n",
       "      <td>1.040000</td>\n",
       "      <td>Bubblelicious Weisse</td>\n",
       "      <td>3.960000</td>\n",
       "    </tr>\n",
       "    <tr>\n",
       "      <th>23517</th>\n",
       "      <td>135587</td>\n",
       "      <td>1.000000</td>\n",
       "      <td>4.905000</td>\n",
       "      <td>Farmhouse Ale</td>\n",
       "      <td>3.905000</td>\n",
       "    </tr>\n",
       "    <tr>\n",
       "      <th>26175</th>\n",
       "      <td>139991</td>\n",
       "      <td>1.000000</td>\n",
       "      <td>4.550000</td>\n",
       "      <td>Oktoberfest</td>\n",
       "      <td>3.550000</td>\n",
       "    </tr>\n",
       "    <tr>\n",
       "      <th>45835</th>\n",
       "      <td>179106</td>\n",
       "      <td>5.000000</td>\n",
       "      <td>1.190000</td>\n",
       "      <td>Chigoatlé</td>\n",
       "      <td>3.810000</td>\n",
       "    </tr>\n",
       "    <tr>\n",
       "      <th>64638</th>\n",
       "      <td>223453</td>\n",
       "      <td>4.125000</td>\n",
       "      <td>1.000000</td>\n",
       "      <td>Jose Ocampo</td>\n",
       "      <td>3.125000</td>\n",
       "    </tr>\n",
       "    <tr>\n",
       "      <th>73275</th>\n",
       "      <td>245711</td>\n",
       "      <td>4.100000</td>\n",
       "      <td>1.000000</td>\n",
       "      <td>Compound Interest</td>\n",
       "      <td>3.100000</td>\n",
       "    </tr>\n",
       "    <tr>\n",
       "      <th>76577</th>\n",
       "      <td>254152</td>\n",
       "      <td>1.580000</td>\n",
       "      <td>4.665000</td>\n",
       "      <td>Subject Nine</td>\n",
       "      <td>3.085000</td>\n",
       "    </tr>\n",
       "    <tr>\n",
       "      <th>76730</th>\n",
       "      <td>254558</td>\n",
       "      <td>4.145000</td>\n",
       "      <td>1.000000</td>\n",
       "      <td>Badunkeldonk</td>\n",
       "      <td>3.145000</td>\n",
       "    </tr>\n",
       "    <tr>\n",
       "      <th>82877</th>\n",
       "      <td>271049</td>\n",
       "      <td>4.083333</td>\n",
       "      <td>1.000000</td>\n",
       "      <td>Innkeeper Barleywine</td>\n",
       "      <td>3.083333</td>\n",
       "    </tr>\n",
       "    <tr>\n",
       "      <th>92200</th>\n",
       "      <td>35174</td>\n",
       "      <td>1.000000</td>\n",
       "      <td>4.200000</td>\n",
       "      <td>Fish Tale Pils</td>\n",
       "      <td>3.200000</td>\n",
       "    </tr>\n",
       "    <tr>\n",
       "      <th>95912</th>\n",
       "      <td>41320</td>\n",
       "      <td>1.910000</td>\n",
       "      <td>5.000000</td>\n",
       "      <td>Kühbacher Lager</td>\n",
       "      <td>3.090000</td>\n",
       "    </tr>\n",
       "    <tr>\n",
       "      <th>98231</th>\n",
       "      <td>4501</td>\n",
       "      <td>4.040000</td>\n",
       "      <td>1.000000</td>\n",
       "      <td>Rattlesnake Mountain Grand Amber Ale</td>\n",
       "      <td>3.040000</td>\n",
       "    </tr>\n",
       "    <tr>\n",
       "      <th>99833</th>\n",
       "      <td>47405</td>\n",
       "      <td>4.050000</td>\n",
       "      <td>1.000000</td>\n",
       "      <td>Ale Of Fergus Winter Warmer</td>\n",
       "      <td>3.050000</td>\n",
       "    </tr>\n",
       "    <tr>\n",
       "      <th>107464</th>\n",
       "      <td>59098</td>\n",
       "      <td>1.220000</td>\n",
       "      <td>4.740000</td>\n",
       "      <td>Orange Blossom</td>\n",
       "      <td>3.520000</td>\n",
       "    </tr>\n",
       "    <tr>\n",
       "      <th>121694</th>\n",
       "      <td>78964</td>\n",
       "      <td>1.000000</td>\n",
       "      <td>4.165000</td>\n",
       "      <td>Octagon</td>\n",
       "      <td>3.165000</td>\n",
       "    </tr>\n",
       "    <tr>\n",
       "      <th>121957</th>\n",
       "      <td>79296</td>\n",
       "      <td>1.000000</td>\n",
       "      <td>4.300000</td>\n",
       "      <td>Sno'Blower Winter Wit</td>\n",
       "      <td>3.300000</td>\n",
       "    </tr>\n",
       "    <tr>\n",
       "      <th>123571</th>\n",
       "      <td>81354</td>\n",
       "      <td>4.350000</td>\n",
       "      <td>1.000000</td>\n",
       "      <td>Full Of Beans</td>\n",
       "      <td>3.350000</td>\n",
       "    </tr>\n",
       "  </tbody>\n",
       "</table>\n",
       "</div>"
      ],
      "text/plain": [
       "        beer_id  expert_rating  normal_rating  \\\n",
       "7886     111785       4.125000       1.000000   \n",
       "21347    132040       1.515000       4.832857   \n",
       "22117    133288       5.000000       1.040000   \n",
       "23517    135587       1.000000       4.905000   \n",
       "26175    139991       1.000000       4.550000   \n",
       "45835    179106       5.000000       1.190000   \n",
       "64638    223453       4.125000       1.000000   \n",
       "73275    245711       4.100000       1.000000   \n",
       "76577    254152       1.580000       4.665000   \n",
       "76730    254558       4.145000       1.000000   \n",
       "82877    271049       4.083333       1.000000   \n",
       "92200     35174       1.000000       4.200000   \n",
       "95912     41320       1.910000       5.000000   \n",
       "98231      4501       4.040000       1.000000   \n",
       "99833     47405       4.050000       1.000000   \n",
       "107464    59098       1.220000       4.740000   \n",
       "121694    78964       1.000000       4.165000   \n",
       "121957    79296       1.000000       4.300000   \n",
       "123571    81354       4.350000       1.000000   \n",
       "\n",
       "                                                beer_name  diff_rating  \n",
       "7886    Drift Line - Dry Hopped With Centennial & Chinook     3.125000  \n",
       "21347                                Enkindled Smoked IPA     3.317857  \n",
       "22117                                Bubblelicious Weisse     3.960000  \n",
       "23517                                       Farmhouse Ale     3.905000  \n",
       "26175                                         Oktoberfest     3.550000  \n",
       "45835                                           Chigoatlé     3.810000  \n",
       "64638                                         Jose Ocampo     3.125000  \n",
       "73275                                   Compound Interest     3.100000  \n",
       "76577                                        Subject Nine     3.085000  \n",
       "76730                                        Badunkeldonk     3.145000  \n",
       "82877                                Innkeeper Barleywine     3.083333  \n",
       "92200                                      Fish Tale Pils     3.200000  \n",
       "95912                                     Kühbacher Lager     3.090000  \n",
       "98231                Rattlesnake Mountain Grand Amber Ale     3.040000  \n",
       "99833                         Ale Of Fergus Winter Warmer     3.050000  \n",
       "107464                                     Orange Blossom     3.520000  \n",
       "121694                                            Octagon     3.165000  \n",
       "121957                              Sno'Blower Winter Wit     3.300000  \n",
       "123571                                      Full Of Beans     3.350000  "
      ]
     },
     "execution_count": 86,
     "metadata": {},
     "output_type": "execute_result"
    }
   ],
   "source": [
    "merged_expert_normal_filtered = merged_expert_normal_rating.query('diff_rating > 3')\n",
    "merged_expert_normal_filtered"
   ]
  },
  {
   "cell_type": "markdown",
   "metadata": {},
   "source": [
    "337 beers have a rating which is very different between expert and normal user !"
   ]
  },
  {
   "cell_type": "code",
   "execution_count": 92,
   "metadata": {},
   "outputs": [
    {
     "data": {
      "image/png": "[encoded data removed]",
      "text/plain": [
       "<Figure size 640x480 with 1 Axes>"
      ]
     },
     "metadata": {},
     "output_type": "display_data"
    }
   ],
   "source": [
    "sns.scatterplot(data=merged_expert_normal_filtered, x='beer_name', y='expert_rating', label='expert rating')\n",
    "sns.scatterplot(data=merged_expert_normal_filtered, x='beer_name', y='normal_rating', label='normal rating')\n",
    "plt.xticks(rotation=90)\n",
    "plt.ylabel('rating')\n",
    "plt.legend()\n",
    "plt.show()"
   ]
  },
  {
   "cell_type": "code",
   "execution_count": null,
   "metadata": {},
   "outputs": [],
   "source": []
  }
 ],
 "metadata": {
  "kernelspec": {
   "display_name": "Python 3 (ipykernel)",
   "language": "python",
   "name": "python3"
  },
  "language_info": {
   "codemirror_mode": {
    "name": "ipython",
    "version": 3
   },
   "file_extension": ".py",
   "mimetype": "text/x-python",
   "name": "python",
   "nbconvert_exporter": "python",
   "pygments_lexer": "ipython3",
   "version": "3.9.18"
  }
 },
 "nbformat": 4,
 "nbformat_minor": 2
}
