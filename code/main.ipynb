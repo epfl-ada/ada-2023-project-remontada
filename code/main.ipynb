{
 "cells": [
  {
   "cell_type": "code",
   "execution_count": null,
   "metadata": {},
   "outputs": [],
   "source": [
    "import pandas as pd\n",
    "import numpy as np\n",
    "import seaborn as sns\n",
    "import matplotlib.pyplot as plt\n",
    "from copy import deepcopy\n",
    "import powerlaw\n",
    "from statsmodels.stats import diagnostic\n",
    "%matplotlib inline\n",
    "\n",
    "%load_ext autoreload\n",
    "%autoreload 2"
   ]
  },
  {
   "cell_type": "code",
   "execution_count": null,
   "metadata": {},
   "outputs": [],
   "source": [
    "%reload_ext autoreload"
   ]
  },
  {
   "cell_type": "code",
   "execution_count": null,
   "metadata": {},
   "outputs": [],
   "source": [
    "from read_functions import *\n",
    "from pickle_functions import *"
   ]
  },
  {
   "cell_type": "code",
   "execution_count": null,
   "metadata": {
    "tags": []
   },
   "outputs": [],
   "source": [
    "beer_advocate_path = '../datas/BeerAdvocate/'\n",
    "matched_beer_data_path = '../datas/matched_beer_data/'\n",
    "rate_beer_path = '../datas/RateBeer/'\n",
    "\n",
    "advocate_beers_path = beer_advocate_path + 'beers.csv'\n",
    "advovate_breweries_path = beer_advocate_path + 'breweries.csv'\n",
    "advocate_ratings_path = beer_advocate_path + 'ratings.txt'\n",
    "advocate_reviews_path = beer_advocate_path + 'reviews.txt'\n",
    "advocate_users_path = beer_advocate_path + 'users.csv'\n",
    "\n",
    "matched_beer_beers = matched_beer_data_path + 'beers.csv'\n",
    "matched_beer_breweries = matched_beer_data_path + 'breweries.csv'\n",
    "matched_beer_ratings_ba = matched_beer_data_path + 'ratings_ba.txt'\n",
    "matched_beer_ratings_rb = matched_beer_data_path + 'ratings_rb.txt'\n",
    "matched_beer_ratings = matched_beer_data_path + 'ratings.csv'\n",
    "matched_beer_users_approx = matched_beer_data_path + 'users_approx.csv'\n",
    "matched_beer_users = matched_beer_data_path + 'users.csv'\n",
    "\n",
    "rate_beer_beers = rate_beer_path + 'beers.csv'\n",
    "rate_beer_breweries = rate_beer_path + 'breweries.csv'\n",
    "rate_beer_users = rate_beer_path + 'users.csv'\n",
    "rate_beer_ratings = rate_beer_path + 'ratings.txt'\n",
    "rate_beer_reviews = rate_beer_path + 'reviews.txt'\n",
    "\n",
    "contries_path = '../datas/countries/countries.csv'\n"
   ]
  },
  {
   "cell_type": "code",
   "execution_count": null,
   "metadata": {},
   "outputs": [],
   "source": [
    "beer_advocate_path = '../datas/BeerAdvocate/pickle/'\n",
    "matched_beer_data_path = '../datas/matched_beer_data/pickle/'\n",
    "rate_beer_path = '../datas/RateBeer/pickle/'\n",
    "\n",
    "advocate_beers_path_pickle = beer_advocate_path + 'beers.csv'\n",
    "advovate_breweries_path_pickle = beer_advocate_path + 'breweries.csv'\n",
    "advocate_ratings_path_pickle = beer_advocate_path + 'ratings.txt'\n",
    "advocate_reviews_path_pickle = beer_advocate_path + 'reviews.txt'\n",
    "advocate_users_path_pickle = beer_advocate_path + 'users.csv'\n",
    "\n",
    "matched_beer_beers_pickle = matched_beer_data_path + 'beers.csv'\n",
    "matched_beer_breweries_pickle = matched_beer_data_path + 'breweries.csv'\n",
    "matched_beer_ratings_ba_pickle = matched_beer_data_path + 'ratings_ba.txt'\n",
    "matched_beer_ratings_rb_pickle = matched_beer_data_path + 'ratings_rb.txt'\n",
    "matched_beer_ratings_pickle = matched_beer_data_path + 'ratings.csv'\n",
    "matched_beer_users_approx_pickle = matched_beer_data_path + 'users_approx.csv'\n",
    "matched_beer_users_pickle = matched_beer_data_path + 'users.csv'\n",
    "\n",
    "rate_beer_beers_pickle = rate_beer_path + 'beers.csv'\n",
    "rate_beer_breweries_pickle = rate_beer_path + 'breweries.csv'\n",
    "rate_beer_users_pickle = rate_beer_path + 'users.csv'\n",
    "rate_beer_ratings_pickle = rate_beer_path + 'ratings.txt'\n",
    "rate_beer_reviews_pickle = rate_beer_path + 'reviews.txt'"
   ]
  },
  {
   "cell_type": "code",
   "execution_count": null,
   "metadata": {},
   "outputs": [],
   "source": [
    "#Define list of datas for each website\n",
    "datas_matched_beer_names = ['df_matched_beer_beers','df_matched_beer_breweries','df_matched_beer_ratings_ba','df_matched_beer_ratings_rb','df_matched_beer_ratings','df_matched_beer_users_approx','df_matched_beer_users']\n",
    "datas_advocate_names = ['df_advocate_beers','df_advocate_breweries','df_advocate_ratings','df_advocate_reviews','df_advocate_users']\n",
    "datas_rate_beer_names = ['df_rate_beer_beers','df_rate_beer_breweries','df_rate_beer_users','df_rate_beer_ratings','df_rate_beer_ratings']"
   ]
  },
  {
   "cell_type": "markdown",
   "metadata": {},
   "source": [
    "### import datas "
   ]
  },
  {
   "cell_type": "raw",
   "metadata": {},
   "source": [
    "df_advocate_beers = pd.read_csv(advocate_beers_path, sep=',')\n",
    "df_advocate_breweries = pd.read_csv(advovate_breweries_path, sep=',')\n",
    "df_advocate_ratings = read_txt(advocate_ratings_path)\n",
    "df_advocate_reviews = read_txt(advocate_reviews_path)\n",
    "df_advocate_users = pd.read_csv(advocate_users_path, sep=',')"
   ]
  },
  {
   "cell_type": "raw",
   "metadata": {},
   "source": [
    "df_rate_beer_beers = pd.read_csv(rate_beer_beers, sep=',')\n",
    "df_rate_beer_breweries = pd.read_csv(rate_beer_breweries, sep=',')\n",
    "df_rate_beer_users = pd.read_csv(rate_beer_users, sep=',')\n",
    "df_rate_beer_ratings = read_txt(rate_beer_ratings)\n",
    "df_rate_beer_reviews = read_txt(rate_beer_reviews)"
   ]
  },
  {
   "cell_type": "raw",
   "metadata": {},
   "source": [
    "df_matched_beer_beers = pd.read_csv(matched_beer_beers, sep=',')\n",
    "df_matched_beer_breweries = pd.read_csv(matched_beer_breweries, sep=',')\n",
    "df_matched_beer_ratings_ba = read_txt(matched_beer_ratings_ba)\n",
    "df_matched_beer_ratings_rb = read_txt(matched_beer_ratings_rb)\n",
    "df_matched_beer_ratings = pd.read_csv(matched_beer_ratings, sep=',')\n",
    "df_matched_beer_users_approx = pd.read_csv(matched_beer_users_approx)\n",
    "df_matched_beer_users = pd.read_csv(matched_beer_users)"
   ]
  },
  {
   "cell_type": "markdown",
   "metadata": {},
   "source": [
    "### Import datas stored as pickle"
   ]
  },
  {
   "cell_type": "code",
   "execution_count": null,
   "metadata": {},
   "outputs": [],
   "source": [
    "df_matched_beer_beers,df_matched_beer_breweries,df_matched_beer_ratings_ba,df_matched_beer_ratings_rb,df_matched_beer_ratings,df_matched_beer_users_approx,df_matched_beer_users = load_datas('matched_beer_data', datas_matched_beer_names)\n",
    "df_rate_beer_beers,df_rate_beer_breweries,df_rate_beer_users = load_datas('RateBeer', datas_rate_beer_names)\n",
    "df_advocate_beers,df_advocate_breweries,df_advocate_ratings,df_advocate_reviews,df_advocate_users = load_datas('BeerAdvocate', datas_advocate_names)"
   ]
  },
  {
   "cell_type": "markdown",
   "metadata": {},
   "source": [
    "## Store dataFrame into picke format"
   ]
  },
  {
   "cell_type": "code",
   "execution_count": null,
   "metadata": {},
   "outputs": [],
   "source": [
    "datas_rate_beer = [df_rate_beer_beers,df_rate_beer_breweries,df_rate_beer_users,df_rate_beer_ratings,df_rate_beer_reviews]\n",
    "datas_matched_beer = [df_matched_beer_beers,df_matched_beer_breweries,df_matched_beer_ratings_ba,df_matched_beer_ratings_rb,df_matched_beer_ratings,df_matched_beer_users_approx,df_matched_beer_users]\n",
    "datas_advocate_beer = [df_advocate_beers,df_advocate_breweries,df_advocate_ratings,df_advocate_reviews,df_advocate_users]"
   ]
  },
  {
   "cell_type": "code",
   "execution_count": null,
   "metadata": {},
   "outputs": [],
   "source": [
    "#Saving datas\n",
    "save_datas('RateBeer', datas_rate_beer,datas_rate_beer_names)\n",
    "save_datas('matched_beer_data', datas_matched_beer,datas_matched_beer_names)"
   ]
  },
  {
   "cell_type": "markdown",
   "metadata": {},
   "source": [
    "# Initial data analysis"
   ]
  },
  {
   "cell_type": "markdown",
   "metadata": {},
   "source": [
    "## Analysis of the distribution\n",
    " 1. Beer Advocate"
   ]
  },
  {
   "cell_type": "code",
   "execution_count": null,
   "metadata": {},
   "outputs": [],
   "source": [
    "Advocate_users_per_country = deepcopy(pd.DataFrame(df_advocate_users.groupby('location')['user_id'].count()))\n",
    "Advocate_users_per_country.columns = ['nb_users']\n",
    "Advocate_users_per_country.sort_values(ascending=False, by='nb_users', inplace=True)\n",
    "Advocate_users_per_country[Advocate_users_per_country.index.str.startswith('United States')].agg('sum')\n",
    "\n",
    "Advocate_users_per_country.loc['United States', 'nb_users'] = Advocate_users_per_country[\n",
    "    Advocate_users_per_country.index.str.startswith('United')\n",
    "]['nb_users'].sum()\n",
    "Advocate_users_per_country.drop(labels=Advocate_users_per_country[Advocate_users_per_country.index.str.startswith('United States,')].index, inplace=True)\n",
    "Advocate_users_per_country.sort_values(ascending=False, by='nb_users', inplace=True)    "
   ]
  },
  {
   "cell_type": "code",
   "execution_count": null,
   "metadata": {},
   "outputs": [],
   "source": [
    "sns.barplot(x=Advocate_users_per_country.index[:10], y=Advocate_users_per_country['nb_users'][:10])\n",
    "plt.title('Number of users per country for BeerAdvocate')\n",
    "plt.ylabel('Number of users')\n",
    "plt.semilogy()\n",
    "plt.xticks(rotation=45)\n",
    "plt.show()"
   ]
  },
  {
   "cell_type": "code",
   "execution_count": null,
   "metadata": {},
   "outputs": [],
   "source": [
    "plt.hist(data=df_advocate_users, x='nbr_ratings', bins=100000, cumulative=-1, histtype='step')\n",
    "plt.title('Cumulative histogram of the number of ratings per user for BeerAdvocate')\n",
    "plt.xlabel('Number of users')\n",
    "plt.ylabel('Number of ratings')\n",
    "plt.loglog()\n",
    "plt.show()"
   ]
  },
  {
   "cell_type": "code",
   "execution_count": null,
   "metadata": {},
   "outputs": [],
   "source": [
    "# Define the power law function\n",
    "def power_law(x, alpha):\n",
    "    return x**(-alpha)"
   ]
  },
  {
   "cell_type": "code",
   "execution_count": null,
   "metadata": {},
   "outputs": [],
   "source": [
    "fit = powerlaw.Fit(df_advocate_users['nbr_ratings'].values)\n",
    "\n",
    "print('alpha =', fit.alpha)\n",
    "\n",
    "# R: loglikelihood ratio of the two distributions if positive the first distribution is better\n",
    "R, p = fit.distribution_compare('power_law', 'exponential', normalized_ratio=True)\n",
    "print('R =', R)\n",
    "print('p =', p)\n",
    "\n",
    "powerlaw.plot_pdf(df_advocate_users['nbr_ratings'].values, color='b')\n",
    "fit.power_law.plot_pdf(color='r', linestyle='--')\n",
    "\n",
    "plt.title('Power law distribution of the number of ratings per user for Beer Advocate')\n",
    "plt.xlabel('Number of ratings')\n",
    "plt.ylabel('Probability density')\n",
    "plt.show()"
   ]
  },
  {
   "cell_type": "markdown",
   "metadata": {},
   "source": [
    "2. Rate Beer"
   ]
  },
  {
   "cell_type": "code",
   "execution_count": null,
   "metadata": {},
   "outputs": [],
   "source": [
    "rate_beer_users_per_country = deepcopy(pd.DataFrame(df_rate_beer_users.groupby('location')['user_id'].count()))\n",
    "rate_beer_users_per_country.columns = ['nb_users']\n",
    "rate_beer_users_per_country.sort_values(ascending=False, by='nb_users', inplace=True)\n",
    "\n",
    "rate_beer_users_per_country.loc['United States', 'nb_users'] = rate_beer_users_per_country[\n",
    "    rate_beer_users_per_country.index.str.startswith('United')\n",
    "]['nb_users'].sum()\n",
    "rate_beer_users_per_country.drop(labels=rate_beer_users_per_country[rate_beer_users_per_country.index.str.startswith('United States,')].index, inplace=True)\n",
    "rate_beer_users_per_country.sort_values(ascending=False, by='nb_users', inplace=True)   "
   ]
  },
  {
   "cell_type": "code",
   "execution_count": null,
   "metadata": {},
   "outputs": [],
   "source": [
    "sns.barplot(x=rate_beer_users_per_country.index[:10], y=rate_beer_users_per_country['nb_users'][:10])\n",
    "plt.title('Number of users per country for Matched Beer')\n",
    "plt.ylabel('Number of users')\n",
    "plt.semilogy()\n",
    "plt.xticks(rotation=45)\n",
    "plt.show()"
   ]
  },
  {
   "cell_type": "code",
   "execution_count": null,
   "metadata": {},
   "outputs": [],
   "source": [
    "plt.hist(data=df_rate_beer_users, x='nbr_ratings', bins=100000, cumulative=-1, histtype='step')\n",
    "plt.title('Cumulative histogram of the number of ratings per user for Rate Beer')\n",
    "plt.xlabel('Number of users')\n",
    "plt.ylabel('Number of ratings')\n",
    "plt.loglog()\n",
    "plt.show()"
   ]
  },
  {
   "cell_type": "code",
   "execution_count": null,
   "metadata": {},
   "outputs": [],
   "source": [
    "fit = powerlaw.Fit(df_rate_beer_users['nbr_ratings'].values)\n",
    "\n",
    "print('alpha =', fit.alpha)\n",
    "\n",
    "# R: loglikelihood ratio of the two distributions if positive the first distribution is better\n",
    "R, p = fit.distribution_compare('power_law', 'exponential', normalized_ratio=True)\n",
    "print('R =', R)\n",
    "print('p =', p)\n",
    "\n",
    "powerlaw.plot_pdf(df_rate_beer_users['nbr_ratings'].values, color='b')\n",
    "fit.power_law.plot_pdf(color='r', linestyle='--')\n",
    "\n",
    "plt.title('Power law distribution of the number of ratings per user for RateBeer')\n",
    "plt.xlabel('Number of ratings')\n",
    "plt.ylabel('Probability density')\n",
    "plt.show()"
   ]
  }
 ],
 "metadata": {
  "kernelspec": {
   "display_name": "Python 3 (ipykernel)",
   "language": "python",
   "name": "python3"
  },
  "language_info": {
   "codemirror_mode": {
    "name": "ipython",
    "version": 3
   },
   "file_extension": ".py",
   "mimetype": "text/x-python",
   "name": "python",
   "nbconvert_exporter": "python",
   "pygments_lexer": "ipython3",
   "version": "3.12.0"
  }
 },
 "nbformat": 4,
 "nbformat_minor": 2
}
