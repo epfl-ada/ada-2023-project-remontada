{
 "cells": [
  {
   "cell_type": "markdown",
   "metadata": {},
   "source": [
    "#### Analysis of the average of ratings between expert and casual per year"
   ]
  },
  {
   "cell_type": "code",
   "execution_count": null,
   "metadata": {},
   "outputs": [],
   "source": [
    "avg_ratings_expert = []\n",
    "avg_ratings_normal = []\n",
    "ttest_expert_normal = []\n",
    "\n",
    "# Only take care of data after 2002 (not relevant before due to the lack of data and misunderstanding of which user can be expert or not)\n",
    "interest_years = sorted([year for year in df_ratings_stat.year.unique() if year > 2002])\n",
    "\n",
    "for year in interest_years:\n",
    "    df_expert_year = df_ratings_stat_expert.query('year == @year')\n",
    "    df_ratings_stat_year = df_ratings_stat.query('year == @year')\n",
    "    expert_of_the_year = df_expert_year[df_expert_year.is_expert].user_id\n",
    "    avg_expert = df_ratings_stat_year[df_ratings_stat_year['user_id'].isin(expert_of_the_year)]['rating'].mean()\n",
    "    avg_normal = df_ratings_stat_year[~df_ratings_stat_year['user_id'].isin(expert_of_the_year)]['rating'].mean()\n",
    "    t_stat, p_val = stats.ttest_ind(df_ratings_stat_year[df_ratings_stat_year['user_id'].isin(expert_of_the_year)]['rating'], df_ratings_stat_year[~df_ratings_stat_year['user_id'].isin(expert_of_the_year)]['rating'])\n",
    "    ttest_expert_normal.append(t_stat)\n",
    "    print(f'Ttest: Do the ratings of casual and expert are the same in {year} ? p-value = {p_val}, stat = {t_stat}')\n",
    "    avg_ratings_expert.append(avg_expert)\n",
    "    avg_ratings_normal.append(avg_normal)"
   ]
  },
  {
   "cell_type": "code",
   "execution_count": null,
   "metadata": {},
   "outputs": [],
   "source": [
    "# Plot\n",
    "bar_width = 0.35\n",
    "fig, ax = plt.subplots()\n",
    "\n",
    "bar_positions1 = np.arange(len(avg_ratings_expert))\n",
    "bar_positions2 = bar_positions1 + bar_width\n",
    "\n",
    "ax.bar(bar_positions1, avg_ratings_normal, width=bar_width, label='Casual', color='blue', alpha=0.7)\n",
    "ax.bar(bar_positions2, avg_ratings_expert, width=bar_width, label='Expert', color='red', alpha=0.7)\n",
    "\n",
    "ax.set_xlabel('Years')\n",
    "ax.set_ylabel('Average ratings')\n",
    "ax.set_title('Average of ratings between expert and casual per year ')\n",
    "ax.set_xticks(bar_positions1 + bar_width / 2)\n",
    "ax.set_xticklabels(interest_years, rotation=45, ha='right')\n",
    "\n",
    "y_min = min(min(avg_ratings_normal), min(avg_ratings_expert)) - 1 \n",
    "y_max = max(max(avg_ratings_normal), max(avg_ratings_expert)) + 1 \n",
    "ax.set_ylim(y_min, y_max)\n",
    "ax.legend()\n",
    "\n",
    "plt.show()"
   ]
  },
  {
   "cell_type": "markdown",
   "metadata": {},
   "source": [
    "The plot shows that the user considered as expert tend to be more severe concerning the global rating of a beer. We clearly observe that for every year the average of ratings of expert are always below the casual ones."
   ]
  },
  {
   "cell_type": "markdown",
   "metadata": {},
   "source": [
    "#### Try to find a beer which have been rated by expert and casual stricly at different years in order to identify if an expert tends to influence the ratings or not"
   ]
  },
  {
   "cell_type": "markdown",
   "metadata": {},
   "source": [
    "Step 1: Find all beers which have been rated by both casual and expert"
   ]
  },
  {
   "cell_type": "code",
   "execution_count": null,
   "metadata": {},
   "outputs": [],
   "source": [
    "# Retrieve the ids of all expert user\n",
    "expert_user_id = df_ratings_stat_expert[df_ratings_stat_expert.is_expert].user_id\n",
    "# Separate ratings in expert and casual\n",
    "df_expert_ratings = df_ratings_stat[df_ratings_stat['user_id'].isin(expert_user_id)]\n",
    "df_casual_ratings = df_ratings_stat[~df_ratings_stat['user_id'].isin(expert_user_id)]\n",
    "\n",
    "# Find all beer that has been rated at least once by an expert\n",
    "beer_rated_by_expert = df_expert_ratings['beer_id'].unique()\n",
    "# Find all beer that has been rated at least once by a casual\n",
    "beer_rated_by_casual = df_casual_ratings['beer_id'].unique()\n",
    "\n",
    "print(f'Total of different beer rated on the both websites : {len(df_ratings_stat.beer_id.unique())}')\n",
    "print(f'expert have rated {len(beer_rated_by_expert)} different beers')\n",
    "print(f'casual user have rated {len(beer_rated_by_casual)} different beers')\n",
    "\n",
    "beer_ids_rated_by_both = list(set(beer_rated_by_casual).intersection(set(beer_rated_by_expert)))\n",
    "print(f'intersection, number of beers which have been rated by casual and expert : {len(beer_ids_rated_by_both)}')"
   ]
  },
  {
   "cell_type": "markdown",
   "metadata": {},
   "source": [
    "Step 2: Find all beers which have been rated by an expert and a casual not the same year"
   ]
  },
  {
   "cell_type": "code",
   "execution_count": null,
   "metadata": {},
   "outputs": [],
   "source": [
    "# Only take beers which have been rated by both\n",
    "beer_rated_by_expert_filtered = df_expert_ratings[df_expert_ratings['beer_id'].isin(beer_ids_rated_by_both)]\n",
    "beer_rated_by_casual_filtered = df_casual_ratings[df_casual_ratings['beer_id'].isin(beer_ids_rated_by_both)]\n",
    "\n",
    "# Select only the useful features for the task\n",
    "beer_rated_by_expert_compact = beer_rated_by_expert_filtered[['beer_id', 'rating', 'year']]\n",
    "beer_rated_by_casual_compact = beer_rated_by_casual_filtered[['beer_id', 'rating', 'year']]\n",
    "\n",
    "# Add is_expert column to dataframe\n",
    "beer_rated_by_expert_compact.loc[:, 'is_expert'] = True\n",
    "beer_rated_by_casual_compact.loc[:, 'is_expert'] = False\n",
    "\n",
    "# Concatenate the ratings of expert and casual\n",
    "beer_rated_by_expert_casual = pd.concat([beer_rated_by_expert_compact, beer_rated_by_casual_compact])\n",
    "# Only take care of data after 2002\n",
    "beer_rated_by_expert_casual = beer_rated_by_expert_casual.query('year > 2002')"
   ]
  },
  {
   "cell_type": "code",
   "execution_count": null,
   "metadata": {},
   "outputs": [],
   "source": [
    "# Search for all beers which have been rated by casual and expert in a same year\n",
    "# Group by 'beer_id', 'year', and 'is_expert' and count the occurrences\n",
    "grouped_df = beer_rated_by_expert_casual.groupby(['beer_id', 'year', 'is_expert']).size().reset_index(name='count')\n",
    "filtered_df = grouped_df[(grouped_df['count'] > 1) & ((grouped_df['is_expert'] == True) | (grouped_df['is_expert'] == False))]\n",
    "beer_ids_to_remove = filtered_df['beer_id'].unique().tolist()\n",
    "\n",
    "# Number of beers which have been mutually rated at least 1 year by an expert and casual\n",
    "print(len(beer_ids_to_remove))\n",
    "\n",
    "# Remove these beers\n",
    "beer_rated_by_expert_casual_different_year = beer_rated_by_expert_casual_filtered[~beer_rated_by_expert_casual_filtered['beer_id'].isin(beer_ids_to_remove)]\n",
    "beer_rated_by_expert_casual_different_year"
   ]
  },
  {
   "cell_type": "code",
   "execution_count": null,
   "metadata": {},
   "outputs": [],
   "source": [
    "# Find the beer which has been rated the most different years by either a casual or expert\n",
    "\n",
    "# Group by 'beer_id' and count the number of unique years\n",
    "beer_years_count = beer_rated_by_expert_casual_different_year.groupby('beer_id')['year'].nunique()\n",
    "\n",
    "# Find the beer_id with the maximum number of unique years\n",
    "most_rated_beer_id = beer_years_count.idxmax()\n",
    "\n",
    "# See if it is relevant to take this beer\n",
    "beer_rated_by_expert_casual_different_year[beer_rated_by_expert_casual_different_year['beer_id'] == most_rated_beer_id]"
   ]
  },
  {
   "cell_type": "code",
   "execution_count": null,
   "metadata": {},
   "outputs": [],
   "source": [
    "most_rated_beer_name = df_ratings_stat[df_ratings_stat['beer_id'] == most_rated_beer_id].iloc[0][0]\n",
    "\n",
    "print(f'Beer id with the most ratings over the years by expert and casual where non of them rated it the same year: {most_rated_beer_id}')\n",
    "print(f'Beer name : {most_rated_beer_name}')"
   ]
  },
  {
   "cell_type": "code",
   "execution_count": null,
   "metadata": {},
   "outputs": [],
   "source": [
    "df_most_rated_beer = beer_rated_by_expert_casual_different_year[beer_rated_by_expert_casual_different_year['beer_id'] \n",
    "                                                                == most_rated_beer_id].groupby(['year', 'is_expert'])['rating'].mean().reset_index()"
   ]
  },
  {
   "cell_type": "code",
   "execution_count": null,
   "metadata": {},
   "outputs": [],
   "source": [
    "# Plot version 1\n",
    "sns.set(style=\"whitegrid\")\n",
    "sns.lineplot(data=df_most_rated_beer, x='year', y='rating', hue='is_expert', marker='o')\n",
    "plt.xlabel('Year')\n",
    "plt.ylabel('Average rating')\n",
    "plt.title(f'Average rating of the beer {most_rated_beer_name} by casual and expert at different year')\n",
    "plt.show()"
   ]
  },
  {
   "cell_type": "code",
   "execution_count": null,
   "metadata": {},
   "outputs": [],
   "source": [
    "# Plot version 2\n",
    "sns.set(style=\"whitegrid\")\n",
    "sns.scatterplot(data=df_most_rated_beer, x='year', y='rating', hue='is_expert', style='is_expert', s=100)\n",
    "plt.xlabel('Year')\n",
    "plt.ylabel('Average rating')\n",
    "plt.title(f'Average rating of the beer {most_rated_beer_name} by casual and expert at different year')\n",
    "plt.show()"
   ]
  },
  {
   "cell_type": "markdown",
   "metadata": {},
   "source": [
    "The graph suggests that the rating of experts in 2012 could have influenced the ratings of casuals in 2013 as well as the rating of 2014 which could have influenced the ratings of casuals in 2016 and 2017. However, it is difficult to ensure that expert have an impact on the ratings of the casual users as we can also see on the plot that in 2011, the casual users rated a beer way better than the experts rated it in 2010."
   ]
  },
  {
   "cell_type": "markdown",
   "metadata": {},
   "source": []
  }
 ],
 "metadata": {
  "kernelspec": {
   "display_name": "Python 3",
   "language": "python",
   "name": "python3"
  },
  "language_info": {
   "codemirror_mode": {
    "name": "ipython",
    "version": 3
   },
   "file_extension": ".py",
   "mimetype": "text/x-python",
   "name": "python",
   "nbconvert_exporter": "python",
   "pygments_lexer": "ipython3",
   "version": "3.9.18"
  }
 },
 "nbformat": 4,
 "nbformat_minor": 2
}
